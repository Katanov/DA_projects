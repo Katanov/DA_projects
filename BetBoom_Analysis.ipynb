{
  "nbformat": 4,
  "nbformat_minor": 0,
  "metadata": {
    "colab": {
      "name": "BetBoom-Analysis.ipynb",
      "provenance": [],
      "mount_file_id": "1GpcQ0hDBUqJjIM1hkk-upaV_csQaeS65",
      "authorship_tag": "ABX9TyPACeAxrd9Ov0F3MqzWTs2Q"
    },
    "kernelspec": {
      "name": "python3",
      "display_name": "Python 3"
    },
    "language_info": {
      "name": "python"
    }
  },
  "cells": [
    {
      "cell_type": "markdown",
      "metadata": {
        "id": "JU1jEkG2C9g0"
      },
      "source": [
        "## Анализ базы данных клиентов BetBoom"
      ]
    },
    {
      "cell_type": "markdown",
      "metadata": {
        "id": "aQ8vKA9sDYq5"
      },
      "source": [
        "- В ходе анализа данных выявили ключевые переменные, которые оказывают наиболее значительное влияние на повторное посещение клуба и на средний размер проигрыша за посещение.\n",
        "- Применили модели машинного обучения для выявления клиентов уходящих в отток.\n",
        "- Применили модель, аналог RFM-score, для сегментации клиентов по вероятности повторного посещения клуба.\n",
        "- Сформировали ряд гипотез по оптимизации привлечения и удержания клиентов."
      ]
    },
    {
      "cell_type": "markdown",
      "metadata": {
        "id": "1bxecA0EDLSz"
      },
      "source": [
        "## 1. Загрузка данных, библиотек и первичная предобработка"
      ]
    },
    {
      "cell_type": "code",
      "metadata": {
        "id": "GFp-tF2wB4hj"
      },
      "source": [
        "import pandas as pd\n",
        "import matplotlib.pyplot as plt\n",
        "import numpy as np\n",
        "import seaborn as sns\n",
        "from sklearn.preprocessing import StandardScaler\n",
        "from sklearn.model_selection import train_test_split\n",
        "from sklearn.ensemble import RandomForestClassifier\n",
        "from sklearn.linear_model import LogisticRegression\n",
        "from scipy.cluster.hierarchy import dendrogram, linkage \n",
        "from sklearn.cluster import KMeans\n",
        "from sklearn.metrics import mean_absolute_error, mean_squared_error, r2_score\n",
        "from sklearn.metrics import accuracy_score, precision_score, recall_score, f1_score, roc_auc_score\n",
        "import warnings\n",
        "warnings.filterwarnings(\"ignore\")"
      ],
      "execution_count": 253,
      "outputs": []
    },
    {
      "cell_type": "code",
      "metadata": {
        "id": "-z5vCrJ7CCgk"
      },
      "source": [
        "df = pd.read_csv('/content/drive/MyDrive/Новички_задание - Лист1 (2).csv')"
      ],
      "execution_count": 254,
      "outputs": []
    },
    {
      "cell_type": "code",
      "metadata": {
        "id": "OqrFngzI_7ON"
      },
      "source": [
        "df.columns = df.columns.str.replace(' ', '')"
      ],
      "execution_count": 255,
      "outputs": []
    },
    {
      "cell_type": "code",
      "metadata": {
        "colab": {
          "base_uri": "https://localhost:8080/"
        },
        "id": "TPpgzfU_CNck",
        "outputId": "5367130d-41fb-4589-bee4-1cfc3777a37d"
      },
      "source": [
        "df.info()"
      ],
      "execution_count": 256,
      "outputs": [
        {
          "output_type": "stream",
          "text": [
            "<class 'pandas.core.frame.DataFrame'>\n",
            "RangeIndex: 83038 entries, 0 to 83037\n",
            "Data columns (total 13 columns):\n",
            " #   Column            Non-Null Count  Dtype \n",
            "---  ------            --------------  ----- \n",
            " 0   id                83038 non-null  int64 \n",
            " 1   loss_first_visit  83038 non-null  int64 \n",
            " 2   in_first_visit    83038 non-null  int64 \n",
            " 3   bet_with_bonus    83038 non-null  int64 \n",
            " 4   deposit           83038 non-null  int64 \n",
            " 5   moneywithdrawal   83038 non-null  int64 \n",
            " 6   club_number       83038 non-null  object\n",
            " 7   1_day             83038 non-null  object\n",
            " 8   2_day             35431 non-null  object\n",
            " 9   max_day           35431 non-null  object\n",
            " 10  visits            83038 non-null  int64 \n",
            " 11  all_losses        83038 non-null  int64 \n",
            " 12  expected_losses   83038 non-null  int64 \n",
            "dtypes: int64(9), object(4)\n",
            "memory usage: 8.2+ MB\n"
          ],
          "name": "stdout"
        }
      ]
    },
    {
      "cell_type": "code",
      "metadata": {
        "id": "fLZ7qcKvD_cl"
      },
      "source": [
        "df.max_day = pd.to_datetime(df.max_day)\n",
        "df['1_day'] = pd.to_datetime(df['1_day'])\n",
        "df['2_day'] = pd.to_datetime(df['2_day'])"
      ],
      "execution_count": 257,
      "outputs": []
    },
    {
      "cell_type": "code",
      "metadata": {
        "colab": {
          "base_uri": "https://localhost:8080/",
          "height": 218
        },
        "id": "WzfUFdIRggzD",
        "outputId": "55f2b991-0b91-4bd5-e025-36138fdda5c2"
      },
      "source": [
        "corr = df.corr()\n",
        "corr.style.background_gradient(cmap='coolwarm')"
      ],
      "execution_count": 258,
      "outputs": [
        {
          "output_type": "execute_result",
          "data": {
            "text/html": [
              "<style  type=\"text/css\" >\n",
              "#T_cdfb11dc_c0a4_11eb_bb6e_0242ac1c0002row0_col0,#T_cdfb11dc_c0a4_11eb_bb6e_0242ac1c0002row1_col1,#T_cdfb11dc_c0a4_11eb_bb6e_0242ac1c0002row2_col2,#T_cdfb11dc_c0a4_11eb_bb6e_0242ac1c0002row3_col3,#T_cdfb11dc_c0a4_11eb_bb6e_0242ac1c0002row4_col4,#T_cdfb11dc_c0a4_11eb_bb6e_0242ac1c0002row5_col5,#T_cdfb11dc_c0a4_11eb_bb6e_0242ac1c0002row6_col6,#T_cdfb11dc_c0a4_11eb_bb6e_0242ac1c0002row7_col7,#T_cdfb11dc_c0a4_11eb_bb6e_0242ac1c0002row8_col8{\n",
              "            background-color:  #b40426;\n",
              "            color:  #f1f1f1;\n",
              "        }#T_cdfb11dc_c0a4_11eb_bb6e_0242ac1c0002row0_col1{\n",
              "            background-color:  #85a8fc;\n",
              "            color:  #000000;\n",
              "        }#T_cdfb11dc_c0a4_11eb_bb6e_0242ac1c0002row0_col2,#T_cdfb11dc_c0a4_11eb_bb6e_0242ac1c0002row0_col8,#T_cdfb11dc_c0a4_11eb_bb6e_0242ac1c0002row2_col0,#T_cdfb11dc_c0a4_11eb_bb6e_0242ac1c0002row6_col0,#T_cdfb11dc_c0a4_11eb_bb6e_0242ac1c0002row8_col0{\n",
              "            background-color:  #3d50c3;\n",
              "            color:  #f1f1f1;\n",
              "        }#T_cdfb11dc_c0a4_11eb_bb6e_0242ac1c0002row0_col3{\n",
              "            background-color:  #465ecf;\n",
              "            color:  #f1f1f1;\n",
              "        }#T_cdfb11dc_c0a4_11eb_bb6e_0242ac1c0002row0_col4{\n",
              "            background-color:  #3c4ec2;\n",
              "            color:  #f1f1f1;\n",
              "        }#T_cdfb11dc_c0a4_11eb_bb6e_0242ac1c0002row0_col5{\n",
              "            background-color:  #82a6fb;\n",
              "            color:  #000000;\n",
              "        }#T_cdfb11dc_c0a4_11eb_bb6e_0242ac1c0002row0_col6{\n",
              "            background-color:  #445acc;\n",
              "            color:  #f1f1f1;\n",
              "        }#T_cdfb11dc_c0a4_11eb_bb6e_0242ac1c0002row0_col7,#T_cdfb11dc_c0a4_11eb_bb6e_0242ac1c0002row1_col0,#T_cdfb11dc_c0a4_11eb_bb6e_0242ac1c0002row3_col0,#T_cdfb11dc_c0a4_11eb_bb6e_0242ac1c0002row7_col0{\n",
              "            background-color:  #3e51c5;\n",
              "            color:  #f1f1f1;\n",
              "        }#T_cdfb11dc_c0a4_11eb_bb6e_0242ac1c0002row1_col2{\n",
              "            background-color:  #ead4c8;\n",
              "            color:  #000000;\n",
              "        }#T_cdfb11dc_c0a4_11eb_bb6e_0242ac1c0002row1_col3{\n",
              "            background-color:  #3f53c6;\n",
              "            color:  #f1f1f1;\n",
              "        }#T_cdfb11dc_c0a4_11eb_bb6e_0242ac1c0002row1_col4{\n",
              "            background-color:  #f5c1a9;\n",
              "            color:  #000000;\n",
              "        }#T_cdfb11dc_c0a4_11eb_bb6e_0242ac1c0002row1_col5,#T_cdfb11dc_c0a4_11eb_bb6e_0242ac1c0002row3_col2,#T_cdfb11dc_c0a4_11eb_bb6e_0242ac1c0002row3_col4,#T_cdfb11dc_c0a4_11eb_bb6e_0242ac1c0002row3_col6,#T_cdfb11dc_c0a4_11eb_bb6e_0242ac1c0002row3_col7,#T_cdfb11dc_c0a4_11eb_bb6e_0242ac1c0002row3_col8,#T_cdfb11dc_c0a4_11eb_bb6e_0242ac1c0002row4_col0,#T_cdfb11dc_c0a4_11eb_bb6e_0242ac1c0002row5_col0,#T_cdfb11dc_c0a4_11eb_bb6e_0242ac1c0002row5_col1,#T_cdfb11dc_c0a4_11eb_bb6e_0242ac1c0002row6_col3{\n",
              "            background-color:  #3b4cc0;\n",
              "            color:  #f1f1f1;\n",
              "        }#T_cdfb11dc_c0a4_11eb_bb6e_0242ac1c0002row1_col6,#T_cdfb11dc_c0a4_11eb_bb6e_0242ac1c0002row5_col3{\n",
              "            background-color:  #4961d2;\n",
              "            color:  #f1f1f1;\n",
              "        }#T_cdfb11dc_c0a4_11eb_bb6e_0242ac1c0002row1_col7{\n",
              "            background-color:  #b7cff9;\n",
              "            color:  #000000;\n",
              "        }#T_cdfb11dc_c0a4_11eb_bb6e_0242ac1c0002row1_col8{\n",
              "            background-color:  #b6cefa;\n",
              "            color:  #000000;\n",
              "        }#T_cdfb11dc_c0a4_11eb_bb6e_0242ac1c0002row2_col1{\n",
              "            background-color:  #f7bca1;\n",
              "            color:  #000000;\n",
              "        }#T_cdfb11dc_c0a4_11eb_bb6e_0242ac1c0002row2_col3{\n",
              "            background-color:  #4257c9;\n",
              "            color:  #f1f1f1;\n",
              "        }#T_cdfb11dc_c0a4_11eb_bb6e_0242ac1c0002row2_col4,#T_cdfb11dc_c0a4_11eb_bb6e_0242ac1c0002row4_col2{\n",
              "            background-color:  #e67259;\n",
              "            color:  #000000;\n",
              "        }#T_cdfb11dc_c0a4_11eb_bb6e_0242ac1c0002row2_col5{\n",
              "            background-color:  #e0dbd8;\n",
              "            color:  #000000;\n",
              "        }#T_cdfb11dc_c0a4_11eb_bb6e_0242ac1c0002row2_col6{\n",
              "            background-color:  #5875e1;\n",
              "            color:  #000000;\n",
              "        }#T_cdfb11dc_c0a4_11eb_bb6e_0242ac1c0002row2_col7,#T_cdfb11dc_c0a4_11eb_bb6e_0242ac1c0002row7_col2{\n",
              "            background-color:  #d6dce4;\n",
              "            color:  #000000;\n",
              "        }#T_cdfb11dc_c0a4_11eb_bb6e_0242ac1c0002row2_col8,#T_cdfb11dc_c0a4_11eb_bb6e_0242ac1c0002row8_col2{\n",
              "            background-color:  #d5dbe5;\n",
              "            color:  #000000;\n",
              "        }#T_cdfb11dc_c0a4_11eb_bb6e_0242ac1c0002row3_col1{\n",
              "            background-color:  #80a3fa;\n",
              "            color:  #000000;\n",
              "        }#T_cdfb11dc_c0a4_11eb_bb6e_0242ac1c0002row3_col5{\n",
              "            background-color:  #89acfd;\n",
              "            color:  #000000;\n",
              "        }#T_cdfb11dc_c0a4_11eb_bb6e_0242ac1c0002row4_col1{\n",
              "            background-color:  #f7a889;\n",
              "            color:  #000000;\n",
              "        }#T_cdfb11dc_c0a4_11eb_bb6e_0242ac1c0002row4_col3{\n",
              "            background-color:  #4055c8;\n",
              "            color:  #f1f1f1;\n",
              "        }#T_cdfb11dc_c0a4_11eb_bb6e_0242ac1c0002row4_col5{\n",
              "            background-color:  #eed0c0;\n",
              "            color:  #000000;\n",
              "        }#T_cdfb11dc_c0a4_11eb_bb6e_0242ac1c0002row4_col6,#T_cdfb11dc_c0a4_11eb_bb6e_0242ac1c0002row5_col6{\n",
              "            background-color:  #516ddb;\n",
              "            color:  #000000;\n",
              "        }#T_cdfb11dc_c0a4_11eb_bb6e_0242ac1c0002row4_col7{\n",
              "            background-color:  #cbd8ee;\n",
              "            color:  #000000;\n",
              "        }#T_cdfb11dc_c0a4_11eb_bb6e_0242ac1c0002row4_col8{\n",
              "            background-color:  #cedaeb;\n",
              "            color:  #000000;\n",
              "        }#T_cdfb11dc_c0a4_11eb_bb6e_0242ac1c0002row5_col2{\n",
              "            background-color:  #b9d0f9;\n",
              "            color:  #000000;\n",
              "        }#T_cdfb11dc_c0a4_11eb_bb6e_0242ac1c0002row5_col4{\n",
              "            background-color:  #d2dbe8;\n",
              "            color:  #000000;\n",
              "        }#T_cdfb11dc_c0a4_11eb_bb6e_0242ac1c0002row5_col7{\n",
              "            background-color:  #5572df;\n",
              "            color:  #000000;\n",
              "        }#T_cdfb11dc_c0a4_11eb_bb6e_0242ac1c0002row5_col8{\n",
              "            background-color:  #5977e3;\n",
              "            color:  #000000;\n",
              "        }#T_cdfb11dc_c0a4_11eb_bb6e_0242ac1c0002row6_col1{\n",
              "            background-color:  #88abfd;\n",
              "            color:  #000000;\n",
              "        }#T_cdfb11dc_c0a4_11eb_bb6e_0242ac1c0002row6_col2{\n",
              "            background-color:  #506bda;\n",
              "            color:  #000000;\n",
              "        }#T_cdfb11dc_c0a4_11eb_bb6e_0242ac1c0002row6_col4{\n",
              "            background-color:  #4b64d5;\n",
              "            color:  #f1f1f1;\n",
              "        }#T_cdfb11dc_c0a4_11eb_bb6e_0242ac1c0002row6_col5{\n",
              "            background-color:  #90b2fe;\n",
              "            color:  #000000;\n",
              "        }#T_cdfb11dc_c0a4_11eb_bb6e_0242ac1c0002row6_col7{\n",
              "            background-color:  #9bbcff;\n",
              "            color:  #000000;\n",
              "        }#T_cdfb11dc_c0a4_11eb_bb6e_0242ac1c0002row6_col8{\n",
              "            background-color:  #a7c5fe;\n",
              "            color:  #000000;\n",
              "        }#T_cdfb11dc_c0a4_11eb_bb6e_0242ac1c0002row7_col1{\n",
              "            background-color:  #dfdbd9;\n",
              "            color:  #000000;\n",
              "        }#T_cdfb11dc_c0a4_11eb_bb6e_0242ac1c0002row7_col3,#T_cdfb11dc_c0a4_11eb_bb6e_0242ac1c0002row8_col3{\n",
              "            background-color:  #4358cb;\n",
              "            color:  #f1f1f1;\n",
              "        }#T_cdfb11dc_c0a4_11eb_bb6e_0242ac1c0002row7_col4{\n",
              "            background-color:  #ccd9ed;\n",
              "            color:  #000000;\n",
              "        }#T_cdfb11dc_c0a4_11eb_bb6e_0242ac1c0002row7_col5{\n",
              "            background-color:  #9abbff;\n",
              "            color:  #000000;\n",
              "        }#T_cdfb11dc_c0a4_11eb_bb6e_0242ac1c0002row7_col6{\n",
              "            background-color:  #a2c1ff;\n",
              "            color:  #000000;\n",
              "        }#T_cdfb11dc_c0a4_11eb_bb6e_0242ac1c0002row7_col8,#T_cdfb11dc_c0a4_11eb_bb6e_0242ac1c0002row8_col7{\n",
              "            background-color:  #d85646;\n",
              "            color:  #000000;\n",
              "        }#T_cdfb11dc_c0a4_11eb_bb6e_0242ac1c0002row8_col1{\n",
              "            background-color:  #dedcdb;\n",
              "            color:  #000000;\n",
              "        }#T_cdfb11dc_c0a4_11eb_bb6e_0242ac1c0002row8_col4{\n",
              "            background-color:  #cfdaea;\n",
              "            color:  #000000;\n",
              "        }#T_cdfb11dc_c0a4_11eb_bb6e_0242ac1c0002row8_col5{\n",
              "            background-color:  #9ebeff;\n",
              "            color:  #000000;\n",
              "        }#T_cdfb11dc_c0a4_11eb_bb6e_0242ac1c0002row8_col6{\n",
              "            background-color:  #aec9fc;\n",
              "            color:  #000000;\n",
              "        }</style><table id=\"T_cdfb11dc_c0a4_11eb_bb6e_0242ac1c0002\" ><thead>    <tr>        <th class=\"blank level0\" ></th>        <th class=\"col_heading level0 col0\" >id</th>        <th class=\"col_heading level0 col1\" >loss_first_visit</th>        <th class=\"col_heading level0 col2\" >in_first_visit</th>        <th class=\"col_heading level0 col3\" >bet_with_bonus</th>        <th class=\"col_heading level0 col4\" >deposit</th>        <th class=\"col_heading level0 col5\" >moneywithdrawal</th>        <th class=\"col_heading level0 col6\" >visits</th>        <th class=\"col_heading level0 col7\" >all_losses</th>        <th class=\"col_heading level0 col8\" >expected_losses</th>    </tr></thead><tbody>\n",
              "                <tr>\n",
              "                        <th id=\"T_cdfb11dc_c0a4_11eb_bb6e_0242ac1c0002level0_row0\" class=\"row_heading level0 row0\" >id</th>\n",
              "                        <td id=\"T_cdfb11dc_c0a4_11eb_bb6e_0242ac1c0002row0_col0\" class=\"data row0 col0\" >1.000000</td>\n",
              "                        <td id=\"T_cdfb11dc_c0a4_11eb_bb6e_0242ac1c0002row0_col1\" class=\"data row0 col1\" >-0.001533</td>\n",
              "                        <td id=\"T_cdfb11dc_c0a4_11eb_bb6e_0242ac1c0002row0_col2\" class=\"data row0 col2\" >-0.004311</td>\n",
              "                        <td id=\"T_cdfb11dc_c0a4_11eb_bb6e_0242ac1c0002row0_col3\" class=\"data row0 col3\" >0.000751</td>\n",
              "                        <td id=\"T_cdfb11dc_c0a4_11eb_bb6e_0242ac1c0002row0_col4\" class=\"data row0 col4\" >-0.012308</td>\n",
              "                        <td id=\"T_cdfb11dc_c0a4_11eb_bb6e_0242ac1c0002row0_col5\" class=\"data row0 col5\" >-0.013634</td>\n",
              "                        <td id=\"T_cdfb11dc_c0a4_11eb_bb6e_0242ac1c0002row0_col6\" class=\"data row0 col6\" >-0.005348</td>\n",
              "                        <td id=\"T_cdfb11dc_c0a4_11eb_bb6e_0242ac1c0002row0_col7\" class=\"data row0 col7\" >0.000173</td>\n",
              "                        <td id=\"T_cdfb11dc_c0a4_11eb_bb6e_0242ac1c0002row0_col8\" class=\"data row0 col8\" >-0.001815</td>\n",
              "            </tr>\n",
              "            <tr>\n",
              "                        <th id=\"T_cdfb11dc_c0a4_11eb_bb6e_0242ac1c0002level0_row1\" class=\"row_heading level0 row1\" >loss_first_visit</th>\n",
              "                        <td id=\"T_cdfb11dc_c0a4_11eb_bb6e_0242ac1c0002row1_col0\" class=\"data row1 col0\" >-0.001533</td>\n",
              "                        <td id=\"T_cdfb11dc_c0a4_11eb_bb6e_0242ac1c0002row1_col1\" class=\"data row1 col1\" >1.000000</td>\n",
              "                        <td id=\"T_cdfb11dc_c0a4_11eb_bb6e_0242ac1c0002row1_col2\" class=\"data row1 col2\" >0.552611</td>\n",
              "                        <td id=\"T_cdfb11dc_c0a4_11eb_bb6e_0242ac1c0002row1_col3\" class=\"data row1 col3\" >-0.021387</td>\n",
              "                        <td id=\"T_cdfb11dc_c0a4_11eb_bb6e_0242ac1c0002row1_col4\" class=\"data row1 col4\" >0.627637</td>\n",
              "                        <td id=\"T_cdfb11dc_c0a4_11eb_bb6e_0242ac1c0002row1_col5\" class=\"data row1 col5\" >-0.298997</td>\n",
              "                        <td id=\"T_cdfb11dc_c0a4_11eb_bb6e_0242ac1c0002row1_col6\" class=\"data row1 col6\" >0.008685</td>\n",
              "                        <td id=\"T_cdfb11dc_c0a4_11eb_bb6e_0242ac1c0002row1_col7\" class=\"data row1 col7\" >0.364155</td>\n",
              "                        <td id=\"T_cdfb11dc_c0a4_11eb_bb6e_0242ac1c0002row1_col8\" class=\"data row1 col8\" >0.359541</td>\n",
              "            </tr>\n",
              "            <tr>\n",
              "                        <th id=\"T_cdfb11dc_c0a4_11eb_bb6e_0242ac1c0002level0_row2\" class=\"row_heading level0 row2\" >in_first_visit</th>\n",
              "                        <td id=\"T_cdfb11dc_c0a4_11eb_bb6e_0242ac1c0002row2_col0\" class=\"data row2 col0\" >-0.004311</td>\n",
              "                        <td id=\"T_cdfb11dc_c0a4_11eb_bb6e_0242ac1c0002row2_col1\" class=\"data row2 col1\" >0.552611</td>\n",
              "                        <td id=\"T_cdfb11dc_c0a4_11eb_bb6e_0242ac1c0002row2_col2\" class=\"data row2 col2\" >1.000000</td>\n",
              "                        <td id=\"T_cdfb11dc_c0a4_11eb_bb6e_0242ac1c0002row2_col3\" class=\"data row2 col3\" >-0.013137</td>\n",
              "                        <td id=\"T_cdfb11dc_c0a4_11eb_bb6e_0242ac1c0002row2_col4\" class=\"data row2 col4\" >0.835606</td>\n",
              "                        <td id=\"T_cdfb11dc_c0a4_11eb_bb6e_0242ac1c0002row2_col5\" class=\"data row2 col5\" >0.368417</td>\n",
              "                        <td id=\"T_cdfb11dc_c0a4_11eb_bb6e_0242ac1c0002row2_col6\" class=\"data row2 col6\" >0.058251</td>\n",
              "                        <td id=\"T_cdfb11dc_c0a4_11eb_bb6e_0242ac1c0002row2_col7\" class=\"data row2 col7\" >0.466663</td>\n",
              "                        <td id=\"T_cdfb11dc_c0a4_11eb_bb6e_0242ac1c0002row2_col8\" class=\"data row2 col8\" >0.464242</td>\n",
              "            </tr>\n",
              "            <tr>\n",
              "                        <th id=\"T_cdfb11dc_c0a4_11eb_bb6e_0242ac1c0002level0_row3\" class=\"row_heading level0 row3\" >bet_with_bonus</th>\n",
              "                        <td id=\"T_cdfb11dc_c0a4_11eb_bb6e_0242ac1c0002row3_col0\" class=\"data row3 col0\" >0.000751</td>\n",
              "                        <td id=\"T_cdfb11dc_c0a4_11eb_bb6e_0242ac1c0002row3_col1\" class=\"data row3 col1\" >-0.021387</td>\n",
              "                        <td id=\"T_cdfb11dc_c0a4_11eb_bb6e_0242ac1c0002row3_col2\" class=\"data row3 col2\" >-0.013137</td>\n",
              "                        <td id=\"T_cdfb11dc_c0a4_11eb_bb6e_0242ac1c0002row3_col3\" class=\"data row3 col3\" >1.000000</td>\n",
              "                        <td id=\"T_cdfb11dc_c0a4_11eb_bb6e_0242ac1c0002row3_col4\" class=\"data row3 col4\" >-0.019482</td>\n",
              "                        <td id=\"T_cdfb11dc_c0a4_11eb_bb6e_0242ac1c0002row3_col5\" class=\"data row3 col5\" >0.010646</td>\n",
              "                        <td id=\"T_cdfb11dc_c0a4_11eb_bb6e_0242ac1c0002row3_col6\" class=\"data row3 col6\" >-0.040860</td>\n",
              "                        <td id=\"T_cdfb11dc_c0a4_11eb_bb6e_0242ac1c0002row3_col7\" class=\"data row3 col7\" >-0.012071</td>\n",
              "                        <td id=\"T_cdfb11dc_c0a4_11eb_bb6e_0242ac1c0002row3_col8\" class=\"data row3 col8\" >-0.012300</td>\n",
              "            </tr>\n",
              "            <tr>\n",
              "                        <th id=\"T_cdfb11dc_c0a4_11eb_bb6e_0242ac1c0002level0_row4\" class=\"row_heading level0 row4\" >deposit</th>\n",
              "                        <td id=\"T_cdfb11dc_c0a4_11eb_bb6e_0242ac1c0002row4_col0\" class=\"data row4 col0\" >-0.012308</td>\n",
              "                        <td id=\"T_cdfb11dc_c0a4_11eb_bb6e_0242ac1c0002row4_col1\" class=\"data row4 col1\" >0.627637</td>\n",
              "                        <td id=\"T_cdfb11dc_c0a4_11eb_bb6e_0242ac1c0002row4_col2\" class=\"data row4 col2\" >0.835606</td>\n",
              "                        <td id=\"T_cdfb11dc_c0a4_11eb_bb6e_0242ac1c0002row4_col3\" class=\"data row4 col3\" >-0.019482</td>\n",
              "                        <td id=\"T_cdfb11dc_c0a4_11eb_bb6e_0242ac1c0002row4_col4\" class=\"data row4 col4\" >1.000000</td>\n",
              "                        <td id=\"T_cdfb11dc_c0a4_11eb_bb6e_0242ac1c0002row4_col5\" class=\"data row4 col5\" >0.448476</td>\n",
              "                        <td id=\"T_cdfb11dc_c0a4_11eb_bb6e_0242ac1c0002row4_col6\" class=\"data row4 col6\" >0.038118</td>\n",
              "                        <td id=\"T_cdfb11dc_c0a4_11eb_bb6e_0242ac1c0002row4_col7\" class=\"data row4 col7\" >0.428266</td>\n",
              "                        <td id=\"T_cdfb11dc_c0a4_11eb_bb6e_0242ac1c0002row4_col8\" class=\"data row4 col8\" >0.438883</td>\n",
              "            </tr>\n",
              "            <tr>\n",
              "                        <th id=\"T_cdfb11dc_c0a4_11eb_bb6e_0242ac1c0002level0_row5\" class=\"row_heading level0 row5\" >moneywithdrawal</th>\n",
              "                        <td id=\"T_cdfb11dc_c0a4_11eb_bb6e_0242ac1c0002row5_col0\" class=\"data row5 col0\" >-0.013634</td>\n",
              "                        <td id=\"T_cdfb11dc_c0a4_11eb_bb6e_0242ac1c0002row5_col1\" class=\"data row5 col1\" >-0.298997</td>\n",
              "                        <td id=\"T_cdfb11dc_c0a4_11eb_bb6e_0242ac1c0002row5_col2\" class=\"data row5 col2\" >0.368417</td>\n",
              "                        <td id=\"T_cdfb11dc_c0a4_11eb_bb6e_0242ac1c0002row5_col3\" class=\"data row5 col3\" >0.010646</td>\n",
              "                        <td id=\"T_cdfb11dc_c0a4_11eb_bb6e_0242ac1c0002row5_col4\" class=\"data row5 col4\" >0.448476</td>\n",
              "                        <td id=\"T_cdfb11dc_c0a4_11eb_bb6e_0242ac1c0002row5_col5\" class=\"data row5 col5\" >1.000000</td>\n",
              "                        <td id=\"T_cdfb11dc_c0a4_11eb_bb6e_0242ac1c0002row5_col6\" class=\"data row5 col6\" >0.038715</td>\n",
              "                        <td id=\"T_cdfb11dc_c0a4_11eb_bb6e_0242ac1c0002row5_col7\" class=\"data row5 col7\" >0.076033</td>\n",
              "                        <td id=\"T_cdfb11dc_c0a4_11eb_bb6e_0242ac1c0002row5_col8\" class=\"data row5 col8\" >0.088688</td>\n",
              "            </tr>\n",
              "            <tr>\n",
              "                        <th id=\"T_cdfb11dc_c0a4_11eb_bb6e_0242ac1c0002level0_row6\" class=\"row_heading level0 row6\" >visits</th>\n",
              "                        <td id=\"T_cdfb11dc_c0a4_11eb_bb6e_0242ac1c0002row6_col0\" class=\"data row6 col0\" >-0.005348</td>\n",
              "                        <td id=\"T_cdfb11dc_c0a4_11eb_bb6e_0242ac1c0002row6_col1\" class=\"data row6 col1\" >0.008685</td>\n",
              "                        <td id=\"T_cdfb11dc_c0a4_11eb_bb6e_0242ac1c0002row6_col2\" class=\"data row6 col2\" >0.058251</td>\n",
              "                        <td id=\"T_cdfb11dc_c0a4_11eb_bb6e_0242ac1c0002row6_col3\" class=\"data row6 col3\" >-0.040860</td>\n",
              "                        <td id=\"T_cdfb11dc_c0a4_11eb_bb6e_0242ac1c0002row6_col4\" class=\"data row6 col4\" >0.038118</td>\n",
              "                        <td id=\"T_cdfb11dc_c0a4_11eb_bb6e_0242ac1c0002row6_col5\" class=\"data row6 col5\" >0.038715</td>\n",
              "                        <td id=\"T_cdfb11dc_c0a4_11eb_bb6e_0242ac1c0002row6_col6\" class=\"data row6 col6\" >1.000000</td>\n",
              "                        <td id=\"T_cdfb11dc_c0a4_11eb_bb6e_0242ac1c0002row6_col7\" class=\"data row6 col7\" >0.283546</td>\n",
              "                        <td id=\"T_cdfb11dc_c0a4_11eb_bb6e_0242ac1c0002row6_col8\" class=\"data row6 col8\" >0.318913</td>\n",
              "            </tr>\n",
              "            <tr>\n",
              "                        <th id=\"T_cdfb11dc_c0a4_11eb_bb6e_0242ac1c0002level0_row7\" class=\"row_heading level0 row7\" >all_losses</th>\n",
              "                        <td id=\"T_cdfb11dc_c0a4_11eb_bb6e_0242ac1c0002row7_col0\" class=\"data row7 col0\" >0.000173</td>\n",
              "                        <td id=\"T_cdfb11dc_c0a4_11eb_bb6e_0242ac1c0002row7_col1\" class=\"data row7 col1\" >0.364155</td>\n",
              "                        <td id=\"T_cdfb11dc_c0a4_11eb_bb6e_0242ac1c0002row7_col2\" class=\"data row7 col2\" >0.466663</td>\n",
              "                        <td id=\"T_cdfb11dc_c0a4_11eb_bb6e_0242ac1c0002row7_col3\" class=\"data row7 col3\" >-0.012071</td>\n",
              "                        <td id=\"T_cdfb11dc_c0a4_11eb_bb6e_0242ac1c0002row7_col4\" class=\"data row7 col4\" >0.428266</td>\n",
              "                        <td id=\"T_cdfb11dc_c0a4_11eb_bb6e_0242ac1c0002row7_col5\" class=\"data row7 col5\" >0.076033</td>\n",
              "                        <td id=\"T_cdfb11dc_c0a4_11eb_bb6e_0242ac1c0002row7_col6\" class=\"data row7 col6\" >0.283546</td>\n",
              "                        <td id=\"T_cdfb11dc_c0a4_11eb_bb6e_0242ac1c0002row7_col7\" class=\"data row7 col7\" >1.000000</td>\n",
              "                        <td id=\"T_cdfb11dc_c0a4_11eb_bb6e_0242ac1c0002row7_col8\" class=\"data row7 col8\" >0.889343</td>\n",
              "            </tr>\n",
              "            <tr>\n",
              "                        <th id=\"T_cdfb11dc_c0a4_11eb_bb6e_0242ac1c0002level0_row8\" class=\"row_heading level0 row8\" >expected_losses</th>\n",
              "                        <td id=\"T_cdfb11dc_c0a4_11eb_bb6e_0242ac1c0002row8_col0\" class=\"data row8 col0\" >-0.001815</td>\n",
              "                        <td id=\"T_cdfb11dc_c0a4_11eb_bb6e_0242ac1c0002row8_col1\" class=\"data row8 col1\" >0.359541</td>\n",
              "                        <td id=\"T_cdfb11dc_c0a4_11eb_bb6e_0242ac1c0002row8_col2\" class=\"data row8 col2\" >0.464242</td>\n",
              "                        <td id=\"T_cdfb11dc_c0a4_11eb_bb6e_0242ac1c0002row8_col3\" class=\"data row8 col3\" >-0.012300</td>\n",
              "                        <td id=\"T_cdfb11dc_c0a4_11eb_bb6e_0242ac1c0002row8_col4\" class=\"data row8 col4\" >0.438883</td>\n",
              "                        <td id=\"T_cdfb11dc_c0a4_11eb_bb6e_0242ac1c0002row8_col5\" class=\"data row8 col5\" >0.088688</td>\n",
              "                        <td id=\"T_cdfb11dc_c0a4_11eb_bb6e_0242ac1c0002row8_col6\" class=\"data row8 col6\" >0.318913</td>\n",
              "                        <td id=\"T_cdfb11dc_c0a4_11eb_bb6e_0242ac1c0002row8_col7\" class=\"data row8 col7\" >0.889343</td>\n",
              "                        <td id=\"T_cdfb11dc_c0a4_11eb_bb6e_0242ac1c0002row8_col8\" class=\"data row8 col8\" >1.000000</td>\n",
              "            </tr>\n",
              "    </tbody></table>"
            ],
            "text/plain": [
              "<pandas.io.formats.style.Styler at 0x7fc3867b45d0>"
            ]
          },
          "metadata": {
            "tags": []
          },
          "execution_count": 258
        }
      ]
    },
    {
      "cell_type": "code",
      "metadata": {
        "id": "Hh0HbtjihXHk"
      },
      "source": [
        "df = df.query('deposit < deposit.quantile(0.95)')"
      ],
      "execution_count": 259,
      "outputs": []
    },
    {
      "cell_type": "markdown",
      "metadata": {
        "id": "RpyXyftSECKR"
      },
      "source": [
        "Отсекаем выбросы по депозиту"
      ]
    },
    {
      "cell_type": "code",
      "metadata": {
        "id": "CcmV6bSnicRy"
      },
      "source": [
        "df = df.query('loss_first_visit < loss_first_visit.quantile(0.95) & loss_first_visit > loss_first_visit.quantile(0.05)')"
      ],
      "execution_count": 260,
      "outputs": []
    },
    {
      "cell_type": "markdown",
      "metadata": {
        "id": "4s-FUIp4EE9a"
      },
      "source": [
        "Отсекаем выбросы по проигрышу в первый день"
      ]
    },
    {
      "cell_type": "code",
      "metadata": {
        "id": "XlbmSyTQ89H6"
      },
      "source": [
        "def rule(x):\n",
        "    if x > 0:\n",
        "         return 1\n",
        "    else:\n",
        "         return 0"
      ],
      "execution_count": 261,
      "outputs": []
    },
    {
      "cell_type": "code",
      "metadata": {
        "id": "wFvrKvZSIi5i"
      },
      "source": [
        "def rule2(x):\n",
        "    if x > 0:\n",
        "         return \"lose\"\n",
        "    if x < 0:\n",
        "         return \"win\"     \n",
        "    else:\n",
        "         return \"bonus_loss\""
      ],
      "execution_count": 262,
      "outputs": []
    },
    {
      "cell_type": "code",
      "metadata": {
        "id": "yi3GLfUX98oe"
      },
      "source": [
        "df['bonus'] = df.apply(lambda x: rule(x['bet_with_bonus']), axis =  1)"
      ],
      "execution_count": 263,
      "outputs": []
    },
    {
      "cell_type": "code",
      "metadata": {
        "id": "5yLmh18ZBNnU"
      },
      "source": [
        "df['visits_after'] = df.apply(lambda x: rule(x['visits']), axis =  1)"
      ],
      "execution_count": 264,
      "outputs": []
    },
    {
      "cell_type": "code",
      "metadata": {
        "id": "pqvqt4WpIzVm"
      },
      "source": [
        "df['money_out'] = df.apply(lambda x: rule(x['moneywithdrawal']), axis =  1)"
      ],
      "execution_count": 265,
      "outputs": []
    },
    {
      "cell_type": "code",
      "metadata": {
        "id": "fn1KU6TpLWIM"
      },
      "source": [
        "df['with_deposit'] = df.apply(lambda x: rule(x['deposit']), axis =  1)"
      ],
      "execution_count": 266,
      "outputs": []
    },
    {
      "cell_type": "markdown",
      "metadata": {
        "id": "aeok7SMWEUyf"
      },
      "source": [
        "Создаем бинарные переменные для бонусов, повторных визитов, выводы средств и депозита.\n",
        "- 1 - да\n",
        "- 0 - нет"
      ]
    },
    {
      "cell_type": "code",
      "metadata": {
        "id": "FTZznyqc-5qB"
      },
      "source": [
        "df['win_or_lose'] = df.apply(lambda x: rule2(x['loss_first_visit']), axis =  1)"
      ],
      "execution_count": 267,
      "outputs": []
    },
    {
      "cell_type": "markdown",
      "metadata": {
        "id": "66F6sGC3E6Uy"
      },
      "source": [
        "Создаем категориальную переменную по победам/поражениям в первый день:\n",
        "- win = выиграл\n",
        "- lose = проиграл\n",
        "- bonus_loss = проиграл, использяую лишь бонусы"
      ]
    },
    {
      "cell_type": "code",
      "metadata": {
        "id": "GKVuuvvdO5Fe"
      },
      "source": [
        "df['cat_visits'] = pd.cut(df['visits'], [-1,0,1,5,10,20,30,50,999], labels=[\"0\", \"1\", \"2-5\",\"6-10\", \"11-20\", \"21-30\",\"31-50\", \"51+\"])"
      ],
      "execution_count": 268,
      "outputs": []
    },
    {
      "cell_type": "code",
      "metadata": {
        "id": "ntbrkKR5SlYT"
      },
      "source": [
        "df['cat_bonus'] = pd.cut(df['bet_with_bonus'], [-1,0,300,500,1000,2000,48001], labels=[\"0\", \"1-300\", \"301-500\", \"501-1000\",\"1001-2000\", \"2000+\"])"
      ],
      "execution_count": 269,
      "outputs": []
    },
    {
      "cell_type": "markdown",
      "metadata": {
        "id": "f2zRUHeqFMDi"
      },
      "source": [
        "Создаем категориальные переменные для количества посещений и размера бонусов"
      ]
    },
    {
      "cell_type": "code",
      "metadata": {
        "id": "OjV1w1iRWnXL"
      },
      "source": [
        "df['true_visits'] = df['visits'] + 1"
      ],
      "execution_count": 270,
      "outputs": []
    },
    {
      "cell_type": "code",
      "metadata": {
        "id": "DfRd6FEDTs0E"
      },
      "source": [
        "df['loss_in_visit'] = (df['all_losses'] / df['true_visits']).round().astype('int')"
      ],
      "execution_count": 271,
      "outputs": []
    },
    {
      "cell_type": "markdown",
      "metadata": {
        "id": "e2RKz3hoFSSC"
      },
      "source": [
        "Считаем средний размер проигрыша за одно посещение"
      ]
    },
    {
      "cell_type": "code",
      "metadata": {
        "id": "xCqmUGZFip0F"
      },
      "source": [
        "df['year'] = df['1_day'].dt.year\n",
        "df['month'] = df['1_day'].dt.month"
      ],
      "execution_count": 272,
      "outputs": []
    },
    {
      "cell_type": "code",
      "metadata": {
        "id": "YSZ_amUhnJrs"
      },
      "source": [
        "df['yearmonth'] = df['1_day'].dt.to_period('M')"
      ],
      "execution_count": 273,
      "outputs": []
    },
    {
      "cell_type": "markdown",
      "metadata": {
        "id": "Bcf2rjCKFYAu"
      },
      "source": [
        "Определяем месяц и год первого посещения"
      ]
    },
    {
      "cell_type": "code",
      "metadata": {
        "colab": {
          "base_uri": "https://localhost:8080/",
          "height": 491
        },
        "id": "bbZjhv8Lm34X",
        "outputId": "b0c7be0c-1255-48f1-dd34-d1d51a8cd58b"
      },
      "source": [
        "df.pivot_table(values=[\"loss_first_visit\",'loss_in_visit', 'visits'], index=[\"month\"], columns=[\"year\"], aggfunc=['mean','count'] , fill_value = 0)"
      ],
      "execution_count": 274,
      "outputs": [
        {
          "output_type": "execute_result",
          "data": {
            "text/html": [
              "<div>\n",
              "<style scoped>\n",
              "    .dataframe tbody tr th:only-of-type {\n",
              "        vertical-align: middle;\n",
              "    }\n",
              "\n",
              "    .dataframe tbody tr th {\n",
              "        vertical-align: top;\n",
              "    }\n",
              "\n",
              "    .dataframe thead tr th {\n",
              "        text-align: left;\n",
              "    }\n",
              "\n",
              "    .dataframe thead tr:last-of-type th {\n",
              "        text-align: right;\n",
              "    }\n",
              "</style>\n",
              "<table border=\"1\" class=\"dataframe\">\n",
              "  <thead>\n",
              "    <tr>\n",
              "      <th></th>\n",
              "      <th colspan=\"6\" halign=\"left\">mean</th>\n",
              "      <th colspan=\"6\" halign=\"left\">count</th>\n",
              "    </tr>\n",
              "    <tr>\n",
              "      <th></th>\n",
              "      <th colspan=\"2\" halign=\"left\">loss_first_visit</th>\n",
              "      <th colspan=\"2\" halign=\"left\">loss_in_visit</th>\n",
              "      <th colspan=\"2\" halign=\"left\">visits</th>\n",
              "      <th colspan=\"2\" halign=\"left\">loss_first_visit</th>\n",
              "      <th colspan=\"2\" halign=\"left\">loss_in_visit</th>\n",
              "      <th colspan=\"2\" halign=\"left\">visits</th>\n",
              "    </tr>\n",
              "    <tr>\n",
              "      <th>year</th>\n",
              "      <th>2020</th>\n",
              "      <th>2021</th>\n",
              "      <th>2020</th>\n",
              "      <th>2021</th>\n",
              "      <th>2020</th>\n",
              "      <th>2021</th>\n",
              "      <th>2020</th>\n",
              "      <th>2021</th>\n",
              "      <th>2020</th>\n",
              "      <th>2021</th>\n",
              "      <th>2020</th>\n",
              "      <th>2021</th>\n",
              "    </tr>\n",
              "    <tr>\n",
              "      <th>month</th>\n",
              "      <th></th>\n",
              "      <th></th>\n",
              "      <th></th>\n",
              "      <th></th>\n",
              "      <th></th>\n",
              "      <th></th>\n",
              "      <th></th>\n",
              "      <th></th>\n",
              "      <th></th>\n",
              "      <th></th>\n",
              "      <th></th>\n",
              "      <th></th>\n",
              "    </tr>\n",
              "  </thead>\n",
              "  <tbody>\n",
              "    <tr>\n",
              "      <th>1</th>\n",
              "      <td>519.254043</td>\n",
              "      <td>331.757808</td>\n",
              "      <td>431.984501</td>\n",
              "      <td>301.196598</td>\n",
              "      <td>4.515499</td>\n",
              "      <td>1.948410</td>\n",
              "      <td>1484</td>\n",
              "      <td>7172</td>\n",
              "      <td>1484</td>\n",
              "      <td>7172</td>\n",
              "      <td>1484</td>\n",
              "      <td>7172</td>\n",
              "    </tr>\n",
              "    <tr>\n",
              "      <th>2</th>\n",
              "      <td>481.826733</td>\n",
              "      <td>308.358312</td>\n",
              "      <td>309.063649</td>\n",
              "      <td>228.742454</td>\n",
              "      <td>3.968883</td>\n",
              "      <td>1.080643</td>\n",
              "      <td>1414</td>\n",
              "      <td>6659</td>\n",
              "      <td>1414</td>\n",
              "      <td>6659</td>\n",
              "      <td>1414</td>\n",
              "      <td>6659</td>\n",
              "    </tr>\n",
              "    <tr>\n",
              "      <th>3</th>\n",
              "      <td>463.764433</td>\n",
              "      <td>344.551432</td>\n",
              "      <td>368.339084</td>\n",
              "      <td>308.703075</td>\n",
              "      <td>4.141340</td>\n",
              "      <td>1.828208</td>\n",
              "      <td>1507</td>\n",
              "      <td>943</td>\n",
              "      <td>1507</td>\n",
              "      <td>943</td>\n",
              "      <td>1507</td>\n",
              "      <td>943</td>\n",
              "    </tr>\n",
              "    <tr>\n",
              "      <th>4</th>\n",
              "      <td>494.083931</td>\n",
              "      <td>364.125546</td>\n",
              "      <td>309.679340</td>\n",
              "      <td>325.102620</td>\n",
              "      <td>4.099713</td>\n",
              "      <td>1.248908</td>\n",
              "      <td>1394</td>\n",
              "      <td>916</td>\n",
              "      <td>1394</td>\n",
              "      <td>916</td>\n",
              "      <td>1394</td>\n",
              "      <td>916</td>\n",
              "    </tr>\n",
              "    <tr>\n",
              "      <th>5</th>\n",
              "      <td>496.508475</td>\n",
              "      <td>338.934759</td>\n",
              "      <td>384.149718</td>\n",
              "      <td>248.508021</td>\n",
              "      <td>4.974576</td>\n",
              "      <td>1.193583</td>\n",
              "      <td>1416</td>\n",
              "      <td>935</td>\n",
              "      <td>1416</td>\n",
              "      <td>935</td>\n",
              "      <td>1416</td>\n",
              "      <td>935</td>\n",
              "    </tr>\n",
              "    <tr>\n",
              "      <th>6</th>\n",
              "      <td>476.367133</td>\n",
              "      <td>327.193424</td>\n",
              "      <td>506.227273</td>\n",
              "      <td>167.770793</td>\n",
              "      <td>4.137063</td>\n",
              "      <td>1.299807</td>\n",
              "      <td>1430</td>\n",
              "      <td>1034</td>\n",
              "      <td>1430</td>\n",
              "      <td>1034</td>\n",
              "      <td>1430</td>\n",
              "      <td>1034</td>\n",
              "    </tr>\n",
              "    <tr>\n",
              "      <th>7</th>\n",
              "      <td>671.826419</td>\n",
              "      <td>286.747817</td>\n",
              "      <td>537.664483</td>\n",
              "      <td>234.026201</td>\n",
              "      <td>6.014556</td>\n",
              "      <td>1.320961</td>\n",
              "      <td>5496</td>\n",
              "      <td>916</td>\n",
              "      <td>5496</td>\n",
              "      <td>916</td>\n",
              "      <td>5496</td>\n",
              "      <td>916</td>\n",
              "    </tr>\n",
              "    <tr>\n",
              "      <th>8</th>\n",
              "      <td>642.778852</td>\n",
              "      <td>270.550790</td>\n",
              "      <td>501.506238</td>\n",
              "      <td>260.948081</td>\n",
              "      <td>4.893481</td>\n",
              "      <td>1.347630</td>\n",
              "      <td>6412</td>\n",
              "      <td>886</td>\n",
              "      <td>6412</td>\n",
              "      <td>886</td>\n",
              "      <td>6412</td>\n",
              "      <td>886</td>\n",
              "    </tr>\n",
              "    <tr>\n",
              "      <th>9</th>\n",
              "      <td>565.915636</td>\n",
              "      <td>266.370370</td>\n",
              "      <td>385.741443</td>\n",
              "      <td>281.989247</td>\n",
              "      <td>4.002250</td>\n",
              "      <td>1.418160</td>\n",
              "      <td>6223</td>\n",
              "      <td>837</td>\n",
              "      <td>6223</td>\n",
              "      <td>837</td>\n",
              "      <td>6223</td>\n",
              "      <td>837</td>\n",
              "    </tr>\n",
              "    <tr>\n",
              "      <th>10</th>\n",
              "      <td>482.476108</td>\n",
              "      <td>248.625253</td>\n",
              "      <td>324.582921</td>\n",
              "      <td>201.603030</td>\n",
              "      <td>3.528309</td>\n",
              "      <td>0.920202</td>\n",
              "      <td>7471</td>\n",
              "      <td>990</td>\n",
              "      <td>7471</td>\n",
              "      <td>990</td>\n",
              "      <td>7471</td>\n",
              "      <td>990</td>\n",
              "    </tr>\n",
              "    <tr>\n",
              "      <th>11</th>\n",
              "      <td>420.227698</td>\n",
              "      <td>270.675466</td>\n",
              "      <td>377.692893</td>\n",
              "      <td>285.416149</td>\n",
              "      <td>3.500439</td>\n",
              "      <td>1.694099</td>\n",
              "      <td>6838</td>\n",
              "      <td>644</td>\n",
              "      <td>6838</td>\n",
              "      <td>644</td>\n",
              "      <td>6838</td>\n",
              "      <td>644</td>\n",
              "    </tr>\n",
              "    <tr>\n",
              "      <th>12</th>\n",
              "      <td>455.407187</td>\n",
              "      <td>364.397507</td>\n",
              "      <td>364.615733</td>\n",
              "      <td>278.752078</td>\n",
              "      <td>2.927844</td>\n",
              "      <td>1.720222</td>\n",
              "      <td>7068</td>\n",
              "      <td>722</td>\n",
              "      <td>7068</td>\n",
              "      <td>722</td>\n",
              "      <td>7068</td>\n",
              "      <td>722</td>\n",
              "    </tr>\n",
              "  </tbody>\n",
              "</table>\n",
              "</div>"
            ],
            "text/plain": [
              "                  mean                            ...         count             \n",
              "      loss_first_visit             loss_in_visit  ... loss_in_visit visits      \n",
              "year              2020        2021          2020  ...          2021   2020  2021\n",
              "month                                             ...                           \n",
              "1           519.254043  331.757808    431.984501  ...          7172   1484  7172\n",
              "2           481.826733  308.358312    309.063649  ...          6659   1414  6659\n",
              "3           463.764433  344.551432    368.339084  ...           943   1507   943\n",
              "4           494.083931  364.125546    309.679340  ...           916   1394   916\n",
              "5           496.508475  338.934759    384.149718  ...           935   1416   935\n",
              "6           476.367133  327.193424    506.227273  ...          1034   1430  1034\n",
              "7           671.826419  286.747817    537.664483  ...           916   5496   916\n",
              "8           642.778852  270.550790    501.506238  ...           886   6412   886\n",
              "9           565.915636  266.370370    385.741443  ...           837   6223   837\n",
              "10          482.476108  248.625253    324.582921  ...           990   7471   990\n",
              "11          420.227698  270.675466    377.692893  ...           644   6838   644\n",
              "12          455.407187  364.397507    364.615733  ...           722   7068   722\n",
              "\n",
              "[12 rows x 12 columns]"
            ]
          },
          "metadata": {
            "tags": []
          },
          "execution_count": 274
        }
      ]
    },
    {
      "cell_type": "markdown",
      "metadata": {
        "id": "0ayKEe6yFjzc"
      },
      "source": [
        "Видим, что данные по первому посещению есть за еще ненаступившие даты. Пока отложим решение этого вопроса :)"
      ]
    },
    {
      "cell_type": "markdown",
      "metadata": {
        "id": "yHvFJR9CpTBL"
      },
      "source": [
        "## 2. Исследовательский анализ данных"
      ]
    },
    {
      "cell_type": "code",
      "metadata": {
        "colab": {
          "base_uri": "https://localhost:8080/",
          "height": 0
        },
        "id": "ukry-4WtpUYI",
        "outputId": "e0669b33-34b9-4d4e-f389-97783a5575be"
      },
      "source": [
        "df.sample(5)"
      ],
      "execution_count": 275,
      "outputs": [
        {
          "output_type": "execute_result",
          "data": {
            "text/html": [
              "<div>\n",
              "<style scoped>\n",
              "    .dataframe tbody tr th:only-of-type {\n",
              "        vertical-align: middle;\n",
              "    }\n",
              "\n",
              "    .dataframe tbody tr th {\n",
              "        vertical-align: top;\n",
              "    }\n",
              "\n",
              "    .dataframe thead th {\n",
              "        text-align: right;\n",
              "    }\n",
              "</style>\n",
              "<table border=\"1\" class=\"dataframe\">\n",
              "  <thead>\n",
              "    <tr style=\"text-align: right;\">\n",
              "      <th></th>\n",
              "      <th>id</th>\n",
              "      <th>loss_first_visit</th>\n",
              "      <th>in_first_visit</th>\n",
              "      <th>bet_with_bonus</th>\n",
              "      <th>deposit</th>\n",
              "      <th>moneywithdrawal</th>\n",
              "      <th>club_number</th>\n",
              "      <th>1_day</th>\n",
              "      <th>2_day</th>\n",
              "      <th>max_day</th>\n",
              "      <th>visits</th>\n",
              "      <th>all_losses</th>\n",
              "      <th>expected_losses</th>\n",
              "      <th>bonus</th>\n",
              "      <th>visits_after</th>\n",
              "      <th>money_out</th>\n",
              "      <th>with_deposit</th>\n",
              "      <th>win_or_lose</th>\n",
              "      <th>cat_visits</th>\n",
              "      <th>cat_bonus</th>\n",
              "      <th>true_visits</th>\n",
              "      <th>loss_in_visit</th>\n",
              "      <th>year</th>\n",
              "      <th>month</th>\n",
              "      <th>yearmonth</th>\n",
              "    </tr>\n",
              "  </thead>\n",
              "  <tbody>\n",
              "    <tr>\n",
              "      <th>17151</th>\n",
              "      <td>2454538802</td>\n",
              "      <td>2015</td>\n",
              "      <td>3643</td>\n",
              "      <td>0</td>\n",
              "      <td>2015</td>\n",
              "      <td>0</td>\n",
              "      <td>1650</td>\n",
              "      <td>2020-08-19</td>\n",
              "      <td>NaT</td>\n",
              "      <td>NaT</td>\n",
              "      <td>0</td>\n",
              "      <td>0</td>\n",
              "      <td>0</td>\n",
              "      <td>0</td>\n",
              "      <td>0</td>\n",
              "      <td>0</td>\n",
              "      <td>1</td>\n",
              "      <td>lose</td>\n",
              "      <td>0</td>\n",
              "      <td>0</td>\n",
              "      <td>1</td>\n",
              "      <td>0</td>\n",
              "      <td>2020</td>\n",
              "      <td>8</td>\n",
              "      <td>2020-08</td>\n",
              "    </tr>\n",
              "    <tr>\n",
              "      <th>9170</th>\n",
              "      <td>2442599605</td>\n",
              "      <td>3600</td>\n",
              "      <td>3600</td>\n",
              "      <td>0</td>\n",
              "      <td>3600</td>\n",
              "      <td>0</td>\n",
              "      <td>338</td>\n",
              "      <td>2020-11-26</td>\n",
              "      <td>NaT</td>\n",
              "      <td>NaT</td>\n",
              "      <td>0</td>\n",
              "      <td>0</td>\n",
              "      <td>0</td>\n",
              "      <td>0</td>\n",
              "      <td>0</td>\n",
              "      <td>0</td>\n",
              "      <td>1</td>\n",
              "      <td>lose</td>\n",
              "      <td>0</td>\n",
              "      <td>0</td>\n",
              "      <td>1</td>\n",
              "      <td>0</td>\n",
              "      <td>2020</td>\n",
              "      <td>11</td>\n",
              "      <td>2020-11</td>\n",
              "    </tr>\n",
              "    <tr>\n",
              "      <th>26016</th>\n",
              "      <td>2448786984</td>\n",
              "      <td>720</td>\n",
              "      <td>3960</td>\n",
              "      <td>0</td>\n",
              "      <td>720</td>\n",
              "      <td>0</td>\n",
              "      <td>1326</td>\n",
              "      <td>2020-07-23</td>\n",
              "      <td>2020-07-24</td>\n",
              "      <td>2020-07-08</td>\n",
              "      <td>3</td>\n",
              "      <td>2580</td>\n",
              "      <td>454</td>\n",
              "      <td>0</td>\n",
              "      <td>1</td>\n",
              "      <td>0</td>\n",
              "      <td>1</td>\n",
              "      <td>lose</td>\n",
              "      <td>2-5</td>\n",
              "      <td>0</td>\n",
              "      <td>4</td>\n",
              "      <td>645</td>\n",
              "      <td>2020</td>\n",
              "      <td>7</td>\n",
              "      <td>2020-07</td>\n",
              "    </tr>\n",
              "    <tr>\n",
              "      <th>60925</th>\n",
              "      <td>2436604930</td>\n",
              "      <td>-116</td>\n",
              "      <td>271</td>\n",
              "      <td>600</td>\n",
              "      <td>388</td>\n",
              "      <td>504</td>\n",
              "      <td>917</td>\n",
              "      <td>2020-10-17</td>\n",
              "      <td>2020-10-18</td>\n",
              "      <td>2020-10-18</td>\n",
              "      <td>1</td>\n",
              "      <td>775</td>\n",
              "      <td>864</td>\n",
              "      <td>1</td>\n",
              "      <td>1</td>\n",
              "      <td>1</td>\n",
              "      <td>1</td>\n",
              "      <td>win</td>\n",
              "      <td>1</td>\n",
              "      <td>501-1000</td>\n",
              "      <td>2</td>\n",
              "      <td>388</td>\n",
              "      <td>2020</td>\n",
              "      <td>10</td>\n",
              "      <td>2020-10</td>\n",
              "    </tr>\n",
              "    <tr>\n",
              "      <th>24598</th>\n",
              "      <td>2447196449</td>\n",
              "      <td>908</td>\n",
              "      <td>908</td>\n",
              "      <td>0</td>\n",
              "      <td>1200</td>\n",
              "      <td>0</td>\n",
              "      <td>1888</td>\n",
              "      <td>2020-09-10</td>\n",
              "      <td>NaT</td>\n",
              "      <td>NaT</td>\n",
              "      <td>0</td>\n",
              "      <td>0</td>\n",
              "      <td>0</td>\n",
              "      <td>0</td>\n",
              "      <td>0</td>\n",
              "      <td>0</td>\n",
              "      <td>1</td>\n",
              "      <td>lose</td>\n",
              "      <td>0</td>\n",
              "      <td>0</td>\n",
              "      <td>1</td>\n",
              "      <td>0</td>\n",
              "      <td>2020</td>\n",
              "      <td>9</td>\n",
              "      <td>2020-09</td>\n",
              "    </tr>\n",
              "  </tbody>\n",
              "</table>\n",
              "</div>"
            ],
            "text/plain": [
              "               id  loss_first_visit  in_first_visit  ...  year  month  yearmonth\n",
              "17151  2454538802              2015            3643  ...  2020      8    2020-08\n",
              "9170   2442599605              3600            3600  ...  2020     11    2020-11\n",
              "26016  2448786984               720            3960  ...  2020      7    2020-07\n",
              "60925  2436604930              -116             271  ...  2020     10    2020-10\n",
              "24598  2447196449               908             908  ...  2020      9    2020-09\n",
              "\n",
              "[5 rows x 25 columns]"
            ]
          },
          "metadata": {
            "tags": []
          },
          "execution_count": 275
        }
      ]
    },
    {
      "cell_type": "markdown",
      "metadata": {
        "id": "rqAUuhCqpfjA"
      },
      "source": [
        "#### Количество визитов в разрезе бонусов"
      ]
    },
    {
      "cell_type": "code",
      "metadata": {
        "id": "uzr0DkbkCCss"
      },
      "source": [
        "def bar (x, y, value, name):\n",
        "  plt.figure(figsize=(10, 7))\n",
        "  plt.grid(True)\n",
        "  plt.title(name)\n",
        "  plot = sns.barplot(data = df.groupby(x)[y].agg([value]).reset_index(), x = x, y = value)\n",
        "  for p in plot.patches:\n",
        "      plot.annotate(format(p.get_height(), '.3f'), \n",
        "                    (p.get_x() + p.get_width() / 2., p.get_height()), \n",
        "                    ha = 'center', va = 'center', \n",
        "                    xytext = (0, 9), \n",
        "                    textcoords = 'offset points')\n",
        "  plt.ylabel(y)\n",
        "  plt.xlabel(x)\n",
        "  plt.xticks(rotation = 0)\n",
        "  plt.show()"
      ],
      "execution_count": 276,
      "outputs": []
    },
    {
      "cell_type": "code",
      "metadata": {
        "colab": {
          "base_uri": "https://localhost:8080/",
          "height": 0
        },
        "id": "j-XmbmHRCe_B",
        "outputId": "ab1f7f3c-c936-48b3-d377-76ef2a50edca"
      },
      "source": [
        "bar ('cat_visits', 'bonus', 'mean', 'Процент клиентов, пользовавшихся бонусами, в разрезе количества посещений')"
      ],
      "execution_count": 277,
      "outputs": [
        {
          "output_type": "display_data",
          "data": {
            "image/png": "[encoded data removed]",
            "text/plain": [
              "<Figure size 720x504 with 1 Axes>"
            ]
          },
          "metadata": {
            "tags": []
          }
        }
      ]
    },
    {
      "cell_type": "code",
      "metadata": {
        "colab": {
          "base_uri": "https://localhost:8080/",
          "height": 0
        },
        "id": "0AdTb-t4tiFL",
        "outputId": "c081c8d8-f31c-43a5-f5a0-f7f5b551f4dc"
      },
      "source": [
        "df.groupby('bonus')['id'].agg('count').reset_index()"
      ],
      "execution_count": 278,
      "outputs": [
        {
          "output_type": "execute_result",
          "data": {
            "text/html": [
              "<div>\n",
              "<style scoped>\n",
              "    .dataframe tbody tr th:only-of-type {\n",
              "        vertical-align: middle;\n",
              "    }\n",
              "\n",
              "    .dataframe tbody tr th {\n",
              "        vertical-align: top;\n",
              "    }\n",
              "\n",
              "    .dataframe thead th {\n",
              "        text-align: right;\n",
              "    }\n",
              "</style>\n",
              "<table border=\"1\" class=\"dataframe\">\n",
              "  <thead>\n",
              "    <tr style=\"text-align: right;\">\n",
              "      <th></th>\n",
              "      <th>bonus</th>\n",
              "      <th>id</th>\n",
              "    </tr>\n",
              "  </thead>\n",
              "  <tbody>\n",
              "    <tr>\n",
              "      <th>0</th>\n",
              "      <td>0</td>\n",
              "      <td>18443</td>\n",
              "    </tr>\n",
              "    <tr>\n",
              "      <th>1</th>\n",
              "      <td>1</td>\n",
              "      <td>52364</td>\n",
              "    </tr>\n",
              "  </tbody>\n",
              "</table>\n",
              "</div>"
            ],
            "text/plain": [
              "   bonus     id\n",
              "0      0  18443\n",
              "1      1  52364"
            ]
          },
          "metadata": {
            "tags": []
          },
          "execution_count": 278
        }
      ]
    },
    {
      "cell_type": "code",
      "metadata": {
        "colab": {
          "base_uri": "https://localhost:8080/",
          "height": 0
        },
        "id": "GkmdW8FhsFIH",
        "outputId": "c05e7cbe-aec7-47a4-b407-86cfb542f10d"
      },
      "source": [
        "sns.set_style(\"whitegrid\")\n",
        "sns.set_palette('Blues_r', 2)\n",
        "df.groupby('bonus')['id'].agg('count').reset_index().plot.pie(x = 'bonus', y = 'id',autopct=\"%.0f%%\", labels=['Без бонуса','С бонусом'])\n",
        "plt.title(\"Доля игроков с бонусом и без\")\n",
        "plt.xlabel(None, fontsize = 12)\n",
        "plt.ylabel(None, fontsize = 12)\n",
        "plt.show()"
      ],
      "execution_count": 279,
      "outputs": [
        {
          "output_type": "display_data",
          "data": {
            "image/png": "[encoded data removed]",
            "text/plain": [
              "<Figure size 432x288 with 1 Axes>"
            ]
          },
          "metadata": {
            "tags": []
          }
        }
      ]
    },
    {
      "cell_type": "code",
      "metadata": {
        "colab": {
          "base_uri": "https://localhost:8080/",
          "height": 0
        },
        "id": "GEC1W8BpAZTS",
        "outputId": "b6c02d25-fb95-43e7-af96-9a683cb50972"
      },
      "source": [
        "df.groupby('cat_bonus')[['loss_first_visit','loss_in_visit','visits_after']].agg(['mean','count'])"
      ],
      "execution_count": 280,
      "outputs": [
        {
          "output_type": "execute_result",
          "data": {
            "text/html": [
              "<div>\n",
              "<style scoped>\n",
              "    .dataframe tbody tr th:only-of-type {\n",
              "        vertical-align: middle;\n",
              "    }\n",
              "\n",
              "    .dataframe tbody tr th {\n",
              "        vertical-align: top;\n",
              "    }\n",
              "\n",
              "    .dataframe thead tr th {\n",
              "        text-align: left;\n",
              "    }\n",
              "\n",
              "    .dataframe thead tr:last-of-type th {\n",
              "        text-align: right;\n",
              "    }\n",
              "</style>\n",
              "<table border=\"1\" class=\"dataframe\">\n",
              "  <thead>\n",
              "    <tr>\n",
              "      <th></th>\n",
              "      <th colspan=\"2\" halign=\"left\">loss_first_visit</th>\n",
              "      <th colspan=\"2\" halign=\"left\">loss_in_visit</th>\n",
              "      <th colspan=\"2\" halign=\"left\">visits_after</th>\n",
              "    </tr>\n",
              "    <tr>\n",
              "      <th></th>\n",
              "      <th>mean</th>\n",
              "      <th>count</th>\n",
              "      <th>mean</th>\n",
              "      <th>count</th>\n",
              "      <th>mean</th>\n",
              "      <th>count</th>\n",
              "    </tr>\n",
              "    <tr>\n",
              "      <th>cat_bonus</th>\n",
              "      <th></th>\n",
              "      <th></th>\n",
              "      <th></th>\n",
              "      <th></th>\n",
              "      <th></th>\n",
              "      <th></th>\n",
              "    </tr>\n",
              "  </thead>\n",
              "  <tbody>\n",
              "    <tr>\n",
              "      <th>0</th>\n",
              "      <td>1139.866508</td>\n",
              "      <td>18443</td>\n",
              "      <td>598.630808</td>\n",
              "      <td>18443</td>\n",
              "      <td>0.524264</td>\n",
              "      <td>18443</td>\n",
              "    </tr>\n",
              "    <tr>\n",
              "      <th>1-300</th>\n",
              "      <td>413.125096</td>\n",
              "      <td>19545</td>\n",
              "      <td>311.964902</td>\n",
              "      <td>19545</td>\n",
              "      <td>0.363981</td>\n",
              "      <td>19545</td>\n",
              "    </tr>\n",
              "    <tr>\n",
              "      <th>301-500</th>\n",
              "      <td>196.579534</td>\n",
              "      <td>23600</td>\n",
              "      <td>256.830551</td>\n",
              "      <td>23600</td>\n",
              "      <td>0.328517</td>\n",
              "      <td>23600</td>\n",
              "    </tr>\n",
              "    <tr>\n",
              "      <th>501-1000</th>\n",
              "      <td>-62.215034</td>\n",
              "      <td>8208</td>\n",
              "      <td>235.022052</td>\n",
              "      <td>8208</td>\n",
              "      <td>0.305921</td>\n",
              "      <td>8208</td>\n",
              "    </tr>\n",
              "    <tr>\n",
              "      <th>1001-2000</th>\n",
              "      <td>-667.048780</td>\n",
              "      <td>779</td>\n",
              "      <td>273.322208</td>\n",
              "      <td>779</td>\n",
              "      <td>0.317073</td>\n",
              "      <td>779</td>\n",
              "    </tr>\n",
              "    <tr>\n",
              "      <th>2000+</th>\n",
              "      <td>-1269.650862</td>\n",
              "      <td>232</td>\n",
              "      <td>395.922414</td>\n",
              "      <td>232</td>\n",
              "      <td>0.426724</td>\n",
              "      <td>232</td>\n",
              "    </tr>\n",
              "  </tbody>\n",
              "</table>\n",
              "</div>"
            ],
            "text/plain": [
              "          loss_first_visit        loss_in_visit        visits_after       \n",
              "                      mean  count          mean  count         mean  count\n",
              "cat_bonus                                                                 \n",
              "0              1139.866508  18443    598.630808  18443     0.524264  18443\n",
              "1-300           413.125096  19545    311.964902  19545     0.363981  19545\n",
              "301-500         196.579534  23600    256.830551  23600     0.328517  23600\n",
              "501-1000        -62.215034   8208    235.022052   8208     0.305921   8208\n",
              "1001-2000      -667.048780    779    273.322208    779     0.317073    779\n",
              "2000+         -1269.650862    232    395.922414    232     0.426724    232"
            ]
          },
          "metadata": {
            "tags": []
          },
          "execution_count": 280
        }
      ]
    },
    {
      "cell_type": "code",
      "metadata": {
        "colab": {
          "base_uri": "https://localhost:8080/",
          "height": 0
        },
        "id": "x263ABut_wj2",
        "outputId": "f7eb9939-9954-434e-8bba-3503cbbba764"
      },
      "source": [
        "bar ('cat_bonus', 'loss_in_visit', 'mean', 'Средний проигрыш за посещение в разрезе размера бонусов')\n",
        "bar ('cat_bonus', 'visits_after', 'mean', 'Вероятность повторного посещения в разрезе размера бонусов')"
      ],
      "execution_count": 281,
      "outputs": [
        {
          "output_type": "display_data",
          "data": {
            "image/png": "[encoded data removed]",
            "text/plain": [
              "<Figure size 720x504 with 1 Axes>"
            ]
          },
          "metadata": {
            "tags": []
          }
        },
        {
          "output_type": "display_data",
          "data": {
            "image/png": "[encoded data removed]",
            "text/plain": [
              "<Figure size 720x504 with 1 Axes>"
            ]
          },
          "metadata": {
            "tags": []
          }
        }
      ]
    },
    {
      "cell_type": "markdown",
      "metadata": {
        "id": "btIf4eXOp-Ll"
      },
      "source": [
        "Можно сделать вывод, что бонусами пользуются преимущественно новички в беттинге.\n",
        "На графике мы видим, что чем больше визитов у клиента, тем с меньшей вероятностью он пользовался бонусами при первом визите. Почти 80% клиентов, не совершивших повторного посещения, пользовались бонусами.  \n",
        "\n",
        "**Гипотеза:** бонусы менее эффективны для привлечения опытных игроков, возможно, стоит использовать иные вовлекающие механизмы.\n",
        "\n",
        "**Гипотеза 2:** оптимальный размер бонуса от 1 до 300. У этой категории наибольший процент повторных посещений (более 36%), самый большой средний проигрыш за одно посещение (311) и самый большой средний проигрыш в первое посещение."
      ]
    },
    {
      "cell_type": "markdown",
      "metadata": {
        "id": "qdckdLoMuQVK"
      },
      "source": [
        "#### Количество визитов в разрезе вин/луз"
      ]
    },
    {
      "cell_type": "code",
      "metadata": {
        "colab": {
          "base_uri": "https://localhost:8080/",
          "height": 0
        },
        "id": "AmI28RzhuQ3_",
        "outputId": "c9f3b797-05d0-459a-b915-0a74dc49ebf2"
      },
      "source": [
        "df.groupby('win_or_lose')['loss_first_visit'].agg(['mean','count'])"
      ],
      "execution_count": 282,
      "outputs": [
        {
          "output_type": "execute_result",
          "data": {
            "text/html": [
              "<div>\n",
              "<style scoped>\n",
              "    .dataframe tbody tr th:only-of-type {\n",
              "        vertical-align: middle;\n",
              "    }\n",
              "\n",
              "    .dataframe tbody tr th {\n",
              "        vertical-align: top;\n",
              "    }\n",
              "\n",
              "    .dataframe thead th {\n",
              "        text-align: right;\n",
              "    }\n",
              "</style>\n",
              "<table border=\"1\" class=\"dataframe\">\n",
              "  <thead>\n",
              "    <tr style=\"text-align: right;\">\n",
              "      <th></th>\n",
              "      <th>mean</th>\n",
              "      <th>count</th>\n",
              "    </tr>\n",
              "    <tr>\n",
              "      <th>win_or_lose</th>\n",
              "      <th></th>\n",
              "      <th></th>\n",
              "    </tr>\n",
              "  </thead>\n",
              "  <tbody>\n",
              "    <tr>\n",
              "      <th>bonus_loss</th>\n",
              "      <td>0.000000</td>\n",
              "      <td>18538</td>\n",
              "    </tr>\n",
              "    <tr>\n",
              "      <th>lose</th>\n",
              "      <td>1511.746905</td>\n",
              "      <td>33845</td>\n",
              "    </tr>\n",
              "    <tr>\n",
              "      <th>win</th>\n",
              "      <td>-1017.887538</td>\n",
              "      <td>18424</td>\n",
              "    </tr>\n",
              "  </tbody>\n",
              "</table>\n",
              "</div>"
            ],
            "text/plain": [
              "                    mean  count\n",
              "win_or_lose                    \n",
              "bonus_loss      0.000000  18538\n",
              "lose         1511.746905  33845\n",
              "win         -1017.887538  18424"
            ]
          },
          "metadata": {
            "tags": []
          },
          "execution_count": 282
        }
      ]
    },
    {
      "cell_type": "code",
      "metadata": {
        "colab": {
          "base_uri": "https://localhost:8080/",
          "height": 0
        },
        "id": "1sExhApavSr2",
        "outputId": "2c84fcbf-ad80-43b3-d84b-e08f4a486244"
      },
      "source": [
        "df.groupby('cat_visits')['loss_first_visit'].agg(['mean','count'])"
      ],
      "execution_count": 283,
      "outputs": [
        {
          "output_type": "execute_result",
          "data": {
            "text/html": [
              "<div>\n",
              "<style scoped>\n",
              "    .dataframe tbody tr th:only-of-type {\n",
              "        vertical-align: middle;\n",
              "    }\n",
              "\n",
              "    .dataframe tbody tr th {\n",
              "        vertical-align: top;\n",
              "    }\n",
              "\n",
              "    .dataframe thead th {\n",
              "        text-align: right;\n",
              "    }\n",
              "</style>\n",
              "<table border=\"1\" class=\"dataframe\">\n",
              "  <thead>\n",
              "    <tr style=\"text-align: right;\">\n",
              "      <th></th>\n",
              "      <th>mean</th>\n",
              "      <th>count</th>\n",
              "    </tr>\n",
              "    <tr>\n",
              "      <th>cat_visits</th>\n",
              "      <th></th>\n",
              "      <th></th>\n",
              "    </tr>\n",
              "  </thead>\n",
              "  <tbody>\n",
              "    <tr>\n",
              "      <th>0</th>\n",
              "      <td>342.299373</td>\n",
              "      <td>43414</td>\n",
              "    </tr>\n",
              "    <tr>\n",
              "      <th>1</th>\n",
              "      <td>444.202818</td>\n",
              "      <td>9368</td>\n",
              "    </tr>\n",
              "    <tr>\n",
              "      <th>2-5</th>\n",
              "      <td>605.013378</td>\n",
              "      <td>9568</td>\n",
              "    </tr>\n",
              "    <tr>\n",
              "      <th>6-10</th>\n",
              "      <td>776.076827</td>\n",
              "      <td>3202</td>\n",
              "    </tr>\n",
              "    <tr>\n",
              "      <th>11-20</th>\n",
              "      <td>927.932766</td>\n",
              "      <td>2350</td>\n",
              "    </tr>\n",
              "    <tr>\n",
              "      <th>21-30</th>\n",
              "      <td>917.214015</td>\n",
              "      <td>1056</td>\n",
              "    </tr>\n",
              "    <tr>\n",
              "      <th>31-50</th>\n",
              "      <td>1087.594070</td>\n",
              "      <td>978</td>\n",
              "    </tr>\n",
              "    <tr>\n",
              "      <th>51+</th>\n",
              "      <td>1036.721010</td>\n",
              "      <td>871</td>\n",
              "    </tr>\n",
              "  </tbody>\n",
              "</table>\n",
              "</div>"
            ],
            "text/plain": [
              "                   mean  count\n",
              "cat_visits                    \n",
              "0            342.299373  43414\n",
              "1            444.202818   9368\n",
              "2-5          605.013378   9568\n",
              "6-10         776.076827   3202\n",
              "11-20        927.932766   2350\n",
              "21-30        917.214015   1056\n",
              "31-50       1087.594070    978\n",
              "51+         1036.721010    871"
            ]
          },
          "metadata": {
            "tags": []
          },
          "execution_count": 283
        }
      ]
    },
    {
      "cell_type": "code",
      "metadata": {
        "colab": {
          "base_uri": "https://localhost:8080/",
          "height": 0
        },
        "id": "lBa19N2kFryF",
        "outputId": "bef08c21-c095-4255-dfd6-6d40fb32d1fe"
      },
      "source": [
        "bar ('cat_visits', 'loss_first_visit', 'mean', 'Средний проигрыш в первое посещение в разрезе количества посещений')"
      ],
      "execution_count": 284,
      "outputs": [
        {
          "output_type": "display_data",
          "data": {
            "image/png": "[encoded data removed]",
            "text/plain": [
              "<Figure size 720x504 with 1 Axes>"
            ]
          },
          "metadata": {
            "tags": []
          }
        }
      ]
    },
    {
      "cell_type": "code",
      "metadata": {
        "colab": {
          "base_uri": "https://localhost:8080/",
          "height": 0
        },
        "id": "z2sxJ6Qzv08F",
        "outputId": "3737e93a-e875-4408-f7ae-16cd2dda7b3f"
      },
      "source": [
        "df.groupby('cat_visits')['all_losses'].agg(['mean','count'])"
      ],
      "execution_count": 285,
      "outputs": [
        {
          "output_type": "execute_result",
          "data": {
            "text/html": [
              "<div>\n",
              "<style scoped>\n",
              "    .dataframe tbody tr th:only-of-type {\n",
              "        vertical-align: middle;\n",
              "    }\n",
              "\n",
              "    .dataframe tbody tr th {\n",
              "        vertical-align: top;\n",
              "    }\n",
              "\n",
              "    .dataframe thead th {\n",
              "        text-align: right;\n",
              "    }\n",
              "</style>\n",
              "<table border=\"1\" class=\"dataframe\">\n",
              "  <thead>\n",
              "    <tr style=\"text-align: right;\">\n",
              "      <th></th>\n",
              "      <th>mean</th>\n",
              "      <th>count</th>\n",
              "    </tr>\n",
              "    <tr>\n",
              "      <th>cat_visits</th>\n",
              "      <th></th>\n",
              "      <th></th>\n",
              "    </tr>\n",
              "  </thead>\n",
              "  <tbody>\n",
              "    <tr>\n",
              "      <th>0</th>\n",
              "      <td>-12.031534</td>\n",
              "      <td>43414</td>\n",
              "    </tr>\n",
              "    <tr>\n",
              "      <th>1</th>\n",
              "      <td>1051.600662</td>\n",
              "      <td>9368</td>\n",
              "    </tr>\n",
              "    <tr>\n",
              "      <th>2-5</th>\n",
              "      <td>3743.353052</td>\n",
              "      <td>9568</td>\n",
              "    </tr>\n",
              "    <tr>\n",
              "      <th>6-10</th>\n",
              "      <td>9288.156465</td>\n",
              "      <td>3202</td>\n",
              "    </tr>\n",
              "    <tr>\n",
              "      <th>11-20</th>\n",
              "      <td>23787.962553</td>\n",
              "      <td>2350</td>\n",
              "    </tr>\n",
              "    <tr>\n",
              "      <th>21-30</th>\n",
              "      <td>43447.998106</td>\n",
              "      <td>1056</td>\n",
              "    </tr>\n",
              "    <tr>\n",
              "      <th>31-50</th>\n",
              "      <td>73122.219836</td>\n",
              "      <td>978</td>\n",
              "    </tr>\n",
              "    <tr>\n",
              "      <th>51+</th>\n",
              "      <td>156515.833525</td>\n",
              "      <td>871</td>\n",
              "    </tr>\n",
              "  </tbody>\n",
              "</table>\n",
              "</div>"
            ],
            "text/plain": [
              "                     mean  count\n",
              "cat_visits                      \n",
              "0              -12.031534  43414\n",
              "1             1051.600662   9368\n",
              "2-5           3743.353052   9568\n",
              "6-10          9288.156465   3202\n",
              "11-20        23787.962553   2350\n",
              "21-30        43447.998106   1056\n",
              "31-50        73122.219836    978\n",
              "51+         156515.833525    871"
            ]
          },
          "metadata": {
            "tags": []
          },
          "execution_count": 285
        }
      ]
    },
    {
      "cell_type": "code",
      "metadata": {
        "colab": {
          "base_uri": "https://localhost:8080/",
          "height": 0
        },
        "id": "glQKwaoGF25W",
        "outputId": "1c110109-358e-4e00-94f0-296d8dad3935"
      },
      "source": [
        "bar ('cat_visits', 'all_losses', 'mean', 'Средний проигрыш за все время в разрезе количества посещений')"
      ],
      "execution_count": 286,
      "outputs": [
        {
          "output_type": "display_data",
          "data": {
            "image/png": "[encoded data removed]",
            "text/plain": [
              "<Figure size 720x504 with 1 Axes>"
            ]
          },
          "metadata": {
            "tags": []
          }
        }
      ]
    },
    {
      "cell_type": "code",
      "metadata": {
        "colab": {
          "base_uri": "https://localhost:8080/",
          "height": 0
        },
        "id": "DgQVfPWivuA4",
        "outputId": "3873c6c7-85dd-4e31-a02f-21bb2e9de563"
      },
      "source": [
        "df.groupby('cat_visits')['loss_in_visit'].agg(['mean','count'])"
      ],
      "execution_count": 287,
      "outputs": [
        {
          "output_type": "execute_result",
          "data": {
            "text/html": [
              "<div>\n",
              "<style scoped>\n",
              "    .dataframe tbody tr th:only-of-type {\n",
              "        vertical-align: middle;\n",
              "    }\n",
              "\n",
              "    .dataframe tbody tr th {\n",
              "        vertical-align: top;\n",
              "    }\n",
              "\n",
              "    .dataframe thead th {\n",
              "        text-align: right;\n",
              "    }\n",
              "</style>\n",
              "<table border=\"1\" class=\"dataframe\">\n",
              "  <thead>\n",
              "    <tr style=\"text-align: right;\">\n",
              "      <th></th>\n",
              "      <th>mean</th>\n",
              "      <th>count</th>\n",
              "    </tr>\n",
              "    <tr>\n",
              "      <th>cat_visits</th>\n",
              "      <th></th>\n",
              "      <th></th>\n",
              "    </tr>\n",
              "  </thead>\n",
              "  <tbody>\n",
              "    <tr>\n",
              "      <th>0</th>\n",
              "      <td>-12.031534</td>\n",
              "      <td>43414</td>\n",
              "    </tr>\n",
              "    <tr>\n",
              "      <th>1</th>\n",
              "      <td>525.827498</td>\n",
              "      <td>9368</td>\n",
              "    </tr>\n",
              "    <tr>\n",
              "      <th>2-5</th>\n",
              "      <td>923.081626</td>\n",
              "      <td>9568</td>\n",
              "    </tr>\n",
              "    <tr>\n",
              "      <th>6-10</th>\n",
              "      <td>1074.468457</td>\n",
              "      <td>3202</td>\n",
              "    </tr>\n",
              "    <tr>\n",
              "      <th>11-20</th>\n",
              "      <td>1520.310638</td>\n",
              "      <td>2350</td>\n",
              "    </tr>\n",
              "    <tr>\n",
              "      <th>21-30</th>\n",
              "      <td>1667.909091</td>\n",
              "      <td>1056</td>\n",
              "    </tr>\n",
              "    <tr>\n",
              "      <th>31-50</th>\n",
              "      <td>1795.524540</td>\n",
              "      <td>978</td>\n",
              "    </tr>\n",
              "    <tr>\n",
              "      <th>51+</th>\n",
              "      <td>1913.619977</td>\n",
              "      <td>871</td>\n",
              "    </tr>\n",
              "  </tbody>\n",
              "</table>\n",
              "</div>"
            ],
            "text/plain": [
              "                   mean  count\n",
              "cat_visits                    \n",
              "0            -12.031534  43414\n",
              "1            525.827498   9368\n",
              "2-5          923.081626   9568\n",
              "6-10        1074.468457   3202\n",
              "11-20       1520.310638   2350\n",
              "21-30       1667.909091   1056\n",
              "31-50       1795.524540    978\n",
              "51+         1913.619977    871"
            ]
          },
          "metadata": {
            "tags": []
          },
          "execution_count": 287
        }
      ]
    },
    {
      "cell_type": "code",
      "metadata": {
        "colab": {
          "base_uri": "https://localhost:8080/",
          "height": 0
        },
        "id": "dPm8BMKlGILc",
        "outputId": "7ed97e26-b459-4dd2-d0ff-a347c0fb1702"
      },
      "source": [
        "bar ('cat_visits', 'loss_in_visit', 'mean', 'Средний проигрыш за одно посещение в разрезе количества посещений')"
      ],
      "execution_count": 288,
      "outputs": [
        {
          "output_type": "display_data",
          "data": {
            "image/png": "[encoded data removed]",
            "text/plain": [
              "<Figure size 720x504 with 1 Axes>"
            ]
          },
          "metadata": {
            "tags": []
          }
        }
      ]
    },
    {
      "cell_type": "code",
      "metadata": {
        "colab": {
          "base_uri": "https://localhost:8080/",
          "height": 0
        },
        "id": "Ooo27It1v8o-",
        "outputId": "5e3bf7ef-aff3-4a68-c787-59427c237402"
      },
      "source": [
        "df.groupby('with_deposit')['id'].agg('count').reset_index()"
      ],
      "execution_count": 289,
      "outputs": [
        {
          "output_type": "execute_result",
          "data": {
            "text/html": [
              "<div>\n",
              "<style scoped>\n",
              "    .dataframe tbody tr th:only-of-type {\n",
              "        vertical-align: middle;\n",
              "    }\n",
              "\n",
              "    .dataframe tbody tr th {\n",
              "        vertical-align: top;\n",
              "    }\n",
              "\n",
              "    .dataframe thead th {\n",
              "        text-align: right;\n",
              "    }\n",
              "</style>\n",
              "<table border=\"1\" class=\"dataframe\">\n",
              "  <thead>\n",
              "    <tr style=\"text-align: right;\">\n",
              "      <th></th>\n",
              "      <th>with_deposit</th>\n",
              "      <th>id</th>\n",
              "    </tr>\n",
              "  </thead>\n",
              "  <tbody>\n",
              "    <tr>\n",
              "      <th>0</th>\n",
              "      <td>0</td>\n",
              "      <td>27099</td>\n",
              "    </tr>\n",
              "    <tr>\n",
              "      <th>1</th>\n",
              "      <td>1</td>\n",
              "      <td>43708</td>\n",
              "    </tr>\n",
              "  </tbody>\n",
              "</table>\n",
              "</div>"
            ],
            "text/plain": [
              "   with_deposit     id\n",
              "0             0  27099\n",
              "1             1  43708"
            ]
          },
          "metadata": {
            "tags": []
          },
          "execution_count": 289
        }
      ]
    },
    {
      "cell_type": "code",
      "metadata": {
        "colab": {
          "base_uri": "https://localhost:8080/",
          "height": 0
        },
        "id": "YZDxCNQxGQdZ",
        "outputId": "2ac0c4b2-978b-4641-ec34-18a93cb1d156"
      },
      "source": [
        "sns.set_style(\"whitegrid\")\n",
        "sns.set_palette('Blues_r', 2)\n",
        "df.groupby('with_deposit')['id'].agg('count').reset_index().plot.pie(x = 'with_deposit', y = 'id',autopct=\"%.0f%%\", labels=['Без депозита','С депозитом'])\n",
        "plt.title(\"Доля игроков с депозитом и без\")\n",
        "plt.xlabel(None, fontsize = 12)\n",
        "plt.ylabel(None, fontsize = 12)\n",
        "plt.show()"
      ],
      "execution_count": 290,
      "outputs": [
        {
          "output_type": "display_data",
          "data": {
            "image/png": "[encoded data removed]",
            "text/plain": [
              "<Figure size 432x288 with 1 Axes>"
            ]
          },
          "metadata": {
            "tags": []
          }
        }
      ]
    },
    {
      "cell_type": "code",
      "metadata": {
        "colab": {
          "base_uri": "https://localhost:8080/",
          "height": 0
        },
        "id": "mIdQ9L-DxuH2",
        "outputId": "ae3140f1-6ddf-4d1a-d413-203dae88e847"
      },
      "source": [
        "df.query('with_deposit == 0').groupby('cat_visits')['loss_in_visit'].agg(['mean','count'])"
      ],
      "execution_count": 291,
      "outputs": [
        {
          "output_type": "execute_result",
          "data": {
            "text/html": [
              "<div>\n",
              "<style scoped>\n",
              "    .dataframe tbody tr th:only-of-type {\n",
              "        vertical-align: middle;\n",
              "    }\n",
              "\n",
              "    .dataframe tbody tr th {\n",
              "        vertical-align: top;\n",
              "    }\n",
              "\n",
              "    .dataframe thead th {\n",
              "        text-align: right;\n",
              "    }\n",
              "</style>\n",
              "<table border=\"1\" class=\"dataframe\">\n",
              "  <thead>\n",
              "    <tr style=\"text-align: right;\">\n",
              "      <th></th>\n",
              "      <th>mean</th>\n",
              "      <th>count</th>\n",
              "    </tr>\n",
              "    <tr>\n",
              "      <th>cat_visits</th>\n",
              "      <th></th>\n",
              "      <th></th>\n",
              "    </tr>\n",
              "  </thead>\n",
              "  <tbody>\n",
              "    <tr>\n",
              "      <th>0</th>\n",
              "      <td>-0.402850</td>\n",
              "      <td>21055</td>\n",
              "    </tr>\n",
              "    <tr>\n",
              "      <th>1</th>\n",
              "      <td>282.989444</td>\n",
              "      <td>2842</td>\n",
              "    </tr>\n",
              "    <tr>\n",
              "      <th>2-5</th>\n",
              "      <td>495.639540</td>\n",
              "      <td>2089</td>\n",
              "    </tr>\n",
              "    <tr>\n",
              "      <th>6-10</th>\n",
              "      <td>1051.461538</td>\n",
              "      <td>494</td>\n",
              "    </tr>\n",
              "    <tr>\n",
              "      <th>11-20</th>\n",
              "      <td>814.320988</td>\n",
              "      <td>324</td>\n",
              "    </tr>\n",
              "    <tr>\n",
              "      <th>21-30</th>\n",
              "      <td>661.092308</td>\n",
              "      <td>130</td>\n",
              "    </tr>\n",
              "    <tr>\n",
              "      <th>31-50</th>\n",
              "      <td>1153.515152</td>\n",
              "      <td>99</td>\n",
              "    </tr>\n",
              "    <tr>\n",
              "      <th>51+</th>\n",
              "      <td>1445.924242</td>\n",
              "      <td>66</td>\n",
              "    </tr>\n",
              "  </tbody>\n",
              "</table>\n",
              "</div>"
            ],
            "text/plain": [
              "                   mean  count\n",
              "cat_visits                    \n",
              "0             -0.402850  21055\n",
              "1            282.989444   2842\n",
              "2-5          495.639540   2089\n",
              "6-10        1051.461538    494\n",
              "11-20        814.320988    324\n",
              "21-30        661.092308    130\n",
              "31-50       1153.515152     99\n",
              "51+         1445.924242     66"
            ]
          },
          "metadata": {
            "tags": []
          },
          "execution_count": 291
        }
      ]
    },
    {
      "cell_type": "markdown",
      "metadata": {
        "id": "SgV6bU1AwVE6"
      },
      "source": [
        "Видим, что средний размер проигрыша за один визит растет от количества посещений. Также важно отметить, что в среднем, клиенты которые не совершают повторного визита, остаются в выигрыше (пусть и небольшом). Выигрыш можно объяснить бонусами, так как существенная часть клиентов пользуются бонусами, не внося депозит. Если рассмотреть только тех клиентов, кто при первом посещении вносил депозит - то увидим, что выигрыш среди клиентов без повторного визита существенно меньше (можно даже округлить до нуля). "
      ]
    },
    {
      "cell_type": "code",
      "metadata": {
        "colab": {
          "base_uri": "https://localhost:8080/"
        },
        "id": "s19D2R9Jycd8",
        "outputId": "b69885d8-c6b2-4d55-c269-4ff3fb4a9465"
      },
      "source": [
        "df.groupby('visits_after')['id'].agg('count')"
      ],
      "execution_count": 292,
      "outputs": [
        {
          "output_type": "execute_result",
          "data": {
            "text/plain": [
              "visits_after\n",
              "0    43414\n",
              "1    27393\n",
              "Name: id, dtype: int64"
            ]
          },
          "metadata": {
            "tags": []
          },
          "execution_count": 292
        }
      ]
    },
    {
      "cell_type": "code",
      "metadata": {
        "colab": {
          "base_uri": "https://localhost:8080/"
        },
        "id": "Y2IzKv9L2GCn",
        "outputId": "652ffb7b-fe03-4e98-a111-75c7f0391a3f"
      },
      "source": [
        "print('{:.1%}'.format((len(df.query('visits_after == 0')) / len(df))))"
      ],
      "execution_count": 293,
      "outputs": [
        {
          "output_type": "stream",
          "text": [
            "61.3%\n"
          ],
          "name": "stdout"
        }
      ]
    },
    {
      "cell_type": "code",
      "metadata": {
        "colab": {
          "base_uri": "https://localhost:8080/",
          "height": 0
        },
        "id": "nfcL6eiK3Cru",
        "outputId": "393d45a7-6a47-42ef-d1f0-f2c2eabd7d23"
      },
      "source": [
        "df.groupby('cat_visits')[['all_losses', 'bonus']].agg(['mean','sum','count'])"
      ],
      "execution_count": 294,
      "outputs": [
        {
          "output_type": "execute_result",
          "data": {
            "text/html": [
              "<div>\n",
              "<style scoped>\n",
              "    .dataframe tbody tr th:only-of-type {\n",
              "        vertical-align: middle;\n",
              "    }\n",
              "\n",
              "    .dataframe tbody tr th {\n",
              "        vertical-align: top;\n",
              "    }\n",
              "\n",
              "    .dataframe thead tr th {\n",
              "        text-align: left;\n",
              "    }\n",
              "\n",
              "    .dataframe thead tr:last-of-type th {\n",
              "        text-align: right;\n",
              "    }\n",
              "</style>\n",
              "<table border=\"1\" class=\"dataframe\">\n",
              "  <thead>\n",
              "    <tr>\n",
              "      <th></th>\n",
              "      <th colspan=\"3\" halign=\"left\">all_losses</th>\n",
              "      <th colspan=\"3\" halign=\"left\">bonus</th>\n",
              "    </tr>\n",
              "    <tr>\n",
              "      <th></th>\n",
              "      <th>mean</th>\n",
              "      <th>sum</th>\n",
              "      <th>count</th>\n",
              "      <th>mean</th>\n",
              "      <th>sum</th>\n",
              "      <th>count</th>\n",
              "    </tr>\n",
              "    <tr>\n",
              "      <th>cat_visits</th>\n",
              "      <th></th>\n",
              "      <th></th>\n",
              "      <th></th>\n",
              "      <th></th>\n",
              "      <th></th>\n",
              "      <th></th>\n",
              "    </tr>\n",
              "  </thead>\n",
              "  <tbody>\n",
              "    <tr>\n",
              "      <th>0</th>\n",
              "      <td>-12.031534</td>\n",
              "      <td>-522337</td>\n",
              "      <td>43414</td>\n",
              "      <td>0.797899</td>\n",
              "      <td>34640</td>\n",
              "      <td>43414</td>\n",
              "    </tr>\n",
              "    <tr>\n",
              "      <th>1</th>\n",
              "      <td>1051.600662</td>\n",
              "      <td>9851395</td>\n",
              "      <td>9368</td>\n",
              "      <td>0.707408</td>\n",
              "      <td>6627</td>\n",
              "      <td>9368</td>\n",
              "    </tr>\n",
              "    <tr>\n",
              "      <th>2-5</th>\n",
              "      <td>3743.353052</td>\n",
              "      <td>35816402</td>\n",
              "      <td>9568</td>\n",
              "      <td>0.655727</td>\n",
              "      <td>6274</td>\n",
              "      <td>9568</td>\n",
              "    </tr>\n",
              "    <tr>\n",
              "      <th>6-10</th>\n",
              "      <td>9288.156465</td>\n",
              "      <td>29740677</td>\n",
              "      <td>3202</td>\n",
              "      <td>0.600250</td>\n",
              "      <td>1922</td>\n",
              "      <td>3202</td>\n",
              "    </tr>\n",
              "    <tr>\n",
              "      <th>11-20</th>\n",
              "      <td>23787.962553</td>\n",
              "      <td>55901712</td>\n",
              "      <td>2350</td>\n",
              "      <td>0.575745</td>\n",
              "      <td>1353</td>\n",
              "      <td>2350</td>\n",
              "    </tr>\n",
              "    <tr>\n",
              "      <th>21-30</th>\n",
              "      <td>43447.998106</td>\n",
              "      <td>45881086</td>\n",
              "      <td>1056</td>\n",
              "      <td>0.584280</td>\n",
              "      <td>617</td>\n",
              "      <td>1056</td>\n",
              "    </tr>\n",
              "    <tr>\n",
              "      <th>31-50</th>\n",
              "      <td>73122.219836</td>\n",
              "      <td>71513531</td>\n",
              "      <td>978</td>\n",
              "      <td>0.520450</td>\n",
              "      <td>509</td>\n",
              "      <td>978</td>\n",
              "    </tr>\n",
              "    <tr>\n",
              "      <th>51+</th>\n",
              "      <td>156515.833525</td>\n",
              "      <td>136325291</td>\n",
              "      <td>871</td>\n",
              "      <td>0.484501</td>\n",
              "      <td>422</td>\n",
              "      <td>871</td>\n",
              "    </tr>\n",
              "  </tbody>\n",
              "</table>\n",
              "</div>"
            ],
            "text/plain": [
              "               all_losses                       bonus              \n",
              "                     mean        sum  count      mean    sum  count\n",
              "cat_visits                                                         \n",
              "0              -12.031534    -522337  43414  0.797899  34640  43414\n",
              "1             1051.600662    9851395   9368  0.707408   6627   9368\n",
              "2-5           3743.353052   35816402   9568  0.655727   6274   9568\n",
              "6-10          9288.156465   29740677   3202  0.600250   1922   3202\n",
              "11-20        23787.962553   55901712   2350  0.575745   1353   2350\n",
              "21-30        43447.998106   45881086   1056  0.584280    617   1056\n",
              "31-50        73122.219836   71513531    978  0.520450    509    978\n",
              "51+         156515.833525  136325291    871  0.484501    422    871"
            ]
          },
          "metadata": {
            "tags": []
          },
          "execution_count": 294
        }
      ]
    },
    {
      "cell_type": "code",
      "metadata": {
        "colab": {
          "base_uri": "https://localhost:8080/"
        },
        "id": "1zFZLD9E2IG1",
        "outputId": "e651cd16-641c-488f-babe-57b957d3158e"
      },
      "source": [
        "(len(df) * 0.61 - len(df) * 0.56) * 1051"
      ],
      "execution_count": 295,
      "outputs": [
        {
          "output_type": "execute_result",
          "data": {
            "text/plain": [
              "3720907.849999991"
            ]
          },
          "metadata": {
            "tags": []
          },
          "execution_count": 295
        }
      ]
    },
    {
      "cell_type": "markdown",
      "metadata": {
        "id": "NaOGArlw27Kx"
      },
      "source": [
        "После первого посещения отсеивается 61% клиентов. При этом эти 61% приносят суммарный убыток в 522 000. Если мы сможем улучшить конверсию в поторное посещение хотя бы на 5%, то сможем дополнительно получить, как минимум, **3 720 907** при условии сохранения среднего размера проигрыша за одно посещение.\n",
        "Также видим, что почти 80% клиентов отсеявшихся при первом посещении - пользовались бонусами.\n",
        "\n",
        "**Гипотеза:** поменять принцип работы бонусов таким образом, чтобы у клиентов была дополнительная мотивация посетить клуб во второй раз. Например, удваивать бонусы при повторном посещении.\n"
      ]
    },
    {
      "cell_type": "markdown",
      "metadata": {
        "id": "XNIeR4t4-Fnx"
      },
      "source": [
        "#### Средний проигрыш в первый день в разрезе бонусов и в разрезе количества визитов"
      ]
    },
    {
      "cell_type": "code",
      "metadata": {
        "colab": {
          "base_uri": "https://localhost:8080/",
          "height": 0
        },
        "id": "Te3wuxs0-HUf",
        "outputId": "0751acc2-7cdf-4ad6-81a8-cae37be43b0b"
      },
      "source": [
        "df.groupby('bonus')['loss_first_visit'].agg(['mean','count'])"
      ],
      "execution_count": 296,
      "outputs": [
        {
          "output_type": "execute_result",
          "data": {
            "text/html": [
              "<div>\n",
              "<style scoped>\n",
              "    .dataframe tbody tr th:only-of-type {\n",
              "        vertical-align: middle;\n",
              "    }\n",
              "\n",
              "    .dataframe tbody tr th {\n",
              "        vertical-align: top;\n",
              "    }\n",
              "\n",
              "    .dataframe thead th {\n",
              "        text-align: right;\n",
              "    }\n",
              "</style>\n",
              "<table border=\"1\" class=\"dataframe\">\n",
              "  <thead>\n",
              "    <tr style=\"text-align: right;\">\n",
              "      <th></th>\n",
              "      <th>mean</th>\n",
              "      <th>count</th>\n",
              "    </tr>\n",
              "    <tr>\n",
              "      <th>bonus</th>\n",
              "      <th></th>\n",
              "      <th></th>\n",
              "    </tr>\n",
              "  </thead>\n",
              "  <tbody>\n",
              "    <tr>\n",
              "      <th>0</th>\n",
              "      <td>1139.866508</td>\n",
              "      <td>18443</td>\n",
              "    </tr>\n",
              "    <tr>\n",
              "      <th>1</th>\n",
              "      <td>217.495913</td>\n",
              "      <td>52364</td>\n",
              "    </tr>\n",
              "  </tbody>\n",
              "</table>\n",
              "</div>"
            ],
            "text/plain": [
              "              mean  count\n",
              "bonus                    \n",
              "0      1139.866508  18443\n",
              "1       217.495913  52364"
            ]
          },
          "metadata": {
            "tags": []
          },
          "execution_count": 296
        }
      ]
    },
    {
      "cell_type": "code",
      "metadata": {
        "colab": {
          "base_uri": "https://localhost:8080/",
          "height": 0
        },
        "id": "0UDt98K7-UTx",
        "outputId": "8d560697-dc22-4458-bd19-2d942fbea2f0"
      },
      "source": [
        "df.groupby('cat_visits')['loss_first_visit'].agg(['mean','count'])"
      ],
      "execution_count": 297,
      "outputs": [
        {
          "output_type": "execute_result",
          "data": {
            "text/html": [
              "<div>\n",
              "<style scoped>\n",
              "    .dataframe tbody tr th:only-of-type {\n",
              "        vertical-align: middle;\n",
              "    }\n",
              "\n",
              "    .dataframe tbody tr th {\n",
              "        vertical-align: top;\n",
              "    }\n",
              "\n",
              "    .dataframe thead th {\n",
              "        text-align: right;\n",
              "    }\n",
              "</style>\n",
              "<table border=\"1\" class=\"dataframe\">\n",
              "  <thead>\n",
              "    <tr style=\"text-align: right;\">\n",
              "      <th></th>\n",
              "      <th>mean</th>\n",
              "      <th>count</th>\n",
              "    </tr>\n",
              "    <tr>\n",
              "      <th>cat_visits</th>\n",
              "      <th></th>\n",
              "      <th></th>\n",
              "    </tr>\n",
              "  </thead>\n",
              "  <tbody>\n",
              "    <tr>\n",
              "      <th>0</th>\n",
              "      <td>342.299373</td>\n",
              "      <td>43414</td>\n",
              "    </tr>\n",
              "    <tr>\n",
              "      <th>1</th>\n",
              "      <td>444.202818</td>\n",
              "      <td>9368</td>\n",
              "    </tr>\n",
              "    <tr>\n",
              "      <th>2-5</th>\n",
              "      <td>605.013378</td>\n",
              "      <td>9568</td>\n",
              "    </tr>\n",
              "    <tr>\n",
              "      <th>6-10</th>\n",
              "      <td>776.076827</td>\n",
              "      <td>3202</td>\n",
              "    </tr>\n",
              "    <tr>\n",
              "      <th>11-20</th>\n",
              "      <td>927.932766</td>\n",
              "      <td>2350</td>\n",
              "    </tr>\n",
              "    <tr>\n",
              "      <th>21-30</th>\n",
              "      <td>917.214015</td>\n",
              "      <td>1056</td>\n",
              "    </tr>\n",
              "    <tr>\n",
              "      <th>31-50</th>\n",
              "      <td>1087.594070</td>\n",
              "      <td>978</td>\n",
              "    </tr>\n",
              "    <tr>\n",
              "      <th>51+</th>\n",
              "      <td>1036.721010</td>\n",
              "      <td>871</td>\n",
              "    </tr>\n",
              "  </tbody>\n",
              "</table>\n",
              "</div>"
            ],
            "text/plain": [
              "                   mean  count\n",
              "cat_visits                    \n",
              "0            342.299373  43414\n",
              "1            444.202818   9368\n",
              "2-5          605.013378   9568\n",
              "6-10         776.076827   3202\n",
              "11-20        927.932766   2350\n",
              "21-30        917.214015   1056\n",
              "31-50       1087.594070    978\n",
              "51+         1036.721010    871"
            ]
          },
          "metadata": {
            "tags": []
          },
          "execution_count": 297
        }
      ]
    },
    {
      "cell_type": "code",
      "metadata": {
        "colab": {
          "base_uri": "https://localhost:8080/",
          "height": 0
        },
        "id": "a2e6Ol7t-jD2",
        "outputId": "c8aa8dad-06da-4e1f-fa6b-36fc66bf44bd"
      },
      "source": [
        "df.groupby('cat_visits')[['deposit','bet_with_bonus','loss_first_visit','loss_in_visit']].agg(['mean','count'])"
      ],
      "execution_count": 298,
      "outputs": [
        {
          "output_type": "execute_result",
          "data": {
            "text/html": [
              "<div>\n",
              "<style scoped>\n",
              "    .dataframe tbody tr th:only-of-type {\n",
              "        vertical-align: middle;\n",
              "    }\n",
              "\n",
              "    .dataframe tbody tr th {\n",
              "        vertical-align: top;\n",
              "    }\n",
              "\n",
              "    .dataframe thead tr th {\n",
              "        text-align: left;\n",
              "    }\n",
              "\n",
              "    .dataframe thead tr:last-of-type th {\n",
              "        text-align: right;\n",
              "    }\n",
              "</style>\n",
              "<table border=\"1\" class=\"dataframe\">\n",
              "  <thead>\n",
              "    <tr>\n",
              "      <th></th>\n",
              "      <th colspan=\"2\" halign=\"left\">deposit</th>\n",
              "      <th colspan=\"2\" halign=\"left\">bet_with_bonus</th>\n",
              "      <th colspan=\"2\" halign=\"left\">loss_first_visit</th>\n",
              "      <th colspan=\"2\" halign=\"left\">loss_in_visit</th>\n",
              "    </tr>\n",
              "    <tr>\n",
              "      <th></th>\n",
              "      <th>mean</th>\n",
              "      <th>count</th>\n",
              "      <th>mean</th>\n",
              "      <th>count</th>\n",
              "      <th>mean</th>\n",
              "      <th>count</th>\n",
              "      <th>mean</th>\n",
              "      <th>count</th>\n",
              "    </tr>\n",
              "    <tr>\n",
              "      <th>cat_visits</th>\n",
              "      <th></th>\n",
              "      <th></th>\n",
              "      <th></th>\n",
              "      <th></th>\n",
              "      <th></th>\n",
              "      <th></th>\n",
              "      <th></th>\n",
              "      <th></th>\n",
              "    </tr>\n",
              "  </thead>\n",
              "  <tbody>\n",
              "    <tr>\n",
              "      <th>0</th>\n",
              "      <td>832.214124</td>\n",
              "      <td>43414</td>\n",
              "      <td>364.229281</td>\n",
              "      <td>43414</td>\n",
              "      <td>342.299373</td>\n",
              "      <td>43414</td>\n",
              "      <td>-12.031534</td>\n",
              "      <td>43414</td>\n",
              "    </tr>\n",
              "    <tr>\n",
              "      <th>1</th>\n",
              "      <td>1295.322588</td>\n",
              "      <td>9368</td>\n",
              "      <td>314.650406</td>\n",
              "      <td>9368</td>\n",
              "      <td>444.202818</td>\n",
              "      <td>9368</td>\n",
              "      <td>525.827498</td>\n",
              "      <td>9368</td>\n",
              "    </tr>\n",
              "    <tr>\n",
              "      <th>2-5</th>\n",
              "      <td>1660.253344</td>\n",
              "      <td>9568</td>\n",
              "      <td>291.266200</td>\n",
              "      <td>9568</td>\n",
              "      <td>605.013378</td>\n",
              "      <td>9568</td>\n",
              "      <td>923.081626</td>\n",
              "      <td>9568</td>\n",
              "    </tr>\n",
              "    <tr>\n",
              "      <th>6-10</th>\n",
              "      <td>1924.718301</td>\n",
              "      <td>3202</td>\n",
              "      <td>260.585572</td>\n",
              "      <td>3202</td>\n",
              "      <td>776.076827</td>\n",
              "      <td>3202</td>\n",
              "      <td>1074.468457</td>\n",
              "      <td>3202</td>\n",
              "    </tr>\n",
              "    <tr>\n",
              "      <th>11-20</th>\n",
              "      <td>2100.535319</td>\n",
              "      <td>2350</td>\n",
              "      <td>252.302128</td>\n",
              "      <td>2350</td>\n",
              "      <td>927.932766</td>\n",
              "      <td>2350</td>\n",
              "      <td>1520.310638</td>\n",
              "      <td>2350</td>\n",
              "    </tr>\n",
              "    <tr>\n",
              "      <th>21-30</th>\n",
              "      <td>2251.900568</td>\n",
              "      <td>1056</td>\n",
              "      <td>251.538826</td>\n",
              "      <td>1056</td>\n",
              "      <td>917.214015</td>\n",
              "      <td>1056</td>\n",
              "      <td>1667.909091</td>\n",
              "      <td>1056</td>\n",
              "    </tr>\n",
              "    <tr>\n",
              "      <th>31-50</th>\n",
              "      <td>2278.344581</td>\n",
              "      <td>978</td>\n",
              "      <td>243.957055</td>\n",
              "      <td>978</td>\n",
              "      <td>1087.594070</td>\n",
              "      <td>978</td>\n",
              "      <td>1795.524540</td>\n",
              "      <td>978</td>\n",
              "    </tr>\n",
              "    <tr>\n",
              "      <th>51+</th>\n",
              "      <td>2327.117107</td>\n",
              "      <td>871</td>\n",
              "      <td>199.626866</td>\n",
              "      <td>871</td>\n",
              "      <td>1036.721010</td>\n",
              "      <td>871</td>\n",
              "      <td>1913.619977</td>\n",
              "      <td>871</td>\n",
              "    </tr>\n",
              "  </tbody>\n",
              "</table>\n",
              "</div>"
            ],
            "text/plain": [
              "                deposit        bet_with_bonus  ... loss_first_visit loss_in_visit       \n",
              "                   mean  count           mean  ...            count          mean  count\n",
              "cat_visits                                     ...                                      \n",
              "0            832.214124  43414     364.229281  ...            43414    -12.031534  43414\n",
              "1           1295.322588   9368     314.650406  ...             9368    525.827498   9368\n",
              "2-5         1660.253344   9568     291.266200  ...             9568    923.081626   9568\n",
              "6-10        1924.718301   3202     260.585572  ...             3202   1074.468457   3202\n",
              "11-20       2100.535319   2350     252.302128  ...             2350   1520.310638   2350\n",
              "21-30       2251.900568   1056     251.538826  ...             1056   1667.909091   1056\n",
              "31-50       2278.344581    978     243.957055  ...              978   1795.524540    978\n",
              "51+         2327.117107    871     199.626866  ...              871   1913.619977    871\n",
              "\n",
              "[8 rows x 8 columns]"
            ]
          },
          "metadata": {
            "tags": []
          },
          "execution_count": 298
        }
      ]
    },
    {
      "cell_type": "code",
      "metadata": {
        "colab": {
          "base_uri": "https://localhost:8080/",
          "height": 0
        },
        "id": "_nRr_YqwHYTT",
        "outputId": "ee7a5313-ee8f-4502-ac04-54b7b65a65b7"
      },
      "source": [
        "bar ('cat_visits', 'deposit', 'mean', 'Размер депозита в разрезе количества посещений')"
      ],
      "execution_count": 299,
      "outputs": [
        {
          "output_type": "display_data",
          "data": {
            "image/png": "[encoded data removed]",
            "text/plain": [
              "<Figure size 720x504 with 1 Axes>"
            ]
          },
          "metadata": {
            "tags": []
          }
        }
      ]
    },
    {
      "cell_type": "code",
      "metadata": {
        "colab": {
          "base_uri": "https://localhost:8080/",
          "height": 0
        },
        "id": "i4d2kaeoHi67",
        "outputId": "9f78f03b-af8e-4c4a-bb28-60e95b922f1b"
      },
      "source": [
        "bar ('cat_visits', 'loss_first_visit', 'mean', 'Размер проигрыша в первое посещение в разрезе количества посещений')"
      ],
      "execution_count": 300,
      "outputs": [
        {
          "output_type": "display_data",
          "data": {
            "image/png": "[encoded data removed]",
            "text/plain": [
              "<Figure size 720x504 with 1 Axes>"
            ]
          },
          "metadata": {
            "tags": []
          }
        }
      ]
    },
    {
      "cell_type": "code",
      "metadata": {
        "colab": {
          "base_uri": "https://localhost:8080/",
          "height": 0
        },
        "id": "x8-uDRwnEMTB",
        "outputId": "6329d6e3-23ff-426c-b0f7-f0a75e15d202"
      },
      "source": [
        "df.groupby('visits_after')[['deposit','bet_with_bonus','loss_first_visit']].agg(['mean','count'])"
      ],
      "execution_count": 301,
      "outputs": [
        {
          "output_type": "execute_result",
          "data": {
            "text/html": [
              "<div>\n",
              "<style scoped>\n",
              "    .dataframe tbody tr th:only-of-type {\n",
              "        vertical-align: middle;\n",
              "    }\n",
              "\n",
              "    .dataframe tbody tr th {\n",
              "        vertical-align: top;\n",
              "    }\n",
              "\n",
              "    .dataframe thead tr th {\n",
              "        text-align: left;\n",
              "    }\n",
              "\n",
              "    .dataframe thead tr:last-of-type th {\n",
              "        text-align: right;\n",
              "    }\n",
              "</style>\n",
              "<table border=\"1\" class=\"dataframe\">\n",
              "  <thead>\n",
              "    <tr>\n",
              "      <th></th>\n",
              "      <th colspan=\"2\" halign=\"left\">deposit</th>\n",
              "      <th colspan=\"2\" halign=\"left\">bet_with_bonus</th>\n",
              "      <th colspan=\"2\" halign=\"left\">loss_first_visit</th>\n",
              "    </tr>\n",
              "    <tr>\n",
              "      <th></th>\n",
              "      <th>mean</th>\n",
              "      <th>count</th>\n",
              "      <th>mean</th>\n",
              "      <th>count</th>\n",
              "      <th>mean</th>\n",
              "      <th>count</th>\n",
              "    </tr>\n",
              "    <tr>\n",
              "      <th>visits_after</th>\n",
              "      <th></th>\n",
              "      <th></th>\n",
              "      <th></th>\n",
              "      <th></th>\n",
              "      <th></th>\n",
              "      <th></th>\n",
              "    </tr>\n",
              "  </thead>\n",
              "  <tbody>\n",
              "    <tr>\n",
              "      <th>0</th>\n",
              "      <td>832.214124</td>\n",
              "      <td>43414</td>\n",
              "      <td>364.229281</td>\n",
              "      <td>43414</td>\n",
              "      <td>342.299373</td>\n",
              "      <td>43414</td>\n",
              "    </tr>\n",
              "    <tr>\n",
              "      <th>1</th>\n",
              "      <td>1670.216442</td>\n",
              "      <td>27393</td>\n",
              "      <td>286.199942</td>\n",
              "      <td>27393</td>\n",
              "      <td>640.708539</td>\n",
              "      <td>27393</td>\n",
              "    </tr>\n",
              "  </tbody>\n",
              "</table>\n",
              "</div>"
            ],
            "text/plain": [
              "                  deposit        bet_with_bonus        loss_first_visit       \n",
              "                     mean  count           mean  count             mean  count\n",
              "visits_after                                                                  \n",
              "0              832.214124  43414     364.229281  43414       342.299373  43414\n",
              "1             1670.216442  27393     286.199942  27393       640.708539  27393"
            ]
          },
          "metadata": {
            "tags": []
          },
          "execution_count": 301
        }
      ]
    },
    {
      "cell_type": "markdown",
      "metadata": {
        "id": "RM9uDvuzDaz_"
      },
      "source": [
        "Исходя из таблицы выше можем сделать следующие выводы: чем крупнее депозит при первом посещении, тем больше вероятность повторных посещений и чем крупнее проигрыш в первое посещение, тем также выше вероятность повторных посещений. Размер депозита и размер проигрыша достаточно сильно коррелируют между собой, поэтому, думаю, логичнее здесь будет ориентироваться именно на размер депозита. Можно предположить, что чем крупнее депозит при первом посещении - тем более опытный игрок, и тем с большей вероятностью он будет систематически возвращаться в клуб.\n",
        "\n",
        "**Гипотеза:** для привлечения более опытных игроков с потенциально большим количеством посещений стоит реализовать бонусы напрямую связанные с размером депозита. Например, бонус в размере процента от депозита. Это может заинтересовать более опытных игроков, так как они смогут получить гораздо более существенный бонус при внесении большого депозита."
      ]
    },
    {
      "cell_type": "markdown",
      "metadata": {
        "id": "IBsuwYkjGO7l"
      },
      "source": [
        "#### Выявить среднюю продолжительность между первым и вторым посещением, и определить количество дней после которых можно считать клиента ушедшим в отток"
      ]
    },
    {
      "cell_type": "code",
      "metadata": {
        "id": "3dXjZQUGGRYj"
      },
      "source": [
        "df['days_beetwen'] = df['2_day'] - df['1_day']"
      ],
      "execution_count": 302,
      "outputs": []
    },
    {
      "cell_type": "markdown",
      "metadata": {
        "id": "WHug4Nq4HpQw"
      },
      "source": [
        "В некоторых случаях получаем отрицательное значение, по какой-то причине день второго посещения иногда предшествую первому посещению. Решение данного вопроса пока отложим :)"
      ]
    },
    {
      "cell_type": "markdown",
      "metadata": {
        "id": "DSRWAOdFMuL_"
      },
      "source": [
        "#### Выявить топ-клубов по доходности на одного клиента"
      ]
    },
    {
      "cell_type": "code",
      "metadata": {
        "id": "dvF8cRAYKjdD"
      },
      "source": [
        "df['club_number'] = df.club_number.str.partition(',')[0]"
      ],
      "execution_count": 303,
      "outputs": []
    },
    {
      "cell_type": "markdown",
      "metadata": {
        "id": "o_zGEjs7MyO0"
      },
      "source": [
        "В столбце Club_number встречаются строчки, где указано сразу несколько клубов. Я предоположил, что в таком случае первый клуб в списке - это клуб первого посещения, а второй клуб в списке - клуб второго посещения. Поэтому я оставил только первый клуб в данном столбце. \n",
        "\n",
        "Однако это предположение оказалось не верным, ибо в некоторых случаях в строке было указано более одного номера, но второго посещения клиент не совершал.\n",
        "\n",
        "Поэтому будем считать, что это небольшой баг и будем ориентироваться на номер первого клуба в списке."
      ]
    },
    {
      "cell_type": "code",
      "metadata": {
        "id": "tCxriRRXtpGs"
      },
      "source": [
        "clubs_count = df.groupby('club_number')['id'].agg('count').reset_index()\n",
        "clubs_count = clubs_count.query('id < id.quantile(0.95) & id > id.quantile(0.05)')"
      ],
      "execution_count": 304,
      "outputs": []
    },
    {
      "cell_type": "code",
      "metadata": {
        "id": "8SzbjLJGvBP9"
      },
      "source": [
        "df2 = df.query('club_number in @clubs_count.club_number')"
      ],
      "execution_count": 305,
      "outputs": []
    },
    {
      "cell_type": "code",
      "metadata": {
        "id": "_rOicY2LvHTR"
      },
      "source": [
        "clubs = df2.groupby('club_number')[['bonus', 'all_losses', 'loss_in_visit']].agg(['mean','count']).reset_index()"
      ],
      "execution_count": 306,
      "outputs": []
    },
    {
      "cell_type": "code",
      "metadata": {
        "colab": {
          "base_uri": "https://localhost:8080/",
          "height": 0
        },
        "id": "9WR4ZWNMr2Ln",
        "outputId": "af83604c-4017-4b95-e7fe-ae0b66be3ea0"
      },
      "source": [
        "df2.groupby('club_number')['id'].count().reset_index().sort_values(by='id', ascending=False).head(5)"
      ],
      "execution_count": 307,
      "outputs": [
        {
          "output_type": "execute_result",
          "data": {
            "text/html": [
              "<div>\n",
              "<style scoped>\n",
              "    .dataframe tbody tr th:only-of-type {\n",
              "        vertical-align: middle;\n",
              "    }\n",
              "\n",
              "    .dataframe tbody tr th {\n",
              "        vertical-align: top;\n",
              "    }\n",
              "\n",
              "    .dataframe thead th {\n",
              "        text-align: right;\n",
              "    }\n",
              "</style>\n",
              "<table border=\"1\" class=\"dataframe\">\n",
              "  <thead>\n",
              "    <tr style=\"text-align: right;\">\n",
              "      <th></th>\n",
              "      <th>club_number</th>\n",
              "      <th>id</th>\n",
              "    </tr>\n",
              "  </thead>\n",
              "  <tbody>\n",
              "    <tr>\n",
              "      <th>37</th>\n",
              "      <td>1227</td>\n",
              "      <td>446</td>\n",
              "    </tr>\n",
              "    <tr>\n",
              "      <th>24</th>\n",
              "      <td>1175</td>\n",
              "      <td>438</td>\n",
              "    </tr>\n",
              "    <tr>\n",
              "      <th>157</th>\n",
              "      <td>1650</td>\n",
              "      <td>436</td>\n",
              "    </tr>\n",
              "    <tr>\n",
              "      <th>338</th>\n",
              "      <td>991</td>\n",
              "      <td>435</td>\n",
              "    </tr>\n",
              "    <tr>\n",
              "      <th>312</th>\n",
              "      <td>777</td>\n",
              "      <td>434</td>\n",
              "    </tr>\n",
              "  </tbody>\n",
              "</table>\n",
              "</div>"
            ],
            "text/plain": [
              "    club_number   id\n",
              "37         1227  446\n",
              "24         1175  438\n",
              "157        1650  436\n",
              "338         991  435\n",
              "312         777  434"
            ]
          },
          "metadata": {
            "tags": []
          },
          "execution_count": 307
        }
      ]
    },
    {
      "cell_type": "code",
      "metadata": {
        "colab": {
          "base_uri": "https://localhost:8080/",
          "height": 0
        },
        "id": "9ewodHttQSyT",
        "outputId": "2468ae7f-9abb-43c5-9495-b25ed0fabc9c"
      },
      "source": [
        "df2.groupby('club_number')['all_losses'].sum().reset_index().sort_values(by='all_losses', ascending=False).head(5)"
      ],
      "execution_count": 308,
      "outputs": [
        {
          "output_type": "execute_result",
          "data": {
            "text/html": [
              "<div>\n",
              "<style scoped>\n",
              "    .dataframe tbody tr th:only-of-type {\n",
              "        vertical-align: middle;\n",
              "    }\n",
              "\n",
              "    .dataframe tbody tr th {\n",
              "        vertical-align: top;\n",
              "    }\n",
              "\n",
              "    .dataframe thead th {\n",
              "        text-align: right;\n",
              "    }\n",
              "</style>\n",
              "<table border=\"1\" class=\"dataframe\">\n",
              "  <thead>\n",
              "    <tr style=\"text-align: right;\">\n",
              "      <th></th>\n",
              "      <th>club_number</th>\n",
              "      <th>all_losses</th>\n",
              "    </tr>\n",
              "  </thead>\n",
              "  <tbody>\n",
              "    <tr>\n",
              "      <th>133</th>\n",
              "      <td>1582</td>\n",
              "      <td>10743018</td>\n",
              "    </tr>\n",
              "    <tr>\n",
              "      <th>142</th>\n",
              "      <td>1610</td>\n",
              "      <td>5529669</td>\n",
              "    </tr>\n",
              "    <tr>\n",
              "      <th>120</th>\n",
              "      <td>1533</td>\n",
              "      <td>5346702</td>\n",
              "    </tr>\n",
              "    <tr>\n",
              "      <th>87</th>\n",
              "      <td>1422</td>\n",
              "      <td>4726016</td>\n",
              "    </tr>\n",
              "    <tr>\n",
              "      <th>105</th>\n",
              "      <td>1489</td>\n",
              "      <td>4547145</td>\n",
              "    </tr>\n",
              "  </tbody>\n",
              "</table>\n",
              "</div>"
            ],
            "text/plain": [
              "    club_number  all_losses\n",
              "133        1582    10743018\n",
              "142        1610     5529669\n",
              "120        1533     5346702\n",
              "87         1422     4726016\n",
              "105        1489     4547145"
            ]
          },
          "metadata": {
            "tags": []
          },
          "execution_count": 308
        }
      ]
    },
    {
      "cell_type": "markdown",
      "metadata": {
        "id": "QZT1uJwoP2wF"
      },
      "source": [
        "Определили топ-5 самых посещаемых клубов и топ-5 самых прибыльных.\n",
        "Возможно, стоит детальнее расмотреть данные по этим клубам + запросить дополнительную информацию по всем посещениям в этом клубе, чтобы определить наиболее существенные факторы."
      ]
    },
    {
      "cell_type": "markdown",
      "metadata": {
        "id": "6HcOs5by1MnL"
      },
      "source": [
        "#### Считаем зависимость повторных посещений от отношения оборота в первый день к размеру депозита"
      ]
    },
    {
      "cell_type": "code",
      "metadata": {
        "id": "qHR60r4M5MMx"
      },
      "source": [
        "df['in_vs_deposit'] = df.query('deposit > 0')['in_first_visit'] / df.query('deposit > 0')['deposit']"
      ],
      "execution_count": 309,
      "outputs": []
    },
    {
      "cell_type": "code",
      "metadata": {
        "id": "xnU0vHwa5jAT"
      },
      "source": [
        "df['in_vs_deposit2'] = pd.cut(df['in_vs_deposit'], [-1,0,1,2,3,5,440], labels=[\"0\", \"1\", \"2\", \"3\",\"4-5\", \"5+\"])"
      ],
      "execution_count": 310,
      "outputs": []
    },
    {
      "cell_type": "code",
      "metadata": {
        "colab": {
          "base_uri": "https://localhost:8080/",
          "height": 0
        },
        "id": "V7_S2NSX6eJg",
        "outputId": "507bdcf9-2de4-4fa2-d0d1-016b805c973e"
      },
      "source": [
        "df.groupby('in_vs_deposit2')[['visits_after', 'loss_in_visit', 'visits']].agg(['mean', 'count'])"
      ],
      "execution_count": 311,
      "outputs": [
        {
          "output_type": "execute_result",
          "data": {
            "text/html": [
              "<div>\n",
              "<style scoped>\n",
              "    .dataframe tbody tr th:only-of-type {\n",
              "        vertical-align: middle;\n",
              "    }\n",
              "\n",
              "    .dataframe tbody tr th {\n",
              "        vertical-align: top;\n",
              "    }\n",
              "\n",
              "    .dataframe thead tr th {\n",
              "        text-align: left;\n",
              "    }\n",
              "\n",
              "    .dataframe thead tr:last-of-type th {\n",
              "        text-align: right;\n",
              "    }\n",
              "</style>\n",
              "<table border=\"1\" class=\"dataframe\">\n",
              "  <thead>\n",
              "    <tr>\n",
              "      <th></th>\n",
              "      <th colspan=\"2\" halign=\"left\">visits_after</th>\n",
              "      <th colspan=\"2\" halign=\"left\">loss_in_visit</th>\n",
              "      <th colspan=\"2\" halign=\"left\">visits</th>\n",
              "    </tr>\n",
              "    <tr>\n",
              "      <th></th>\n",
              "      <th>mean</th>\n",
              "      <th>count</th>\n",
              "      <th>mean</th>\n",
              "      <th>count</th>\n",
              "      <th>mean</th>\n",
              "      <th>count</th>\n",
              "    </tr>\n",
              "    <tr>\n",
              "      <th>in_vs_deposit2</th>\n",
              "      <th></th>\n",
              "      <th></th>\n",
              "      <th></th>\n",
              "      <th></th>\n",
              "      <th></th>\n",
              "      <th></th>\n",
              "    </tr>\n",
              "  </thead>\n",
              "  <tbody>\n",
              "    <tr>\n",
              "      <th>0</th>\n",
              "      <td>0.279412</td>\n",
              "      <td>544</td>\n",
              "      <td>-27.303309</td>\n",
              "      <td>544</td>\n",
              "      <td>1.522059</td>\n",
              "      <td>544</td>\n",
              "    </tr>\n",
              "    <tr>\n",
              "      <th>1</th>\n",
              "      <td>0.437689</td>\n",
              "      <td>11892</td>\n",
              "      <td>253.989573</td>\n",
              "      <td>11892</td>\n",
              "      <td>4.400017</td>\n",
              "      <td>11892</td>\n",
              "    </tr>\n",
              "    <tr>\n",
              "      <th>2</th>\n",
              "      <td>0.458010</td>\n",
              "      <td>12384</td>\n",
              "      <td>485.603682</td>\n",
              "      <td>12384</td>\n",
              "      <td>3.958253</td>\n",
              "      <td>12384</td>\n",
              "    </tr>\n",
              "    <tr>\n",
              "      <th>3</th>\n",
              "      <td>0.497630</td>\n",
              "      <td>6330</td>\n",
              "      <td>554.146761</td>\n",
              "      <td>6330</td>\n",
              "      <td>4.743128</td>\n",
              "      <td>6330</td>\n",
              "    </tr>\n",
              "    <tr>\n",
              "      <th>4-5</th>\n",
              "      <td>0.547046</td>\n",
              "      <td>5941</td>\n",
              "      <td>720.039219</td>\n",
              "      <td>5941</td>\n",
              "      <td>4.991079</td>\n",
              "      <td>5941</td>\n",
              "    </tr>\n",
              "    <tr>\n",
              "      <th>5+</th>\n",
              "      <td>0.592413</td>\n",
              "      <td>6617</td>\n",
              "      <td>864.157322</td>\n",
              "      <td>6617</td>\n",
              "      <td>5.984585</td>\n",
              "      <td>6617</td>\n",
              "    </tr>\n",
              "  </tbody>\n",
              "</table>\n",
              "</div>"
            ],
            "text/plain": [
              "               visits_after        loss_in_visit           visits       \n",
              "                       mean  count          mean  count      mean  count\n",
              "in_vs_deposit2                                                          \n",
              "0                  0.279412    544    -27.303309    544  1.522059    544\n",
              "1                  0.437689  11892    253.989573  11892  4.400017  11892\n",
              "2                  0.458010  12384    485.603682  12384  3.958253  12384\n",
              "3                  0.497630   6330    554.146761   6330  4.743128   6330\n",
              "4-5                0.547046   5941    720.039219   5941  4.991079   5941\n",
              "5+                 0.592413   6617    864.157322   6617  5.984585   6617"
            ]
          },
          "metadata": {
            "tags": []
          },
          "execution_count": 311
        }
      ]
    },
    {
      "cell_type": "code",
      "metadata": {
        "colab": {
          "base_uri": "https://localhost:8080/",
          "height": 0
        },
        "id": "PHhWa4R6IycG",
        "outputId": "d8286b2c-2c3b-47d0-d258-d6e851a7387d"
      },
      "source": [
        "bar ('in_vs_deposit2', 'visits_after', 'mean', 'Вероятность повторного посещения в разрезе отношения оборота к депозиту')\n",
        "bar ('in_vs_deposit2', 'loss_in_visit', 'mean', 'Средний размер проигрыша за одно посещение в разрезе отношения оборота к депозиту')\n",
        "bar ('in_vs_deposit2', 'visits', 'mean', 'Среднее количество посещений в разрезе отношения оборота к депозиту')"
      ],
      "execution_count": 312,
      "outputs": [
        {
          "output_type": "display_data",
          "data": {
            "image/png": "[encoded data removed]",
            "text/plain": [
              "<Figure size 720x504 with 1 Axes>"
            ]
          },
          "metadata": {
            "tags": []
          }
        },
        {
          "output_type": "display_data",
          "data": {
            "image/png": "[encoded data removed]",
            "text/plain": [
              "<Figure size 720x504 with 1 Axes>"
            ]
          },
          "metadata": {
            "tags": []
          }
        },
        {
          "output_type": "display_data",
          "data": {
            "image/png": "[encoded data removed]",
            "text/plain": [
              "<Figure size 720x504 with 1 Axes>"
            ]
          },
          "metadata": {
            "tags": []
          }
        }
      ]
    },
    {
      "cell_type": "code",
      "metadata": {
        "colab": {
          "base_uri": "https://localhost:8080/",
          "height": 0
        },
        "id": "ZHAD5MIc5J5U",
        "outputId": "0f311381-541c-414b-d31e-77f384ebdc24"
      },
      "source": [
        "df.query('bonus == 0').groupby('in_vs_deposit2')[['visits_after', 'loss_in_visit', 'visits']].agg(['mean', 'count'])"
      ],
      "execution_count": 313,
      "outputs": [
        {
          "output_type": "execute_result",
          "data": {
            "text/html": [
              "<div>\n",
              "<style scoped>\n",
              "    .dataframe tbody tr th:only-of-type {\n",
              "        vertical-align: middle;\n",
              "    }\n",
              "\n",
              "    .dataframe tbody tr th {\n",
              "        vertical-align: top;\n",
              "    }\n",
              "\n",
              "    .dataframe thead tr th {\n",
              "        text-align: left;\n",
              "    }\n",
              "\n",
              "    .dataframe thead tr:last-of-type th {\n",
              "        text-align: right;\n",
              "    }\n",
              "</style>\n",
              "<table border=\"1\" class=\"dataframe\">\n",
              "  <thead>\n",
              "    <tr>\n",
              "      <th></th>\n",
              "      <th colspan=\"2\" halign=\"left\">visits_after</th>\n",
              "      <th colspan=\"2\" halign=\"left\">loss_in_visit</th>\n",
              "      <th colspan=\"2\" halign=\"left\">visits</th>\n",
              "    </tr>\n",
              "    <tr>\n",
              "      <th></th>\n",
              "      <th>mean</th>\n",
              "      <th>count</th>\n",
              "      <th>mean</th>\n",
              "      <th>count</th>\n",
              "      <th>mean</th>\n",
              "      <th>count</th>\n",
              "    </tr>\n",
              "    <tr>\n",
              "      <th>in_vs_deposit2</th>\n",
              "      <th></th>\n",
              "      <th></th>\n",
              "      <th></th>\n",
              "      <th></th>\n",
              "      <th></th>\n",
              "      <th></th>\n",
              "    </tr>\n",
              "  </thead>\n",
              "  <tbody>\n",
              "    <tr>\n",
              "      <th>0</th>\n",
              "      <td>NaN</td>\n",
              "      <td>0</td>\n",
              "      <td>NaN</td>\n",
              "      <td>0</td>\n",
              "      <td>NaN</td>\n",
              "      <td>0</td>\n",
              "    </tr>\n",
              "    <tr>\n",
              "      <th>1</th>\n",
              "      <td>0.470190</td>\n",
              "      <td>6793</td>\n",
              "      <td>273.573973</td>\n",
              "      <td>6793</td>\n",
              "      <td>5.219196</td>\n",
              "      <td>6793</td>\n",
              "    </tr>\n",
              "    <tr>\n",
              "      <th>2</th>\n",
              "      <td>0.496940</td>\n",
              "      <td>4902</td>\n",
              "      <td>606.191554</td>\n",
              "      <td>4902</td>\n",
              "      <td>4.726642</td>\n",
              "      <td>4902</td>\n",
              "    </tr>\n",
              "    <tr>\n",
              "      <th>3</th>\n",
              "      <td>0.530382</td>\n",
              "      <td>2304</td>\n",
              "      <td>660.065972</td>\n",
              "      <td>2304</td>\n",
              "      <td>5.673611</td>\n",
              "      <td>2304</td>\n",
              "    </tr>\n",
              "    <tr>\n",
              "      <th>4-5</th>\n",
              "      <td>0.607636</td>\n",
              "      <td>2174</td>\n",
              "      <td>942.803128</td>\n",
              "      <td>2174</td>\n",
              "      <td>6.212511</td>\n",
              "      <td>2174</td>\n",
              "    </tr>\n",
              "    <tr>\n",
              "      <th>5+</th>\n",
              "      <td>0.660009</td>\n",
              "      <td>2253</td>\n",
              "      <td>1170.532623</td>\n",
              "      <td>2253</td>\n",
              "      <td>7.768309</td>\n",
              "      <td>2253</td>\n",
              "    </tr>\n",
              "  </tbody>\n",
              "</table>\n",
              "</div>"
            ],
            "text/plain": [
              "               visits_after       loss_in_visit          visits      \n",
              "                       mean count          mean count      mean count\n",
              "in_vs_deposit2                                                       \n",
              "0                       NaN     0           NaN     0       NaN     0\n",
              "1                  0.470190  6793    273.573973  6793  5.219196  6793\n",
              "2                  0.496940  4902    606.191554  4902  4.726642  4902\n",
              "3                  0.530382  2304    660.065972  2304  5.673611  2304\n",
              "4-5                0.607636  2174    942.803128  2174  6.212511  2174\n",
              "5+                 0.660009  2253   1170.532623  2253  7.768309  2253"
            ]
          },
          "metadata": {
            "tags": []
          },
          "execution_count": 313
        }
      ]
    },
    {
      "cell_type": "code",
      "metadata": {
        "colab": {
          "base_uri": "https://localhost:8080/",
          "height": 0
        },
        "id": "Z7XD2KHk6f2Y",
        "outputId": "19057028-9476-4d33-c6ee-bb133a113323"
      },
      "source": [
        "df.groupby('win_or_lose')[['visits_after', 'loss_in_visit']].agg(['mean', 'count'])"
      ],
      "execution_count": 314,
      "outputs": [
        {
          "output_type": "execute_result",
          "data": {
            "text/html": [
              "<div>\n",
              "<style scoped>\n",
              "    .dataframe tbody tr th:only-of-type {\n",
              "        vertical-align: middle;\n",
              "    }\n",
              "\n",
              "    .dataframe tbody tr th {\n",
              "        vertical-align: top;\n",
              "    }\n",
              "\n",
              "    .dataframe thead tr th {\n",
              "        text-align: left;\n",
              "    }\n",
              "\n",
              "    .dataframe thead tr:last-of-type th {\n",
              "        text-align: right;\n",
              "    }\n",
              "</style>\n",
              "<table border=\"1\" class=\"dataframe\">\n",
              "  <thead>\n",
              "    <tr>\n",
              "      <th></th>\n",
              "      <th colspan=\"2\" halign=\"left\">visits_after</th>\n",
              "      <th colspan=\"2\" halign=\"left\">loss_in_visit</th>\n",
              "    </tr>\n",
              "    <tr>\n",
              "      <th></th>\n",
              "      <th>mean</th>\n",
              "      <th>count</th>\n",
              "      <th>mean</th>\n",
              "      <th>count</th>\n",
              "    </tr>\n",
              "    <tr>\n",
              "      <th>win_or_lose</th>\n",
              "      <th></th>\n",
              "      <th></th>\n",
              "      <th></th>\n",
              "      <th></th>\n",
              "    </tr>\n",
              "  </thead>\n",
              "  <tbody>\n",
              "    <tr>\n",
              "      <th>bonus_loss</th>\n",
              "      <td>0.216582</td>\n",
              "      <td>18538</td>\n",
              "      <td>138.833207</td>\n",
              "      <td>18538</td>\n",
              "    </tr>\n",
              "    <tr>\n",
              "      <th>lose</th>\n",
              "      <td>0.472507</td>\n",
              "      <td>33845</td>\n",
              "      <td>517.739902</td>\n",
              "      <td>33845</td>\n",
              "    </tr>\n",
              "    <tr>\n",
              "      <th>win</th>\n",
              "      <td>0.400890</td>\n",
              "      <td>18424</td>\n",
              "      <td>289.640632</td>\n",
              "      <td>18424</td>\n",
              "    </tr>\n",
              "  </tbody>\n",
              "</table>\n",
              "</div>"
            ],
            "text/plain": [
              "            visits_after        loss_in_visit       \n",
              "                    mean  count          mean  count\n",
              "win_or_lose                                         \n",
              "bonus_loss      0.216582  18538    138.833207  18538\n",
              "lose            0.472507  33845    517.739902  33845\n",
              "win             0.400890  18424    289.640632  18424"
            ]
          },
          "metadata": {
            "tags": []
          },
          "execution_count": 314
        }
      ]
    },
    {
      "cell_type": "markdown",
      "metadata": {
        "id": "X4AISB_81qVO"
      },
      "source": [
        "Видим, что победа или поражение в первое посещение не оказывают явного влияния на принятие решения о повторном посещении клуба. Среди победителей в первый день лишь 40% повторных посетителей, а среди проигравших - 47%.\n",
        "\n",
        "Куда интереснее дела обстоят с оборотом в первый день. А точнее с тем, во сколько раз оборот в первый день превысил депозит. Чем более существенна разница между депозитом и оборотом (в пользу оборота, размеется), тем большее количество ставок клиент выиграл (либо - тем выше был коэффициент у тех ставок, где клиент угадал исход). Вероятно, именно это и оказывает решающее влияние на принятие решения о повторном посещении, а не фактор положительного или отрицательного баланса.\n",
        "\n",
        "Так, например, у тех, у кого депозит +- равен обороту - конверсия в повторное посещение 43%. А у тех, у кого оборот превышал депозит более чем в 5 раз - конверсия 59%.\n",
        "\n",
        "**Гипотеза:** необходимо стимулировать клиентов при первом посещении совершать большее количество ставок и создавать условия, при которых у клиентов будет больше возможностей почувствовать вкус победы. Например, делать для новых клиентов возможность поставить на событие без риска проиграть (если клиент не угадывает исход - то средства возвращаются на счет (без возможности их сразу снять) и клиент может поставить на другое событие)."
      ]
    },
    {
      "cell_type": "code",
      "metadata": {
        "colab": {
          "base_uri": "https://localhost:8080/",
          "height": 0
        },
        "id": "X8yyOzo550vD",
        "outputId": "4c1d7b80-644e-4291-f6f6-cf299f5f2eda"
      },
      "source": [
        "df.groupby('money_out')[['visits_after', 'loss_in_visit','in_vs_deposit']].agg(['mean', 'count'])"
      ],
      "execution_count": 315,
      "outputs": [
        {
          "output_type": "execute_result",
          "data": {
            "text/html": [
              "<div>\n",
              "<style scoped>\n",
              "    .dataframe tbody tr th:only-of-type {\n",
              "        vertical-align: middle;\n",
              "    }\n",
              "\n",
              "    .dataframe tbody tr th {\n",
              "        vertical-align: top;\n",
              "    }\n",
              "\n",
              "    .dataframe thead tr th {\n",
              "        text-align: left;\n",
              "    }\n",
              "\n",
              "    .dataframe thead tr:last-of-type th {\n",
              "        text-align: right;\n",
              "    }\n",
              "</style>\n",
              "<table border=\"1\" class=\"dataframe\">\n",
              "  <thead>\n",
              "    <tr>\n",
              "      <th></th>\n",
              "      <th colspan=\"2\" halign=\"left\">visits_after</th>\n",
              "      <th colspan=\"2\" halign=\"left\">loss_in_visit</th>\n",
              "      <th colspan=\"2\" halign=\"left\">in_vs_deposit</th>\n",
              "    </tr>\n",
              "    <tr>\n",
              "      <th></th>\n",
              "      <th>mean</th>\n",
              "      <th>count</th>\n",
              "      <th>mean</th>\n",
              "      <th>count</th>\n",
              "      <th>mean</th>\n",
              "      <th>count</th>\n",
              "    </tr>\n",
              "    <tr>\n",
              "      <th>money_out</th>\n",
              "      <th></th>\n",
              "      <th></th>\n",
              "      <th></th>\n",
              "      <th></th>\n",
              "      <th></th>\n",
              "      <th></th>\n",
              "    </tr>\n",
              "  </thead>\n",
              "  <tbody>\n",
              "    <tr>\n",
              "      <th>0</th>\n",
              "      <td>0.372787</td>\n",
              "      <td>49358</td>\n",
              "      <td>334.240630</td>\n",
              "      <td>49358</td>\n",
              "      <td>2.895141</td>\n",
              "      <td>30401</td>\n",
              "    </tr>\n",
              "    <tr>\n",
              "      <th>1</th>\n",
              "      <td>0.419274</td>\n",
              "      <td>21449</td>\n",
              "      <td>416.592242</td>\n",
              "      <td>21449</td>\n",
              "      <td>3.941569</td>\n",
              "      <td>13307</td>\n",
              "    </tr>\n",
              "  </tbody>\n",
              "</table>\n",
              "</div>"
            ],
            "text/plain": [
              "          visits_after        loss_in_visit        in_vs_deposit       \n",
              "                  mean  count          mean  count          mean  count\n",
              "money_out                                                              \n",
              "0             0.372787  49358    334.240630  49358      2.895141  30401\n",
              "1             0.419274  21449    416.592242  21449      3.941569  13307"
            ]
          },
          "metadata": {
            "tags": []
          },
          "execution_count": 315
        }
      ]
    },
    {
      "cell_type": "code",
      "metadata": {
        "id": "YPf8naPu7bq0"
      },
      "source": [
        "df['in_vs_bonus'] = df.query('deposit == 0')['in_first_visit'] / df.query('deposit == 0')['bet_with_bonus']"
      ],
      "execution_count": 316,
      "outputs": []
    },
    {
      "cell_type": "code",
      "metadata": {
        "id": "goVe5-om72Ke"
      },
      "source": [
        "df['in_vs_bonus2'] = pd.cut(df['in_vs_bonus'], [-1,0,1,2,3,5,440], labels=[\"0\", \"1\", \"2\", \"3\",\"4-5\", \"5+\"])"
      ],
      "execution_count": 317,
      "outputs": []
    },
    {
      "cell_type": "code",
      "metadata": {
        "colab": {
          "base_uri": "https://localhost:8080/",
          "height": 0
        },
        "id": "xJ8SE_Hs8NT_",
        "outputId": "f078e390-0342-4061-83fb-1d542d068e55"
      },
      "source": [
        "df.groupby('in_vs_bonus2')[['visits_after', 'loss_in_visit', 'visits']].agg(['mean', 'count'])"
      ],
      "execution_count": 318,
      "outputs": [
        {
          "output_type": "execute_result",
          "data": {
            "text/html": [
              "<div>\n",
              "<style scoped>\n",
              "    .dataframe tbody tr th:only-of-type {\n",
              "        vertical-align: middle;\n",
              "    }\n",
              "\n",
              "    .dataframe tbody tr th {\n",
              "        vertical-align: top;\n",
              "    }\n",
              "\n",
              "    .dataframe thead tr th {\n",
              "        text-align: left;\n",
              "    }\n",
              "\n",
              "    .dataframe thead tr:last-of-type th {\n",
              "        text-align: right;\n",
              "    }\n",
              "</style>\n",
              "<table border=\"1\" class=\"dataframe\">\n",
              "  <thead>\n",
              "    <tr>\n",
              "      <th></th>\n",
              "      <th colspan=\"2\" halign=\"left\">visits_after</th>\n",
              "      <th colspan=\"2\" halign=\"left\">loss_in_visit</th>\n",
              "      <th colspan=\"2\" halign=\"left\">visits</th>\n",
              "    </tr>\n",
              "    <tr>\n",
              "      <th></th>\n",
              "      <th>mean</th>\n",
              "      <th>count</th>\n",
              "      <th>mean</th>\n",
              "      <th>count</th>\n",
              "      <th>mean</th>\n",
              "      <th>count</th>\n",
              "    </tr>\n",
              "    <tr>\n",
              "      <th>in_vs_bonus2</th>\n",
              "      <th></th>\n",
              "      <th></th>\n",
              "      <th></th>\n",
              "      <th></th>\n",
              "      <th></th>\n",
              "      <th></th>\n",
              "    </tr>\n",
              "  </thead>\n",
              "  <tbody>\n",
              "    <tr>\n",
              "      <th>0</th>\n",
              "      <td>0.203345</td>\n",
              "      <td>11660</td>\n",
              "      <td>80.165009</td>\n",
              "      <td>11660</td>\n",
              "      <td>0.882075</td>\n",
              "      <td>11660</td>\n",
              "    </tr>\n",
              "    <tr>\n",
              "      <th>1</th>\n",
              "      <td>0.211882</td>\n",
              "      <td>9241</td>\n",
              "      <td>91.289579</td>\n",
              "      <td>9241</td>\n",
              "      <td>1.011471</td>\n",
              "      <td>9241</td>\n",
              "    </tr>\n",
              "    <tr>\n",
              "      <th>2</th>\n",
              "      <td>0.242791</td>\n",
              "      <td>2809</td>\n",
              "      <td>127.238519</td>\n",
              "      <td>2809</td>\n",
              "      <td>1.221787</td>\n",
              "      <td>2809</td>\n",
              "    </tr>\n",
              "    <tr>\n",
              "      <th>3</th>\n",
              "      <td>0.258753</td>\n",
              "      <td>1171</td>\n",
              "      <td>144.186166</td>\n",
              "      <td>1171</td>\n",
              "      <td>1.335611</td>\n",
              "      <td>1171</td>\n",
              "    </tr>\n",
              "    <tr>\n",
              "      <th>4-5</th>\n",
              "      <td>0.298403</td>\n",
              "      <td>1002</td>\n",
              "      <td>206.906188</td>\n",
              "      <td>1002</td>\n",
              "      <td>1.852295</td>\n",
              "      <td>1002</td>\n",
              "    </tr>\n",
              "    <tr>\n",
              "      <th>5+</th>\n",
              "      <td>0.351960</td>\n",
              "      <td>1199</td>\n",
              "      <td>329.557131</td>\n",
              "      <td>1199</td>\n",
              "      <td>2.403670</td>\n",
              "      <td>1199</td>\n",
              "    </tr>\n",
              "  </tbody>\n",
              "</table>\n",
              "</div>"
            ],
            "text/plain": [
              "             visits_after        loss_in_visit           visits       \n",
              "                     mean  count          mean  count      mean  count\n",
              "in_vs_bonus2                                                          \n",
              "0                0.203345  11660     80.165009  11660  0.882075  11660\n",
              "1                0.211882   9241     91.289579   9241  1.011471   9241\n",
              "2                0.242791   2809    127.238519   2809  1.221787   2809\n",
              "3                0.258753   1171    144.186166   1171  1.335611   1171\n",
              "4-5              0.298403   1002    206.906188   1002  1.852295   1002\n",
              "5+               0.351960   1199    329.557131   1199  2.403670   1199"
            ]
          },
          "metadata": {
            "tags": []
          },
          "execution_count": 318
        }
      ]
    },
    {
      "cell_type": "code",
      "metadata": {
        "colab": {
          "base_uri": "https://localhost:8080/",
          "height": 0
        },
        "id": "8cv84TqDJiGa",
        "outputId": "1dc605dd-a2d9-4d22-9071-8ddee28ec45d"
      },
      "source": [
        "bar ('in_vs_bonus2', 'visits_after', 'mean', 'Вероятность повторного посещения в разрезе отношения оборота к бонусу')\n",
        "bar ('in_vs_bonus2', 'loss_in_visit', 'mean', 'Средний размер проигрыша за одно посещение в разрезе отношения оборота к бонусу')\n",
        "bar ('in_vs_bonus2', 'visits', 'mean', 'Среднее количество посещений в разрезе отношения оборота к бонусу')"
      ],
      "execution_count": 319,
      "outputs": [
        {
          "output_type": "display_data",
          "data": {
            "image/png": "[encoded data removed]",
            "text/plain": [
              "<Figure size 720x504 with 1 Axes>"
            ]
          },
          "metadata": {
            "tags": []
          }
        },
        {
          "output_type": "display_data",
          "data": {
            "image/png": "[encoded data removed]",
            "text/plain": [
              "<Figure size 720x504 with 1 Axes>"
            ]
          },
          "metadata": {
            "tags": []
          }
        },
        {
          "output_type": "display_data",
          "data": {
            "image/png": "[encoded data removed]",
            "text/plain": [
              "<Figure size 720x504 with 1 Axes>"
            ]
          },
          "metadata": {
            "tags": []
          }
        }
      ]
    },
    {
      "cell_type": "markdown",
      "metadata": {
        "id": "pmf9OuRYwd9N"
      },
      "source": [
        "Похожую ситуацию видим и среди тех, кто играл исключительно на бонусы при первом посещении. У тех, у кого оборот незначительно превышел размер бонуса - конверсия в повторное посещение от 21% до 24%. А вот у тех, у кого оборот превосходил размер бонуса в 4 и более раз - конверсия уже от 29% до 35%."
      ]
    },
    {
      "cell_type": "markdown",
      "metadata": {
        "id": "nAXI5Hck04Gx"
      },
      "source": [
        "## 3. Немного машинного обучения для определения оттока"
      ]
    },
    {
      "cell_type": "code",
      "metadata": {
        "id": "a3GsATkSJ0_d"
      },
      "source": [
        "def rule3(x):\n",
        "    if x == 1:\n",
        "         return 0\n",
        "    else:\n",
        "         return 1"
      ],
      "execution_count": 320,
      "outputs": []
    },
    {
      "cell_type": "code",
      "metadata": {
        "id": "d2-dZG51J0_e"
      },
      "source": [
        "df['churn'] = df.apply(lambda x: rule3(x['visits_after']), axis =  1)"
      ],
      "execution_count": 321,
      "outputs": []
    },
    {
      "cell_type": "code",
      "metadata": {
        "id": "B85I7RPfy8TW"
      },
      "source": [
        "df_ml = df[['loss_first_visit','in_first_visit','bet_with_bonus','deposit','moneywithdrawal','club_number','month','churn']]"
      ],
      "execution_count": 322,
      "outputs": []
    },
    {
      "cell_type": "code",
      "metadata": {
        "id": "TqpWIS4Zy-yt"
      },
      "source": [
        "X = df_ml.drop('churn', axis=1)\n",
        "y = df_ml['churn']"
      ],
      "execution_count": 323,
      "outputs": []
    },
    {
      "cell_type": "code",
      "metadata": {
        "id": "6bOvFxv-zXwM"
      },
      "source": [
        "X_train, X_test, y_train, y_test = train_test_split(X, y, test_size=0.2, random_state=0, stratify=y)"
      ],
      "execution_count": 324,
      "outputs": []
    },
    {
      "cell_type": "code",
      "metadata": {
        "id": "mnndIPrKzdKz"
      },
      "source": [
        "scaler = StandardScaler()\n",
        "scaler.fit(X_train)\n",
        "X_train_st = scaler.transform(X_train)\n",
        "X_test_st = scaler.transform(X_test)"
      ],
      "execution_count": 325,
      "outputs": []
    },
    {
      "cell_type": "code",
      "metadata": {
        "id": "sxUj3GsYzdl0"
      },
      "source": [
        "model = LogisticRegression(random_state=0, class_weight='balanced')"
      ],
      "execution_count": 326,
      "outputs": []
    },
    {
      "cell_type": "code",
      "metadata": {
        "colab": {
          "base_uri": "https://localhost:8080/"
        },
        "id": "L16BDkznziG9",
        "outputId": "57102876-157d-45f3-8e54-efec3b8d7576"
      },
      "source": [
        "model.fit(X_train_st, y_train)"
      ],
      "execution_count": 327,
      "outputs": [
        {
          "output_type": "execute_result",
          "data": {
            "text/plain": [
              "LogisticRegression(C=1.0, class_weight='balanced', dual=False,\n",
              "                   fit_intercept=True, intercept_scaling=1, l1_ratio=None,\n",
              "                   max_iter=100, multi_class='auto', n_jobs=None, penalty='l2',\n",
              "                   random_state=0, solver='lbfgs', tol=0.0001, verbose=0,\n",
              "                   warm_start=False)"
            ]
          },
          "metadata": {
            "tags": []
          },
          "execution_count": 327
        }
      ]
    },
    {
      "cell_type": "code",
      "metadata": {
        "id": "tOTmXXI0zlbD"
      },
      "source": [
        "predictions = model.predict(X_test_st)\n",
        "probabilities = model.predict_proba(X_test_st)[:,1]"
      ],
      "execution_count": 328,
      "outputs": []
    },
    {
      "cell_type": "code",
      "metadata": {
        "colab": {
          "base_uri": "https://localhost:8080/"
        },
        "id": "X8aGyY70zpsl",
        "outputId": "1c174621-9ccb-47a0-a8cf-6e5f878aa8fa"
      },
      "source": [
        "print('LogisticRegression')\n",
        "print('Accuracy: {:.2f}'.format(accuracy_score(y_test, predictions)))\n",
        "print('Precision: {:.2f}'.format(precision_score (y_test, predictions)))\n",
        "print('Recall: {:.2f}'.format(recall_score (y_test, predictions)))\n",
        "print('F1: {:.2f}'.format(f1_score(y_test, predictions)))\n",
        "print('roc_auc: {:.2f}'.format(roc_auc_score(y_test, probabilities)))"
      ],
      "execution_count": 329,
      "outputs": [
        {
          "output_type": "stream",
          "text": [
            "LogisticRegression\n",
            "Accuracy: 0.67\n",
            "Precision: 0.71\n",
            "Recall: 0.77\n",
            "F1: 0.74\n",
            "roc_auc: 0.69\n"
          ],
          "name": "stdout"
        }
      ]
    },
    {
      "cell_type": "code",
      "metadata": {
        "colab": {
          "base_uri": "https://localhost:8080/"
        },
        "id": "h7cxQygT0rAb",
        "outputId": "5b23eb24-8ace-4d3f-fd76-bd3536a6c389"
      },
      "source": [
        "pip install catboost"
      ],
      "execution_count": 330,
      "outputs": [
        {
          "output_type": "stream",
          "text": [
            "Requirement already satisfied: catboost in /usr/local/lib/python3.7/dist-packages (0.25.1)\n",
            "Requirement already satisfied: graphviz in /usr/local/lib/python3.7/dist-packages (from catboost) (0.10.1)\n",
            "Requirement already satisfied: plotly in /usr/local/lib/python3.7/dist-packages (from catboost) (4.4.1)\n",
            "Requirement already satisfied: pandas>=0.24.0 in /usr/local/lib/python3.7/dist-packages (from catboost) (1.1.5)\n",
            "Requirement already satisfied: scipy in /usr/local/lib/python3.7/dist-packages (from catboost) (1.4.1)\n",
            "Requirement already satisfied: matplotlib in /usr/local/lib/python3.7/dist-packages (from catboost) (3.2.2)\n",
            "Requirement already satisfied: six in /usr/local/lib/python3.7/dist-packages (from catboost) (1.15.0)\n",
            "Requirement already satisfied: numpy>=1.16.0 in /usr/local/lib/python3.7/dist-packages (from catboost) (1.19.5)\n",
            "Requirement already satisfied: retrying>=1.3.3 in /usr/local/lib/python3.7/dist-packages (from plotly->catboost) (1.3.3)\n",
            "Requirement already satisfied: pytz>=2017.2 in /usr/local/lib/python3.7/dist-packages (from pandas>=0.24.0->catboost) (2018.9)\n",
            "Requirement already satisfied: python-dateutil>=2.7.3 in /usr/local/lib/python3.7/dist-packages (from pandas>=0.24.0->catboost) (2.8.1)\n",
            "Requirement already satisfied: pyparsing!=2.0.4,!=2.1.2,!=2.1.6,>=2.0.1 in /usr/local/lib/python3.7/dist-packages (from matplotlib->catboost) (2.4.7)\n",
            "Requirement already satisfied: cycler>=0.10 in /usr/local/lib/python3.7/dist-packages (from matplotlib->catboost) (0.10.0)\n",
            "Requirement already satisfied: kiwisolver>=1.0.1 in /usr/local/lib/python3.7/dist-packages (from matplotlib->catboost) (1.3.1)\n"
          ],
          "name": "stdout"
        }
      ]
    },
    {
      "cell_type": "code",
      "metadata": {
        "id": "DQwH6-Z40eBi"
      },
      "source": [
        "from catboost import CatBoostClassifier, Pool"
      ],
      "execution_count": 331,
      "outputs": []
    },
    {
      "cell_type": "code",
      "metadata": {
        "id": "_2SmpWfQ1C4V"
      },
      "source": [
        "cat_model = CatBoostClassifier(verbose=False, random_state=0)\n",
        "cat_model.fit(X_train_st, y_train)\n",
        "cat_predictions = cat_model.predict(X_test_st)\n",
        "cat_probabilities = cat_model.predict_proba(X_test_st)[:,1]"
      ],
      "execution_count": 332,
      "outputs": []
    },
    {
      "cell_type": "code",
      "metadata": {
        "colab": {
          "base_uri": "https://localhost:8080/"
        },
        "id": "PLiOayiQ1QdO",
        "outputId": "66d58130-0996-4b87-a482-8a6c6e5febb6"
      },
      "source": [
        "print('CatBoost')\n",
        "print('Accuracy: {:.2f}'.format(accuracy_score(y_test, cat_predictions)))\n",
        "print('Precision: {:.2f}'.format(precision_score (y_test, cat_predictions)))\n",
        "print('Recall: {:.2f}'.format(recall_score (y_test, cat_predictions)))\n",
        "print('F1: {:.2f}'.format(f1_score(y_test, cat_predictions)))\n",
        "print('roc_auc: {:.2f}'.format(roc_auc_score(y_test, cat_probabilities)))"
      ],
      "execution_count": 333,
      "outputs": [
        {
          "output_type": "stream",
          "text": [
            "CatBoost\n",
            "Accuracy: 0.68\n",
            "Precision: 0.70\n",
            "Recall: 0.84\n",
            "F1: 0.77\n",
            "roc_auc: 0.72\n"
          ],
          "name": "stdout"
        }
      ]
    },
    {
      "cell_type": "code",
      "metadata": {
        "id": "Ls7O4sNI3htC"
      },
      "source": [
        "rf_model = RandomForestClassifier(n_estimators = 100,random_state = 0)\n",
        "rf_model.fit(X_train_st, y_train)\n",
        "rf_predictions = rf_model.predict(X_test_st)\n",
        "rf_probabilities = rf_model.predict_proba(X_test_st)[:,1]"
      ],
      "execution_count": 334,
      "outputs": []
    },
    {
      "cell_type": "code",
      "metadata": {
        "colab": {
          "base_uri": "https://localhost:8080/"
        },
        "id": "8naXtjLi38bX",
        "outputId": "51d19bcd-0806-4c20-c560-a4b4b769d769"
      },
      "source": [
        "print('RandomForestClassifier')\n",
        "print('Accuracy: {:.2f}'.format(accuracy_score(y_test, rf_predictions)))\n",
        "print('Precision: {:.2f}'.format(precision_score (y_test, rf_predictions)))\n",
        "print('Recall: {:.2f}'.format(recall_score (y_test, rf_predictions)))\n",
        "print('F1: {:.2f}'.format(f1_score(y_test, rf_predictions)))\n",
        "print('roc_auc: {:.2f}'.format(roc_auc_score(y_test, rf_probabilities)))"
      ],
      "execution_count": 335,
      "outputs": [
        {
          "output_type": "stream",
          "text": [
            "RandomForestClassifier\n",
            "Accuracy: 0.65\n",
            "Precision: 0.70\n",
            "Recall: 0.75\n",
            "F1: 0.72\n",
            "roc_auc: 0.68\n"
          ],
          "name": "stdout"
        }
      ]
    },
    {
      "cell_type": "code",
      "metadata": {
        "colab": {
          "base_uri": "https://localhost:8080/"
        },
        "id": "QQq3w-wP4ADy",
        "outputId": "7f1e5f2d-36f1-4fc1-83fb-ed9c27f04d05"
      },
      "source": [
        "fi_df = pd.DataFrame(data ={'feature': X.columns, 'importance': rf_model.feature_importances_})\n",
        "print(fi_df.sort_values(ascending = False, by='importance'))"
      ],
      "execution_count": 336,
      "outputs": [
        {
          "output_type": "stream",
          "text": [
            "            feature  importance\n",
            "5       club_number    0.274417\n",
            "1    in_first_visit    0.217373\n",
            "0  loss_first_visit    0.125038\n",
            "3           deposit    0.115476\n",
            "6             month    0.109449\n",
            "2    bet_with_bonus    0.099619\n",
            "4   moneywithdrawal    0.058629\n"
          ],
          "name": "stdout"
        }
      ]
    },
    {
      "cell_type": "code",
      "metadata": {
        "colab": {
          "base_uri": "https://localhost:8080/"
        },
        "id": "Uzg179dXOJAE",
        "outputId": "32ce52ed-2255-428e-bdbe-596b681e40fc"
      },
      "source": [
        "fi_df = pd.DataFrame(data ={'feature': X.columns, 'importance': cat_model.feature_importances_})\n",
        "print(fi_df.sort_values(ascending = False, by='importance'))"
      ],
      "execution_count": 337,
      "outputs": [
        {
          "output_type": "stream",
          "text": [
            "            feature  importance\n",
            "5       club_number   18.143682\n",
            "3           deposit   17.825861\n",
            "1    in_first_visit   17.408879\n",
            "0  loss_first_visit   16.715610\n",
            "4   moneywithdrawal   11.260679\n",
            "2    bet_with_bonus   10.589514\n",
            "6             month    8.055775\n"
          ],
          "name": "stdout"
        }
      ]
    },
    {
      "cell_type": "markdown",
      "metadata": {
        "id": "Zz2i9VRDSDLS"
      },
      "source": [
        "У всех трех моделей примерно одинаковые показатели Accuracy и Precision. Однако Accuracy здесь учитывать не стоит, так как у нас дисбаланс классов. \n",
        "\n",
        "Поэтому в первую очередь будем ориентироваться на Recall. Эта метрика существенно выше у КэтБуста и равна 84. \n",
        "\n",
        "В данном случае Recall для нас наиболее важен, так как показывает, насколько точно мы можем определять аудиторию, которая уходит в отток. И точность равна более 80%, что весьма хорошо. \n",
        "\n",
        "**Гипотеза:** зная потенциально уходящую в отток аудиторию - мы сможем реализовать под нее дополнительные маркетинговые активности, которые таки заставят их прийти в клуб повторно. Например, смс-рассылку с бонусами, либо таргетированную рекламу с креативом в духе \"БетБум ждет тебя! Удваиваем бонусы за повторное посещение\""
      ]
    },
    {
      "cell_type": "markdown",
      "metadata": {
        "id": "6XKyS9EJT95o"
      },
      "source": [
        "Также определили фичи, которые оказывают наибольшее влияние на предсказание моделей. И в случае КэтБуста, и в случае Рандомного Леса наиболее важная фича - клуб. Далее идут оборот, депозит и размер проигрыша."
      ]
    },
    {
      "cell_type": "markdown",
      "metadata": {
        "id": "VSGk5sa5NtAd"
      },
      "source": [
        "## 4. Модель сегментации по аналогии с RFM-score"
      ]
    },
    {
      "cell_type": "markdown",
      "metadata": {
        "id": "Gfb_ZNBhxhKv"
      },
      "source": [
        "Модель, которая будет сегментировать аудиторию в зависимости от вероятности повторного посещения клуба - аналог RFM-score"
      ]
    },
    {
      "cell_type": "markdown",
      "metadata": {
        "id": "2kcSkueVxpMa"
      },
      "source": [
        "4х-бальная система для каждой фичи,\n",
        "где 1 - самая низкая вероятность повторного посещения,\n",
        "а 4 - самая высокая вероятность повторного посещещния\n",
        "\n",
        "Фичи для оценки:\n",
        "- Размер бонусов\n",
        "- Отношение оборота к депозиту/бонусу\n",
        "- Размер проигрыша в первый день"
      ]
    },
    {
      "cell_type": "code",
      "metadata": {
        "id": "8ccSKirJyVSp"
      },
      "source": [
        "rfm = df[['id', 'loss_first_visit', 'in_first_visit', 'bet_with_bonus', 'deposit', 'visits_after']]"
      ],
      "execution_count": 338,
      "outputs": []
    },
    {
      "cell_type": "code",
      "metadata": {
        "id": "YSML4e9byYui"
      },
      "source": [
        "rfm['score_loss_first_visit'] = pd.cut(rfm['loss_first_visit'], [-3823,0,1000,3000,6000], labels=[\"1\", \"2\", \"3\", \"4\"])"
      ],
      "execution_count": 339,
      "outputs": []
    },
    {
      "cell_type": "code",
      "metadata": {
        "colab": {
          "base_uri": "https://localhost:8080/",
          "height": 195
        },
        "id": "akAOUZxrzVQG",
        "outputId": "55b7b97b-00f3-414a-fcf5-f811186c7c15"
      },
      "source": [
        "rfm.groupby('score_loss_first_visit')['visits_after'].agg(['mean'])"
      ],
      "execution_count": 340,
      "outputs": [
        {
          "output_type": "execute_result",
          "data": {
            "text/html": [
              "<div>\n",
              "<style scoped>\n",
              "    .dataframe tbody tr th:only-of-type {\n",
              "        vertical-align: middle;\n",
              "    }\n",
              "\n",
              "    .dataframe tbody tr th {\n",
              "        vertical-align: top;\n",
              "    }\n",
              "\n",
              "    .dataframe thead th {\n",
              "        text-align: right;\n",
              "    }\n",
              "</style>\n",
              "<table border=\"1\" class=\"dataframe\">\n",
              "  <thead>\n",
              "    <tr style=\"text-align: right;\">\n",
              "      <th></th>\n",
              "      <th>mean</th>\n",
              "    </tr>\n",
              "    <tr>\n",
              "      <th>score_loss_first_visit</th>\n",
              "      <th></th>\n",
              "    </tr>\n",
              "  </thead>\n",
              "  <tbody>\n",
              "    <tr>\n",
              "      <th>1</th>\n",
              "      <td>0.308452</td>\n",
              "    </tr>\n",
              "    <tr>\n",
              "      <th>2</th>\n",
              "      <td>0.428127</td>\n",
              "    </tr>\n",
              "    <tr>\n",
              "      <th>3</th>\n",
              "      <td>0.496558</td>\n",
              "    </tr>\n",
              "    <tr>\n",
              "      <th>4</th>\n",
              "      <td>0.551825</td>\n",
              "    </tr>\n",
              "  </tbody>\n",
              "</table>\n",
              "</div>"
            ],
            "text/plain": [
              "                            mean\n",
              "score_loss_first_visit          \n",
              "1                       0.308452\n",
              "2                       0.428127\n",
              "3                       0.496558\n",
              "4                       0.551825"
            ]
          },
          "metadata": {
            "tags": []
          },
          "execution_count": 340
        }
      ]
    },
    {
      "cell_type": "code",
      "metadata": {
        "id": "cKgrIMPOzxuT"
      },
      "source": [
        "rfm['score_bonus'] = pd.cut(rfm['bet_with_bonus'], [-1,0,300,700,25000], labels=[\"4\", \"3\", \"2\", \"1\"])"
      ],
      "execution_count": 341,
      "outputs": []
    },
    {
      "cell_type": "code",
      "metadata": {
        "colab": {
          "base_uri": "https://localhost:8080/",
          "height": 195
        },
        "id": "etlp9B080OGV",
        "outputId": "b66babeb-8f1b-49c2-b833-6bbde8a321ec"
      },
      "source": [
        "rfm.groupby('score_bonus')['visits_after'].agg(['mean','count'])"
      ],
      "execution_count": 342,
      "outputs": [
        {
          "output_type": "execute_result",
          "data": {
            "text/html": [
              "<div>\n",
              "<style scoped>\n",
              "    .dataframe tbody tr th:only-of-type {\n",
              "        vertical-align: middle;\n",
              "    }\n",
              "\n",
              "    .dataframe tbody tr th {\n",
              "        vertical-align: top;\n",
              "    }\n",
              "\n",
              "    .dataframe thead th {\n",
              "        text-align: right;\n",
              "    }\n",
              "</style>\n",
              "<table border=\"1\" class=\"dataframe\">\n",
              "  <thead>\n",
              "    <tr style=\"text-align: right;\">\n",
              "      <th></th>\n",
              "      <th>mean</th>\n",
              "      <th>count</th>\n",
              "    </tr>\n",
              "    <tr>\n",
              "      <th>score_bonus</th>\n",
              "      <th></th>\n",
              "      <th></th>\n",
              "    </tr>\n",
              "  </thead>\n",
              "  <tbody>\n",
              "    <tr>\n",
              "      <th>4</th>\n",
              "      <td>0.524264</td>\n",
              "      <td>18443</td>\n",
              "    </tr>\n",
              "    <tr>\n",
              "      <th>3</th>\n",
              "      <td>0.363981</td>\n",
              "      <td>19545</td>\n",
              "    </tr>\n",
              "    <tr>\n",
              "      <th>2</th>\n",
              "      <td>0.323980</td>\n",
              "      <td>27977</td>\n",
              "    </tr>\n",
              "    <tr>\n",
              "      <th>1</th>\n",
              "      <td>0.319290</td>\n",
              "      <td>4842</td>\n",
              "    </tr>\n",
              "  </tbody>\n",
              "</table>\n",
              "</div>"
            ],
            "text/plain": [
              "                 mean  count\n",
              "score_bonus                 \n",
              "4            0.524264  18443\n",
              "3            0.363981  19545\n",
              "2            0.323980  27977\n",
              "1            0.319290   4842"
            ]
          },
          "metadata": {
            "tags": []
          },
          "execution_count": 342
        }
      ]
    },
    {
      "cell_type": "code",
      "metadata": {
        "id": "LJgauH5p0YqK"
      },
      "source": [
        "rfm['deposit_vs_in'] = rfm.query('deposit > 0')['in_first_visit'] / rfm.query('deposit > 0')['deposit']"
      ],
      "execution_count": 343,
      "outputs": []
    },
    {
      "cell_type": "code",
      "metadata": {
        "id": "K2IoQ4vv1dTV"
      },
      "source": [
        "rfm['bonus_vs_in'] = rfm.query('deposit == 0')['in_first_visit'] / rfm.query('deposit == 0')['bet_with_bonus']"
      ],
      "execution_count": 344,
      "outputs": []
    },
    {
      "cell_type": "code",
      "metadata": {
        "id": "GlFZ5nGN2HFV"
      },
      "source": [
        "rfm['deposit_bonus_vs_in'] = rfm['deposit_vs_in'].combine_first(rfm['bonus_vs_in'])"
      ],
      "execution_count": 345,
      "outputs": []
    },
    {
      "cell_type": "code",
      "metadata": {
        "id": "bKBqclmfyYYd"
      },
      "source": [
        "rfm = rfm.query('deposit_bonus_vs_in != deposit_bonus_vs_in.max()')"
      ],
      "execution_count": 346,
      "outputs": []
    },
    {
      "cell_type": "code",
      "metadata": {
        "id": "Sg-QLK3q2pBx"
      },
      "source": [
        "rfm['score_in'] = pd.cut(rfm['deposit_bonus_vs_in'], [-1,0,2,5,500], labels=[\"1\", \"2\", \"3\", \"4\"])"
      ],
      "execution_count": 347,
      "outputs": []
    },
    {
      "cell_type": "code",
      "metadata": {
        "colab": {
          "base_uri": "https://localhost:8080/",
          "height": 195
        },
        "id": "ZvVjgldk23vo",
        "outputId": "c254e606-c9b1-4858-d96f-89b0a84c430f"
      },
      "source": [
        "rfm.groupby('score_in')['visits_after'].agg(['mean','count'])"
      ],
      "execution_count": 348,
      "outputs": [
        {
          "output_type": "execute_result",
          "data": {
            "text/html": [
              "<div>\n",
              "<style scoped>\n",
              "    .dataframe tbody tr th:only-of-type {\n",
              "        vertical-align: middle;\n",
              "    }\n",
              "\n",
              "    .dataframe tbody tr th {\n",
              "        vertical-align: top;\n",
              "    }\n",
              "\n",
              "    .dataframe thead th {\n",
              "        text-align: right;\n",
              "    }\n",
              "</style>\n",
              "<table border=\"1\" class=\"dataframe\">\n",
              "  <thead>\n",
              "    <tr style=\"text-align: right;\">\n",
              "      <th></th>\n",
              "      <th>mean</th>\n",
              "      <th>count</th>\n",
              "    </tr>\n",
              "    <tr>\n",
              "      <th>score_in</th>\n",
              "      <th></th>\n",
              "      <th></th>\n",
              "    </tr>\n",
              "  </thead>\n",
              "  <tbody>\n",
              "    <tr>\n",
              "      <th>1</th>\n",
              "      <td>0.206735</td>\n",
              "      <td>12204</td>\n",
              "    </tr>\n",
              "    <tr>\n",
              "      <th>2</th>\n",
              "      <td>0.372103</td>\n",
              "      <td>36326</td>\n",
              "    </tr>\n",
              "    <tr>\n",
              "      <th>3</th>\n",
              "      <td>0.484769</td>\n",
              "      <td>14444</td>\n",
              "    </tr>\n",
              "    <tr>\n",
              "      <th>4</th>\n",
              "      <td>0.555527</td>\n",
              "      <td>7816</td>\n",
              "    </tr>\n",
              "  </tbody>\n",
              "</table>\n",
              "</div>"
            ],
            "text/plain": [
              "              mean  count\n",
              "score_in                 \n",
              "1         0.206735  12204\n",
              "2         0.372103  36326\n",
              "3         0.484769  14444\n",
              "4         0.555527   7816"
            ]
          },
          "metadata": {
            "tags": []
          },
          "execution_count": 348
        }
      ]
    },
    {
      "cell_type": "code",
      "metadata": {
        "id": "Lwa81aRP4bWc"
      },
      "source": [
        "rfm_final = rfm[['id','score_bonus', 'score_loss_first_visit','score_in', 'loss_first_visit','visits_after']]"
      ],
      "execution_count": 349,
      "outputs": []
    },
    {
      "cell_type": "code",
      "metadata": {
        "id": "Mx4YHE8w5ro4"
      },
      "source": [
        "rfm_final = rfm_final.dropna()"
      ],
      "execution_count": 350,
      "outputs": []
    },
    {
      "cell_type": "code",
      "metadata": {
        "id": "yRCWq0jh5K3H"
      },
      "source": [
        "rfm_final['score_bonus'] = rfm_final['score_bonus'].astype('int')\n",
        "rfm_final['score_loss_first_visit'] = rfm_final['score_loss_first_visit'].astype('int')\n",
        "rfm_final['score_in'] = rfm_final['score_in'].astype('int')"
      ],
      "execution_count": 351,
      "outputs": []
    },
    {
      "cell_type": "code",
      "metadata": {
        "id": "LgF6QDvd4322"
      },
      "source": [
        "rfm_final['final_score'] = rfm_final['score_bonus'] + rfm_final['score_loss_first_visit'] + rfm_final['score_in']"
      ],
      "execution_count": 352,
      "outputs": []
    },
    {
      "cell_type": "code",
      "metadata": {
        "colab": {
          "base_uri": "https://localhost:8080/",
          "height": 402
        },
        "id": "TVFfZqGq444h",
        "outputId": "3256e5de-8d40-4663-ccd2-66f34de5c62e"
      },
      "source": [
        "rfm_final.groupby('final_score')[['visits_after','loss_first_visit']].agg(['count','mean'])"
      ],
      "execution_count": 353,
      "outputs": [
        {
          "output_type": "execute_result",
          "data": {
            "text/html": [
              "<div>\n",
              "<style scoped>\n",
              "    .dataframe tbody tr th:only-of-type {\n",
              "        vertical-align: middle;\n",
              "    }\n",
              "\n",
              "    .dataframe tbody tr th {\n",
              "        vertical-align: top;\n",
              "    }\n",
              "\n",
              "    .dataframe thead tr th {\n",
              "        text-align: left;\n",
              "    }\n",
              "\n",
              "    .dataframe thead tr:last-of-type th {\n",
              "        text-align: right;\n",
              "    }\n",
              "</style>\n",
              "<table border=\"1\" class=\"dataframe\">\n",
              "  <thead>\n",
              "    <tr>\n",
              "      <th></th>\n",
              "      <th colspan=\"2\" halign=\"left\">visits_after</th>\n",
              "      <th colspan=\"2\" halign=\"left\">loss_first_visit</th>\n",
              "    </tr>\n",
              "    <tr>\n",
              "      <th></th>\n",
              "      <th>count</th>\n",
              "      <th>mean</th>\n",
              "      <th>count</th>\n",
              "      <th>mean</th>\n",
              "    </tr>\n",
              "    <tr>\n",
              "      <th>final_score</th>\n",
              "      <th></th>\n",
              "      <th></th>\n",
              "      <th></th>\n",
              "      <th></th>\n",
              "    </tr>\n",
              "  </thead>\n",
              "  <tbody>\n",
              "    <tr>\n",
              "      <th>3</th>\n",
              "      <td>1047</td>\n",
              "      <td>0.185291</td>\n",
              "      <td>1047</td>\n",
              "      <td>-752.040115</td>\n",
              "    </tr>\n",
              "    <tr>\n",
              "      <th>4</th>\n",
              "      <td>7916</td>\n",
              "      <td>0.199217</td>\n",
              "      <td>7916</td>\n",
              "      <td>-421.432163</td>\n",
              "    </tr>\n",
              "    <tr>\n",
              "      <th>5</th>\n",
              "      <td>14851</td>\n",
              "      <td>0.255942</td>\n",
              "      <td>14851</td>\n",
              "      <td>-284.042893</td>\n",
              "    </tr>\n",
              "    <tr>\n",
              "      <th>6</th>\n",
              "      <td>9258</td>\n",
              "      <td>0.341110</td>\n",
              "      <td>9258</td>\n",
              "      <td>-171.974076</td>\n",
              "    </tr>\n",
              "    <tr>\n",
              "      <th>7</th>\n",
              "      <td>10435</td>\n",
              "      <td>0.453091</td>\n",
              "      <td>10435</td>\n",
              "      <td>121.550168</td>\n",
              "    </tr>\n",
              "    <tr>\n",
              "      <th>8</th>\n",
              "      <td>12054</td>\n",
              "      <td>0.474199</td>\n",
              "      <td>12054</td>\n",
              "      <td>740.030529</td>\n",
              "    </tr>\n",
              "    <tr>\n",
              "      <th>9</th>\n",
              "      <td>8677</td>\n",
              "      <td>0.510430</td>\n",
              "      <td>8677</td>\n",
              "      <td>1529.103492</td>\n",
              "    </tr>\n",
              "    <tr>\n",
              "      <th>10</th>\n",
              "      <td>4464</td>\n",
              "      <td>0.547491</td>\n",
              "      <td>4464</td>\n",
              "      <td>2668.625224</td>\n",
              "    </tr>\n",
              "    <tr>\n",
              "      <th>11</th>\n",
              "      <td>1711</td>\n",
              "      <td>0.635885</td>\n",
              "      <td>1711</td>\n",
              "      <td>3186.707189</td>\n",
              "    </tr>\n",
              "    <tr>\n",
              "      <th>12</th>\n",
              "      <td>377</td>\n",
              "      <td>0.660477</td>\n",
              "      <td>377</td>\n",
              "      <td>4078.657825</td>\n",
              "    </tr>\n",
              "  </tbody>\n",
              "</table>\n",
              "</div>"
            ],
            "text/plain": [
              "            visits_after           loss_first_visit             \n",
              "                   count      mean            count         mean\n",
              "final_score                                                     \n",
              "3                   1047  0.185291             1047  -752.040115\n",
              "4                   7916  0.199217             7916  -421.432163\n",
              "5                  14851  0.255942            14851  -284.042893\n",
              "6                   9258  0.341110             9258  -171.974076\n",
              "7                  10435  0.453091            10435   121.550168\n",
              "8                  12054  0.474199            12054   740.030529\n",
              "9                   8677  0.510430             8677  1529.103492\n",
              "10                  4464  0.547491             4464  2668.625224\n",
              "11                  1711  0.635885             1711  3186.707189\n",
              "12                   377  0.660477              377  4078.657825"
            ]
          },
          "metadata": {
            "tags": []
          },
          "execution_count": 353
        }
      ]
    },
    {
      "cell_type": "code",
      "metadata": {
        "colab": {
          "base_uri": "https://localhost:8080/",
          "height": 459
        },
        "id": "eVsPi2E0J5rV",
        "outputId": "380f0c58-cf3a-41e9-d510-e73ccc28b2a6"
      },
      "source": [
        "plt.figure(figsize=(10, 7))\n",
        "plt.grid(True)\n",
        "plt.title('Вероятность повторного посещения по сегментам')\n",
        "plot = sns.barplot(data = rfm_final.groupby('final_score')['visits_after'].agg(['mean']).reset_index(), x = 'final_score', y = 'mean')\n",
        "for p in plot.patches:\n",
        "        plot.annotate(format(p.get_height(), '.3f'), \n",
        "                      (p.get_x() + p.get_width() / 2., p.get_height()), \n",
        "                      ha = 'center', va = 'center', \n",
        "                      xytext = (0, 9), \n",
        "                      textcoords = 'offset points')\n",
        "plt.ylabel('visits_after')\n",
        "plt.xlabel('final_score')\n",
        "plt.xticks(rotation = 0)\n",
        "plt.show()"
      ],
      "execution_count": 354,
      "outputs": [
        {
          "output_type": "display_data",
          "data": {
            "image/png": "[encoded data removed]",
            "text/plain": [
              "<Figure size 720x504 with 1 Axes>"
            ]
          },
          "metadata": {
            "tags": []
          }
        }
      ]
    },
    {
      "cell_type": "markdown",
      "metadata": {
        "id": "0SVbOFAL9oeY"
      },
      "source": [
        "Видим, что сегментация прошла успешно и наблюдается рост процента повторных посещений от сегмента к сегменту.\n",
        "\n",
        "Какждый сегмент можно более детально проанализировать и выявить более специфические характеристики. Однако уже и в таком виде модель пригодна для использования. Под каждый сегмент (или под группы сегментов) можно реализовать индивидуальные маркетинговые активности.\n",
        "\n",
        "Так, например, группа сегментов 10-12 - это, вероятно, более опытные игроки, которые в большинстве своем и без дополнительной стимуляции посетят клуба повторно. Поэтому под них можно реализовать бонус зависящий от размера депозита.\n",
        "\n",
        "А вот сегменты 3-5 с большой вероятностью уйдут в отток, поэтому их, например, есть смысл помучать большим количеством касаний в таргетированной рекламе и смс-рассылках с бонусами на повторное посещение."
      ]
    }
  ]
}