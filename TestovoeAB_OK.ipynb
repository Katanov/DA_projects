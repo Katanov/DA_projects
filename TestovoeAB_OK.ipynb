{
  "nbformat": 4,
  "nbformat_minor": 0,
  "metadata": {
    "colab": {
      "name": "TestovoeAB_OK.ipynb",
      "provenance": [],
      "authorship_tag": "ABX9TyNgk8iNMhwGPIkgoJbL+vkd",
      "include_colab_link": true
    },
    "kernelspec": {
      "name": "python3",
      "display_name": "Python 3"
    },
    "language_info": {
      "name": "python"
    },
    "widgets": {
      "application/vnd.jupyter.widget-state+json": {
        "4ea4610e7dc94d18827b3ed976baed77": {
          "model_module": "@jupyter-widgets/controls",
          "model_name": "HBoxModel",
          "model_module_version": "1.5.0",
          "state": {
            "_view_name": "HBoxView",
            "_dom_classes": [],
            "_model_name": "HBoxModel",
            "_view_module": "@jupyter-widgets/controls",
            "_model_module_version": "1.5.0",
            "_view_count": null,
            "_view_module_version": "1.5.0",
            "box_style": "",
            "layout": "IPY_MODEL_a933ecf1b820495ca7123d08c0abe8b3",
            "_model_module": "@jupyter-widgets/controls",
            "children": [
              "IPY_MODEL_5b66144451614c9199930750d1766bc0",
              "IPY_MODEL_4a759747ed8c486f9ab3e4f446b3a967",
              "IPY_MODEL_de8895d8452e4f0a9b13b0f393d22754"
            ]
          }
        },
        "a933ecf1b820495ca7123d08c0abe8b3": {
          "model_module": "@jupyter-widgets/base",
          "model_name": "LayoutModel",
          "model_module_version": "1.2.0",
          "state": {
            "_view_name": "LayoutView",
            "grid_template_rows": null,
            "right": null,
            "justify_content": null,
            "_view_module": "@jupyter-widgets/base",
            "overflow": null,
            "_model_module_version": "1.2.0",
            "_view_count": null,
            "flex_flow": null,
            "width": null,
            "min_width": null,
            "border": null,
            "align_items": null,
            "bottom": null,
            "_model_module": "@jupyter-widgets/base",
            "top": null,
            "grid_column": null,
            "overflow_y": null,
            "overflow_x": null,
            "grid_auto_flow": null,
            "grid_area": null,
            "grid_template_columns": null,
            "flex": null,
            "_model_name": "LayoutModel",
            "justify_items": null,
            "grid_row": null,
            "max_height": null,
            "align_content": null,
            "visibility": null,
            "align_self": null,
            "height": null,
            "min_height": null,
            "padding": null,
            "grid_auto_rows": null,
            "grid_gap": null,
            "max_width": null,
            "order": null,
            "_view_module_version": "1.2.0",
            "grid_template_areas": null,
            "object_position": null,
            "object_fit": null,
            "grid_auto_columns": null,
            "margin": null,
            "display": null,
            "left": null
          }
        },
        "5b66144451614c9199930750d1766bc0": {
          "model_module": "@jupyter-widgets/controls",
          "model_name": "HTMLModel",
          "model_module_version": "1.5.0",
          "state": {
            "_view_name": "HTMLView",
            "style": "IPY_MODEL_dfc34ab837454b7d81dad6e75bfaa40b",
            "_dom_classes": [],
            "description": "",
            "_model_name": "HTMLModel",
            "placeholder": "​",
            "_view_module": "@jupyter-widgets/controls",
            "_model_module_version": "1.5.0",
            "value": "100%",
            "_view_count": null,
            "_view_module_version": "1.5.0",
            "description_tooltip": null,
            "_model_module": "@jupyter-widgets/controls",
            "layout": "IPY_MODEL_311af24221b6405ca60cc36eb1fad876"
          }
        },
        "4a759747ed8c486f9ab3e4f446b3a967": {
          "model_module": "@jupyter-widgets/controls",
          "model_name": "FloatProgressModel",
          "model_module_version": "1.5.0",
          "state": {
            "_view_name": "ProgressView",
            "style": "IPY_MODEL_8f51a864601c4277bacaf27d9cfe4b83",
            "_dom_classes": [],
            "description": "",
            "_model_name": "FloatProgressModel",
            "bar_style": "success",
            "max": 1000,
            "_view_module": "@jupyter-widgets/controls",
            "_model_module_version": "1.5.0",
            "value": 1000,
            "_view_count": null,
            "_view_module_version": "1.5.0",
            "orientation": "horizontal",
            "min": 0,
            "description_tooltip": null,
            "_model_module": "@jupyter-widgets/controls",
            "layout": "IPY_MODEL_8d90f6d8cbcd4fa59acc66b8a54140e4"
          }
        },
        "de8895d8452e4f0a9b13b0f393d22754": {
          "model_module": "@jupyter-widgets/controls",
          "model_name": "HTMLModel",
          "model_module_version": "1.5.0",
          "state": {
            "_view_name": "HTMLView",
            "style": "IPY_MODEL_1d28ca4388e84f2291b7d4fcfdeeec8a",
            "_dom_classes": [],
            "description": "",
            "_model_name": "HTMLModel",
            "placeholder": "​",
            "_view_module": "@jupyter-widgets/controls",
            "_model_module_version": "1.5.0",
            "value": " 1000/1000 [00:01&lt;00:00, 688.83it/s]",
            "_view_count": null,
            "_view_module_version": "1.5.0",
            "description_tooltip": null,
            "_model_module": "@jupyter-widgets/controls",
            "layout": "IPY_MODEL_1431cd58e41d405eb72f6cec9056ec9a"
          }
        },
        "dfc34ab837454b7d81dad6e75bfaa40b": {
          "model_module": "@jupyter-widgets/controls",
          "model_name": "DescriptionStyleModel",
          "model_module_version": "1.5.0",
          "state": {
            "_view_name": "StyleView",
            "_model_name": "DescriptionStyleModel",
            "description_width": "",
            "_view_module": "@jupyter-widgets/base",
            "_model_module_version": "1.5.0",
            "_view_count": null,
            "_view_module_version": "1.2.0",
            "_model_module": "@jupyter-widgets/controls"
          }
        },
        "311af24221b6405ca60cc36eb1fad876": {
          "model_module": "@jupyter-widgets/base",
          "model_name": "LayoutModel",
          "model_module_version": "1.2.0",
          "state": {
            "_view_name": "LayoutView",
            "grid_template_rows": null,
            "right": null,
            "justify_content": null,
            "_view_module": "@jupyter-widgets/base",
            "overflow": null,
            "_model_module_version": "1.2.0",
            "_view_count": null,
            "flex_flow": null,
            "width": null,
            "min_width": null,
            "border": null,
            "align_items": null,
            "bottom": null,
            "_model_module": "@jupyter-widgets/base",
            "top": null,
            "grid_column": null,
            "overflow_y": null,
            "overflow_x": null,
            "grid_auto_flow": null,
            "grid_area": null,
            "grid_template_columns": null,
            "flex": null,
            "_model_name": "LayoutModel",
            "justify_items": null,
            "grid_row": null,
            "max_height": null,
            "align_content": null,
            "visibility": null,
            "align_self": null,
            "height": null,
            "min_height": null,
            "padding": null,
            "grid_auto_rows": null,
            "grid_gap": null,
            "max_width": null,
            "order": null,
            "_view_module_version": "1.2.0",
            "grid_template_areas": null,
            "object_position": null,
            "object_fit": null,
            "grid_auto_columns": null,
            "margin": null,
            "display": null,
            "left": null
          }
        },
        "8f51a864601c4277bacaf27d9cfe4b83": {
          "model_module": "@jupyter-widgets/controls",
          "model_name": "ProgressStyleModel",
          "model_module_version": "1.5.0",
          "state": {
            "_view_name": "StyleView",
            "_model_name": "ProgressStyleModel",
            "description_width": "",
            "_view_module": "@jupyter-widgets/base",
            "_model_module_version": "1.5.0",
            "_view_count": null,
            "_view_module_version": "1.2.0",
            "bar_color": null,
            "_model_module": "@jupyter-widgets/controls"
          }
        },
        "8d90f6d8cbcd4fa59acc66b8a54140e4": {
          "model_module": "@jupyter-widgets/base",
          "model_name": "LayoutModel",
          "model_module_version": "1.2.0",
          "state": {
            "_view_name": "LayoutView",
            "grid_template_rows": null,
            "right": null,
            "justify_content": null,
            "_view_module": "@jupyter-widgets/base",
            "overflow": null,
            "_model_module_version": "1.2.0",
            "_view_count": null,
            "flex_flow": null,
            "width": null,
            "min_width": null,
            "border": null,
            "align_items": null,
            "bottom": null,
            "_model_module": "@jupyter-widgets/base",
            "top": null,
            "grid_column": null,
            "overflow_y": null,
            "overflow_x": null,
            "grid_auto_flow": null,
            "grid_area": null,
            "grid_template_columns": null,
            "flex": null,
            "_model_name": "LayoutModel",
            "justify_items": null,
            "grid_row": null,
            "max_height": null,
            "align_content": null,
            "visibility": null,
            "align_self": null,
            "height": null,
            "min_height": null,
            "padding": null,
            "grid_auto_rows": null,
            "grid_gap": null,
            "max_width": null,
            "order": null,
            "_view_module_version": "1.2.0",
            "grid_template_areas": null,
            "object_position": null,
            "object_fit": null,
            "grid_auto_columns": null,
            "margin": null,
            "display": null,
            "left": null
          }
        },
        "1d28ca4388e84f2291b7d4fcfdeeec8a": {
          "model_module": "@jupyter-widgets/controls",
          "model_name": "DescriptionStyleModel",
          "model_module_version": "1.5.0",
          "state": {
            "_view_name": "StyleView",
            "_model_name": "DescriptionStyleModel",
            "description_width": "",
            "_view_module": "@jupyter-widgets/base",
            "_model_module_version": "1.5.0",
            "_view_count": null,
            "_view_module_version": "1.2.0",
            "_model_module": "@jupyter-widgets/controls"
          }
        },
        "1431cd58e41d405eb72f6cec9056ec9a": {
          "model_module": "@jupyter-widgets/base",
          "model_name": "LayoutModel",
          "model_module_version": "1.2.0",
          "state": {
            "_view_name": "LayoutView",
            "grid_template_rows": null,
            "right": null,
            "justify_content": null,
            "_view_module": "@jupyter-widgets/base",
            "overflow": null,
            "_model_module_version": "1.2.0",
            "_view_count": null,
            "flex_flow": null,
            "width": null,
            "min_width": null,
            "border": null,
            "align_items": null,
            "bottom": null,
            "_model_module": "@jupyter-widgets/base",
            "top": null,
            "grid_column": null,
            "overflow_y": null,
            "overflow_x": null,
            "grid_auto_flow": null,
            "grid_area": null,
            "grid_template_columns": null,
            "flex": null,
            "_model_name": "LayoutModel",
            "justify_items": null,
            "grid_row": null,
            "max_height": null,
            "align_content": null,
            "visibility": null,
            "align_self": null,
            "height": null,
            "min_height": null,
            "padding": null,
            "grid_auto_rows": null,
            "grid_gap": null,
            "max_width": null,
            "order": null,
            "_view_module_version": "1.2.0",
            "grid_template_areas": null,
            "object_position": null,
            "object_fit": null,
            "grid_auto_columns": null,
            "margin": null,
            "display": null,
            "left": null
          }
        }
      }
    }
  },
  "cells": [
    {
      "cell_type": "markdown",
      "metadata": {
        "id": "view-in-github",
        "colab_type": "text"
      },
      "source": [
        "<a href=\"https://colab.research.google.com/github/Katanov/DA_projects/blob/main/TestovoeAB_OK.ipynb\" target=\"_parent\"><img src=\"https://colab.research.google.com/assets/colab-badge.svg\" alt=\"Open In Colab\"/></a>"
      ]
    },
    {
      "cell_type": "markdown",
      "metadata": {
        "id": "UlIlzWb77BEU"
      },
      "source": [
        "# Тестовое задание: результат A/B-теста\n"
      ]
    },
    {
      "cell_type": "markdown",
      "metadata": {
        "id": "M1xDDJ7H7ONp"
      },
      "source": [
        "#### Загрузка и предобработка данных"
      ]
    },
    {
      "cell_type": "code",
      "metadata": {
        "id": "nOgvjtgDzT5M"
      },
      "source": [
        "import pandas as pd"
      ],
      "execution_count": 1,
      "outputs": []
    },
    {
      "cell_type": "code",
      "metadata": {
        "id": "2mmQ7lk8zZJq"
      },
      "source": [
        "df = pd.read_excel('/content/AB_Test_Results.xlsx')"
      ],
      "execution_count": 2,
      "outputs": []
    },
    {
      "cell_type": "code",
      "metadata": {
        "colab": {
          "base_uri": "https://localhost:8080/",
          "height": 363
        },
        "id": "qiHkOH5u7fCS",
        "outputId": "ab483990-80bf-4405-904c-6df130068a08"
      },
      "source": [
        "df.head(10)"
      ],
      "execution_count": 118,
      "outputs": [
        {
          "output_type": "execute_result",
          "data": {
            "text/html": [
              "<div>\n",
              "<style scoped>\n",
              "    .dataframe tbody tr th:only-of-type {\n",
              "        vertical-align: middle;\n",
              "    }\n",
              "\n",
              "    .dataframe tbody tr th {\n",
              "        vertical-align: top;\n",
              "    }\n",
              "\n",
              "    .dataframe thead th {\n",
              "        text-align: right;\n",
              "    }\n",
              "</style>\n",
              "<table border=\"1\" class=\"dataframe\">\n",
              "  <thead>\n",
              "    <tr style=\"text-align: right;\">\n",
              "      <th></th>\n",
              "      <th>user_id</th>\n",
              "      <th>variant_name</th>\n",
              "      <th>revenue</th>\n",
              "    </tr>\n",
              "  </thead>\n",
              "  <tbody>\n",
              "    <tr>\n",
              "      <th>0</th>\n",
              "      <td>737</td>\n",
              "      <td>variant</td>\n",
              "      <td>0.0</td>\n",
              "    </tr>\n",
              "    <tr>\n",
              "      <th>1</th>\n",
              "      <td>2423</td>\n",
              "      <td>control</td>\n",
              "      <td>0.0</td>\n",
              "    </tr>\n",
              "    <tr>\n",
              "      <th>2</th>\n",
              "      <td>9411</td>\n",
              "      <td>control</td>\n",
              "      <td>0.0</td>\n",
              "    </tr>\n",
              "    <tr>\n",
              "      <th>3</th>\n",
              "      <td>7311</td>\n",
              "      <td>control</td>\n",
              "      <td>0.0</td>\n",
              "    </tr>\n",
              "    <tr>\n",
              "      <th>4</th>\n",
              "      <td>6174</td>\n",
              "      <td>variant</td>\n",
              "      <td>0.0</td>\n",
              "    </tr>\n",
              "    <tr>\n",
              "      <th>5</th>\n",
              "      <td>2380</td>\n",
              "      <td>variant</td>\n",
              "      <td>0.0</td>\n",
              "    </tr>\n",
              "    <tr>\n",
              "      <th>6</th>\n",
              "      <td>2849</td>\n",
              "      <td>control</td>\n",
              "      <td>0.0</td>\n",
              "    </tr>\n",
              "    <tr>\n",
              "      <th>7</th>\n",
              "      <td>9168</td>\n",
              "      <td>control</td>\n",
              "      <td>0.0</td>\n",
              "    </tr>\n",
              "    <tr>\n",
              "      <th>8</th>\n",
              "      <td>6205</td>\n",
              "      <td>variant</td>\n",
              "      <td>0.0</td>\n",
              "    </tr>\n",
              "    <tr>\n",
              "      <th>9</th>\n",
              "      <td>7548</td>\n",
              "      <td>control</td>\n",
              "      <td>0.0</td>\n",
              "    </tr>\n",
              "  </tbody>\n",
              "</table>\n",
              "</div>"
            ],
            "text/plain": [
              "   user_id variant_name  revenue\n",
              "0      737      variant      0.0\n",
              "1     2423      control      0.0\n",
              "2     9411      control      0.0\n",
              "3     7311      control      0.0\n",
              "4     6174      variant      0.0\n",
              "5     2380      variant      0.0\n",
              "6     2849      control      0.0\n",
              "7     9168      control      0.0\n",
              "8     6205      variant      0.0\n",
              "9     7548      control      0.0"
            ]
          },
          "metadata": {},
          "execution_count": 118
        }
      ]
    },
    {
      "cell_type": "code",
      "metadata": {
        "id": "sc_-vnmszjt_"
      },
      "source": [
        "df.columns = df.columns.str.lower()"
      ],
      "execution_count": 5,
      "outputs": []
    },
    {
      "cell_type": "code",
      "metadata": {
        "colab": {
          "base_uri": "https://localhost:8080/"
        },
        "id": "rwpwco2s0Qdc",
        "outputId": "dc51596d-7c56-46a7-e3f6-c42444baef38"
      },
      "source": [
        "df.revenue.describe()"
      ],
      "execution_count": 35,
      "outputs": [
        {
          "output_type": "execute_result",
          "data": {
            "text/plain": [
              "count    10000.000000\n",
              "mean         0.099447\n",
              "std          2.318529\n",
              "min          0.000000\n",
              "25%          0.000000\n",
              "50%          0.000000\n",
              "75%          0.000000\n",
              "max        196.010000\n",
              "Name: revenue, dtype: float64"
            ]
          },
          "metadata": {},
          "execution_count": 35
        }
      ]
    },
    {
      "cell_type": "code",
      "metadata": {
        "colab": {
          "base_uri": "https://localhost:8080/"
        },
        "id": "8NYOYYG70V_5",
        "outputId": "a3736fac-68ca-46b9-9eaf-76878d311874"
      },
      "source": [
        "len(df.query('revenue > 0'))"
      ],
      "execution_count": 37,
      "outputs": [
        {
          "output_type": "execute_result",
          "data": {
            "text/plain": [
              "152"
            ]
          },
          "metadata": {},
          "execution_count": 37
        }
      ]
    },
    {
      "cell_type": "code",
      "metadata": {
        "colab": {
          "base_uri": "https://localhost:8080/"
        },
        "id": "Vc49YC-v0eXp",
        "outputId": "76b77cd9-11db-4082-c4ea-2711d1a628f9"
      },
      "source": [
        "len(df)"
      ],
      "execution_count": 38,
      "outputs": [
        {
          "output_type": "execute_result",
          "data": {
            "text/plain": [
              "10000"
            ]
          },
          "metadata": {},
          "execution_count": 38
        }
      ]
    },
    {
      "cell_type": "markdown",
      "metadata": {
        "id": "depilJh07kA4"
      },
      "source": [
        "Проверим, есть ли пересечения тестовой и контрольной группы:"
      ]
    },
    {
      "cell_type": "code",
      "metadata": {
        "colab": {
          "base_uri": "https://localhost:8080/"
        },
        "id": "po4RG8Qrz2VR",
        "outputId": "5c41c853-a652-4cc5-fb8b-d9930d03445c"
      },
      "source": [
        "df.groupby('user_id')['variant_name'].nunique()"
      ],
      "execution_count": 7,
      "outputs": [
        {
          "output_type": "execute_result",
          "data": {
            "text/plain": [
              "user_id\n",
              "2        1\n",
              "3        2\n",
              "4        1\n",
              "5        1\n",
              "6        1\n",
              "        ..\n",
              "9993     1\n",
              "9995     1\n",
              "9996     2\n",
              "9998     1\n",
              "10000    2\n",
              "Name: variant_name, Length: 6324, dtype: int64"
            ]
          },
          "metadata": {},
          "execution_count": 7
        }
      ]
    },
    {
      "cell_type": "code",
      "metadata": {
        "colab": {
          "base_uri": "https://localhost:8080/",
          "height": 143
        },
        "id": "avA17jzY0BBc",
        "outputId": "ac323105-165e-4956-dffd-7df448c97859"
      },
      "source": [
        "df.query('user_id == 3')"
      ],
      "execution_count": 8,
      "outputs": [
        {
          "output_type": "execute_result",
          "data": {
            "text/html": [
              "<div>\n",
              "<style scoped>\n",
              "    .dataframe tbody tr th:only-of-type {\n",
              "        vertical-align: middle;\n",
              "    }\n",
              "\n",
              "    .dataframe tbody tr th {\n",
              "        vertical-align: top;\n",
              "    }\n",
              "\n",
              "    .dataframe thead th {\n",
              "        text-align: right;\n",
              "    }\n",
              "</style>\n",
              "<table border=\"1\" class=\"dataframe\">\n",
              "  <thead>\n",
              "    <tr style=\"text-align: right;\">\n",
              "      <th></th>\n",
              "      <th>user_id</th>\n",
              "      <th>variant_name</th>\n",
              "      <th>revenue</th>\n",
              "    </tr>\n",
              "  </thead>\n",
              "  <tbody>\n",
              "    <tr>\n",
              "      <th>4145</th>\n",
              "      <td>3</td>\n",
              "      <td>variant</td>\n",
              "      <td>0.0</td>\n",
              "    </tr>\n",
              "    <tr>\n",
              "      <th>5377</th>\n",
              "      <td>3</td>\n",
              "      <td>control</td>\n",
              "      <td>0.0</td>\n",
              "    </tr>\n",
              "    <tr>\n",
              "      <th>7409</th>\n",
              "      <td>3</td>\n",
              "      <td>variant</td>\n",
              "      <td>0.0</td>\n",
              "    </tr>\n",
              "  </tbody>\n",
              "</table>\n",
              "</div>"
            ],
            "text/plain": [
              "      user_id variant_name  revenue\n",
              "4145        3      variant      0.0\n",
              "5377        3      control      0.0\n",
              "7409        3      variant      0.0"
            ]
          },
          "metadata": {},
          "execution_count": 8
        }
      ]
    },
    {
      "cell_type": "code",
      "metadata": {
        "colab": {
          "base_uri": "https://localhost:8080/",
          "height": 206
        },
        "id": "gY3ZdJyq0xmy",
        "outputId": "ae1839ca-9027-4729-a263-beba5c2ec20c"
      },
      "source": [
        "df.groupby('user_id')['variant_name'].nunique().reset_index().head()"
      ],
      "execution_count": 119,
      "outputs": [
        {
          "output_type": "execute_result",
          "data": {
            "text/html": [
              "<div>\n",
              "<style scoped>\n",
              "    .dataframe tbody tr th:only-of-type {\n",
              "        vertical-align: middle;\n",
              "    }\n",
              "\n",
              "    .dataframe tbody tr th {\n",
              "        vertical-align: top;\n",
              "    }\n",
              "\n",
              "    .dataframe thead th {\n",
              "        text-align: right;\n",
              "    }\n",
              "</style>\n",
              "<table border=\"1\" class=\"dataframe\">\n",
              "  <thead>\n",
              "    <tr style=\"text-align: right;\">\n",
              "      <th></th>\n",
              "      <th>user_id</th>\n",
              "      <th>variant_name</th>\n",
              "    </tr>\n",
              "  </thead>\n",
              "  <tbody>\n",
              "    <tr>\n",
              "      <th>0</th>\n",
              "      <td>2</td>\n",
              "      <td>1</td>\n",
              "    </tr>\n",
              "    <tr>\n",
              "      <th>1</th>\n",
              "      <td>3</td>\n",
              "      <td>2</td>\n",
              "    </tr>\n",
              "    <tr>\n",
              "      <th>2</th>\n",
              "      <td>4</td>\n",
              "      <td>1</td>\n",
              "    </tr>\n",
              "    <tr>\n",
              "      <th>3</th>\n",
              "      <td>5</td>\n",
              "      <td>1</td>\n",
              "    </tr>\n",
              "    <tr>\n",
              "      <th>4</th>\n",
              "      <td>6</td>\n",
              "      <td>1</td>\n",
              "    </tr>\n",
              "  </tbody>\n",
              "</table>\n",
              "</div>"
            ],
            "text/plain": [
              "   user_id  variant_name\n",
              "0        2             1\n",
              "1        3             2\n",
              "2        4             1\n",
              "3        5             1\n",
              "4        6             1"
            ]
          },
          "metadata": {},
          "execution_count": 119
        }
      ]
    },
    {
      "cell_type": "code",
      "metadata": {
        "colab": {
          "base_uri": "https://localhost:8080/"
        },
        "id": "pK-F3nEK0R9k",
        "outputId": "8bc3b1e2-12b6-40ba-af48-7354e8d786e1"
      },
      "source": [
        "len(df.groupby('user_id')['variant_name'].nunique().reset_index().query('variant_name == 1'))"
      ],
      "execution_count": 11,
      "outputs": [
        {
          "output_type": "execute_result",
          "data": {
            "text/plain": [
              "4783"
            ]
          },
          "metadata": {},
          "execution_count": 11
        }
      ]
    },
    {
      "cell_type": "code",
      "metadata": {
        "id": "EYQSh8km0me8"
      },
      "source": [
        "good_users = df.groupby('user_id')['variant_name'].nunique().reset_index().query('variant_name == 1')"
      ],
      "execution_count": 13,
      "outputs": []
    },
    {
      "cell_type": "code",
      "metadata": {
        "colab": {
          "base_uri": "https://localhost:8080/",
          "height": 423
        },
        "id": "8V3e1PP_05UP",
        "outputId": "8087d3fb-636e-44b5-a21c-f3664d213349"
      },
      "source": [
        "good_users"
      ],
      "execution_count": 14,
      "outputs": [
        {
          "output_type": "execute_result",
          "data": {
            "text/html": [
              "<div>\n",
              "<style scoped>\n",
              "    .dataframe tbody tr th:only-of-type {\n",
              "        vertical-align: middle;\n",
              "    }\n",
              "\n",
              "    .dataframe tbody tr th {\n",
              "        vertical-align: top;\n",
              "    }\n",
              "\n",
              "    .dataframe thead th {\n",
              "        text-align: right;\n",
              "    }\n",
              "</style>\n",
              "<table border=\"1\" class=\"dataframe\">\n",
              "  <thead>\n",
              "    <tr style=\"text-align: right;\">\n",
              "      <th></th>\n",
              "      <th>user_id</th>\n",
              "      <th>variant_name</th>\n",
              "    </tr>\n",
              "  </thead>\n",
              "  <tbody>\n",
              "    <tr>\n",
              "      <th>0</th>\n",
              "      <td>2</td>\n",
              "      <td>1</td>\n",
              "    </tr>\n",
              "    <tr>\n",
              "      <th>2</th>\n",
              "      <td>4</td>\n",
              "      <td>1</td>\n",
              "    </tr>\n",
              "    <tr>\n",
              "      <th>3</th>\n",
              "      <td>5</td>\n",
              "      <td>1</td>\n",
              "    </tr>\n",
              "    <tr>\n",
              "      <th>4</th>\n",
              "      <td>6</td>\n",
              "      <td>1</td>\n",
              "    </tr>\n",
              "    <tr>\n",
              "      <th>5</th>\n",
              "      <td>9</td>\n",
              "      <td>1</td>\n",
              "    </tr>\n",
              "    <tr>\n",
              "      <th>...</th>\n",
              "      <td>...</td>\n",
              "      <td>...</td>\n",
              "    </tr>\n",
              "    <tr>\n",
              "      <th>6317</th>\n",
              "      <td>9990</td>\n",
              "      <td>1</td>\n",
              "    </tr>\n",
              "    <tr>\n",
              "      <th>6318</th>\n",
              "      <td>9992</td>\n",
              "      <td>1</td>\n",
              "    </tr>\n",
              "    <tr>\n",
              "      <th>6319</th>\n",
              "      <td>9993</td>\n",
              "      <td>1</td>\n",
              "    </tr>\n",
              "    <tr>\n",
              "      <th>6320</th>\n",
              "      <td>9995</td>\n",
              "      <td>1</td>\n",
              "    </tr>\n",
              "    <tr>\n",
              "      <th>6322</th>\n",
              "      <td>9998</td>\n",
              "      <td>1</td>\n",
              "    </tr>\n",
              "  </tbody>\n",
              "</table>\n",
              "<p>4783 rows × 2 columns</p>\n",
              "</div>"
            ],
            "text/plain": [
              "      user_id  variant_name\n",
              "0           2             1\n",
              "2           4             1\n",
              "3           5             1\n",
              "4           6             1\n",
              "5           9             1\n",
              "...       ...           ...\n",
              "6317     9990             1\n",
              "6318     9992             1\n",
              "6319     9993             1\n",
              "6320     9995             1\n",
              "6322     9998             1\n",
              "\n",
              "[4783 rows x 2 columns]"
            ]
          },
          "metadata": {},
          "execution_count": 14
        }
      ]
    },
    {
      "cell_type": "code",
      "metadata": {
        "id": "BpSywQ1108Sh"
      },
      "source": [
        "test = df.query('user_id in @good_users.user_id')"
      ],
      "execution_count": 87,
      "outputs": []
    },
    {
      "cell_type": "markdown",
      "metadata": {
        "id": "t9Iw64x67wpN"
      },
      "source": [
        "Избавились от пользователей, которые попали в обе группы."
      ]
    },
    {
      "cell_type": "code",
      "metadata": {
        "colab": {
          "base_uri": "https://localhost:8080/"
        },
        "id": "Wt0354GX1PFK",
        "outputId": "6bc7a988-e32e-409a-de9b-f5359400ac4f"
      },
      "source": [
        "test.groupby('variant_name')['user_id'].count()"
      ],
      "execution_count": 16,
      "outputs": [
        {
          "output_type": "execute_result",
          "data": {
            "text/plain": [
              "variant_name\n",
              "control    3026\n",
              "variant    3044\n",
              "Name: user_id, dtype: int64"
            ]
          },
          "metadata": {},
          "execution_count": 16
        }
      ]
    },
    {
      "cell_type": "markdown",
      "metadata": {
        "id": "Tzu6vI7u8AAd"
      },
      "source": [
        "Группы примерно равны, это хорошо.\n",
        "\n",
        "Далее поищем выбросы:"
      ]
    },
    {
      "cell_type": "code",
      "metadata": {
        "colab": {
          "base_uri": "https://localhost:8080/",
          "height": 112
        },
        "id": "wYQJG4gn1Po1",
        "outputId": "3e29b5c4-e38b-41aa-991e-eb08aebce9bd"
      },
      "source": [
        "test.groupby('variant_name')['revenue'].mean().reset_index()"
      ],
      "execution_count": 44,
      "outputs": [
        {
          "output_type": "execute_result",
          "data": {
            "text/html": [
              "<div>\n",
              "<style scoped>\n",
              "    .dataframe tbody tr th:only-of-type {\n",
              "        vertical-align: middle;\n",
              "    }\n",
              "\n",
              "    .dataframe tbody tr th {\n",
              "        vertical-align: top;\n",
              "    }\n",
              "\n",
              "    .dataframe thead th {\n",
              "        text-align: right;\n",
              "    }\n",
              "</style>\n",
              "<table border=\"1\" class=\"dataframe\">\n",
              "  <thead>\n",
              "    <tr style=\"text-align: right;\">\n",
              "      <th></th>\n",
              "      <th>variant_name</th>\n",
              "      <th>revenue</th>\n",
              "    </tr>\n",
              "  </thead>\n",
              "  <tbody>\n",
              "    <tr>\n",
              "      <th>0</th>\n",
              "      <td>control</td>\n",
              "      <td>0.006037</td>\n",
              "    </tr>\n",
              "    <tr>\n",
              "      <th>1</th>\n",
              "      <td>variant</td>\n",
              "      <td>0.005739</td>\n",
              "    </tr>\n",
              "  </tbody>\n",
              "</table>\n",
              "</div>"
            ],
            "text/plain": [
              "  variant_name   revenue\n",
              "0      control  0.006037\n",
              "1      variant  0.005739"
            ]
          },
          "metadata": {},
          "execution_count": 44
        }
      ]
    },
    {
      "cell_type": "code",
      "metadata": {
        "colab": {
          "base_uri": "https://localhost:8080/"
        },
        "id": "w9olLWlVzlfk",
        "outputId": "74c0708f-da46-4dd2-9c0d-98f24685a146"
      },
      "source": [
        "test.revenue.describe()"
      ],
      "execution_count": 29,
      "outputs": [
        {
          "output_type": "execute_result",
          "data": {
            "text/plain": [
              "count    6070.000000\n",
              "mean        0.107064\n",
              "std         2.673501\n",
              "min         0.000000\n",
              "25%         0.000000\n",
              "50%         0.000000\n",
              "75%         0.000000\n",
              "max       196.010000\n",
              "Name: revenue, dtype: float64"
            ]
          },
          "metadata": {},
          "execution_count": 29
        }
      ]
    },
    {
      "cell_type": "code",
      "metadata": {
        "colab": {
          "base_uri": "https://localhost:8080/",
          "height": 282
        },
        "id": "z57r8XVs1jXL",
        "outputId": "5e8892e0-693b-44fe-a89b-ab3a9dd2afb1"
      },
      "source": [
        "test.revenue.hist(bins=100)"
      ],
      "execution_count": 28,
      "outputs": [
        {
          "output_type": "execute_result",
          "data": {
            "text/plain": [
              "<matplotlib.axes._subplots.AxesSubplot at 0x7fb6df519b90>"
            ]
          },
          "metadata": {},
          "execution_count": 28
        },
        {
          "output_type": "display_data",
          "data": {
            "image/png": "[encoded data removed]",
            "text/plain": [
              "<Figure size 432x288 with 1 Axes>"
            ]
          },
          "metadata": {
            "needs_background": "light"
          }
        }
      ]
    },
    {
      "cell_type": "code",
      "metadata": {
        "colab": {
          "base_uri": "https://localhost:8080/",
          "height": 282
        },
        "id": "aJpo3cNEzt58",
        "outputId": "1d7f3596-2655-4bef-c661-990235cc442d"
      },
      "source": [
        "test.boxplot('revenue')"
      ],
      "execution_count": 31,
      "outputs": [
        {
          "output_type": "execute_result",
          "data": {
            "text/plain": [
              "<matplotlib.axes._subplots.AxesSubplot at 0x7fb6df2621d0>"
            ]
          },
          "metadata": {},
          "execution_count": 31
        },
        {
          "output_type": "display_data",
          "data": {
            "image/png": "[encoded data removed]",
            "text/plain": [
              "<Figure size 432x288 with 1 Axes>"
            ]
          },
          "metadata": {
            "needs_background": "light"
          }
        }
      ]
    },
    {
      "cell_type": "code",
      "metadata": {
        "id": "nRVsprKM0CRF"
      },
      "source": [
        "test_clear = test[test.revenue < test.revenue.quantile(q=0.99)]"
      ],
      "execution_count": 120,
      "outputs": []
    },
    {
      "cell_type": "markdown",
      "metadata": {
        "id": "UHJRWNMF8U-M"
      },
      "source": [
        "Выбросы есть, и они крайне существенны. Но благо их не так много, поэтому можно от них смело избавиться.\n",
        "\n",
        "Впрочем, для чистоты эксперимента можно провести тесты и по данным с выбросами, и по очищенным данным. "
      ]
    },
    {
      "cell_type": "markdown",
      "metadata": {
        "id": "n1Q0evZI6wB1"
      },
      "source": [
        "#### Тест Манна — Уитни"
      ]
    },
    {
      "cell_type": "code",
      "metadata": {
        "id": "4ICWseuP38xb"
      },
      "source": [
        "import scipy.stats as stats"
      ],
      "execution_count": 19,
      "outputs": []
    },
    {
      "cell_type": "code",
      "metadata": {
        "id": "IdiknQiq3s8j"
      },
      "source": [
        "sampleA = test.query('variant_name == \"control\"')\n",
        "sampleB = test.query('variant_name == \"variant\"')\n",
        "\n",
        "sampleA = sampleA['revenue']\n",
        "sampleB = sampleB['revenue']"
      ],
      "execution_count": 95,
      "outputs": []
    },
    {
      "cell_type": "code",
      "metadata": {
        "colab": {
          "base_uri": "https://localhost:8080/",
          "height": 112
        },
        "id": "rXUMfGdN4xY5",
        "outputId": "9e884a0a-f668-4eb6-c574-45ab1ced072f"
      },
      "source": [
        "test.groupby('variant_name')['revenue'].agg(['count','mean']).reset_index()"
      ],
      "execution_count": 96,
      "outputs": [
        {
          "output_type": "execute_result",
          "data": {
            "text/html": [
              "<div>\n",
              "<style scoped>\n",
              "    .dataframe tbody tr th:only-of-type {\n",
              "        vertical-align: middle;\n",
              "    }\n",
              "\n",
              "    .dataframe tbody tr th {\n",
              "        vertical-align: top;\n",
              "    }\n",
              "\n",
              "    .dataframe thead th {\n",
              "        text-align: right;\n",
              "    }\n",
              "</style>\n",
              "<table border=\"1\" class=\"dataframe\">\n",
              "  <thead>\n",
              "    <tr style=\"text-align: right;\">\n",
              "      <th></th>\n",
              "      <th>variant_name</th>\n",
              "      <th>count</th>\n",
              "      <th>mean</th>\n",
              "    </tr>\n",
              "  </thead>\n",
              "  <tbody>\n",
              "    <tr>\n",
              "      <th>0</th>\n",
              "      <td>control</td>\n",
              "      <td>3026</td>\n",
              "      <td>0.155506</td>\n",
              "    </tr>\n",
              "    <tr>\n",
              "      <th>1</th>\n",
              "      <td>variant</td>\n",
              "      <td>3044</td>\n",
              "      <td>0.058909</td>\n",
              "    </tr>\n",
              "  </tbody>\n",
              "</table>\n",
              "</div>"
            ],
            "text/plain": [
              "  variant_name  count      mean\n",
              "0      control   3026  0.155506\n",
              "1      variant   3044  0.058909"
            ]
          },
          "metadata": {},
          "execution_count": 96
        }
      ]
    },
    {
      "cell_type": "markdown",
      "metadata": {
        "id": "zTyOw-S584U_"
      },
      "source": [
        "- Нулевая гипотеза: revenue пользователей в обоих группах равны\n",
        "- Альтернативная гипотеза: revenue в контрольных группах различаются\n",
        "\n",
        "α = 0.05\n",
        "\n",
        "Различия могут быть в обе стороны, поэтому берем двусторонний непараметрический тест Манна-Уитни"
      ]
    },
    {
      "cell_type": "code",
      "metadata": {
        "colab": {
          "base_uri": "https://localhost:8080/"
        },
        "id": "qDpsIYHC3PVX",
        "outputId": "e4ffc007-5580-48ee-f3c1-4411d7424353"
      },
      "source": [
        "print(\"{0:.3f}\".format(stats.mannwhitneyu(sampleA, sampleB, alternative='two-sided')[1]))\n",
        "\n",
        "print(\"{0:.3f}\".format(sampleB.mean()/sampleA.mean()-1)) "
      ],
      "execution_count": 121,
      "outputs": [
        {
          "output_type": "stream",
          "name": "stdout",
          "text": [
            "0.248\n",
            "-0.208\n"
          ]
        }
      ]
    },
    {
      "cell_type": "markdown",
      "metadata": {
        "id": "5AluqiET83OW"
      },
      "source": [
        "p-value = 0.248, а значит нулевую гипотезу не отвергаем\n",
        "\n",
        "и посмотрим тоже самое, но уже по данным без явных выбросов:"
      ]
    },
    {
      "cell_type": "code",
      "metadata": {
        "colab": {
          "base_uri": "https://localhost:8080/"
        },
        "id": "NJCoKr-1_gb6",
        "outputId": "5180c001-4c8c-4373-f0e6-2f776309ecc2"
      },
      "source": [
        "sampleA = test_clear.query('variant_name == \"control\"')\n",
        "sampleB = test_clear.query('variant_name == \"variant\"')\n",
        "\n",
        "sampleA = sampleA['revenue']\n",
        "sampleB = sampleB['revenue']\n",
        "\n",
        "print(\"{0:.3f}\".format(stats.mannwhitneyu(sampleA, sampleB, alternative='two-sided')[1]))\n",
        "\n",
        "print(\"{0:.3f}\".format(sampleB.mean()/sampleA.mean()-1)) "
      ],
      "execution_count": 122,
      "outputs": [
        {
          "output_type": "stream",
          "name": "stdout",
          "text": [
            "0.844\n",
            "-0.049\n"
          ]
        }
      ]
    },
    {
      "cell_type": "markdown",
      "metadata": {
        "id": "NmQo9CnK_7uk"
      },
      "source": [
        "Здесь p-value уже 0.844, поэтому НЕ отвергаем нулевую гипотезу с еще большей уверенностью :)"
      ]
    },
    {
      "cell_type": "markdown",
      "metadata": {
        "id": "5xJWBP509-OV"
      },
      "source": [
        "Проверим не только по revenue, но и по самому факту покупки, то бишь по конверсии в покупку. Где 0 = покупка не была совершена, а 1 = покупка была совершена."
      ]
    },
    {
      "cell_type": "code",
      "metadata": {
        "colab": {
          "base_uri": "https://localhost:8080/"
        },
        "id": "Wc6f6TGF1TQM",
        "outputId": "7253cc84-9b0f-4452-933e-2eeaa6d56dc0"
      },
      "source": [
        "test['buyer'] = (test['revenue'] > 0)*1"
      ],
      "execution_count": 123,
      "outputs": [
        {
          "output_type": "stream",
          "name": "stderr",
          "text": [
            "/usr/local/lib/python3.7/dist-packages/ipykernel_launcher.py:1: SettingWithCopyWarning: \n",
            "A value is trying to be set on a copy of a slice from a DataFrame.\n",
            "Try using .loc[row_indexer,col_indexer] = value instead\n",
            "\n",
            "See the caveats in the documentation: https://pandas.pydata.org/pandas-docs/stable/user_guide/indexing.html#returning-a-view-versus-a-copy\n",
            "  \"\"\"Entry point for launching an IPython kernel.\n"
          ]
        }
      ]
    },
    {
      "cell_type": "code",
      "metadata": {
        "colab": {
          "base_uri": "https://localhost:8080/",
          "height": 112
        },
        "id": "y8MAwQ6z10DY",
        "outputId": "14435323-71f9-4b4b-baab-e28cc38a6b7f"
      },
      "source": [
        "test.groupby('variant_name')['buyer'].agg(['count','mean']).reset_index()"
      ],
      "execution_count": 124,
      "outputs": [
        {
          "output_type": "execute_result",
          "data": {
            "text/html": [
              "<div>\n",
              "<style scoped>\n",
              "    .dataframe tbody tr th:only-of-type {\n",
              "        vertical-align: middle;\n",
              "    }\n",
              "\n",
              "    .dataframe tbody tr th {\n",
              "        vertical-align: top;\n",
              "    }\n",
              "\n",
              "    .dataframe thead th {\n",
              "        text-align: right;\n",
              "    }\n",
              "</style>\n",
              "<table border=\"1\" class=\"dataframe\">\n",
              "  <thead>\n",
              "    <tr style=\"text-align: right;\">\n",
              "      <th></th>\n",
              "      <th>variant_name</th>\n",
              "      <th>count</th>\n",
              "      <th>mean</th>\n",
              "    </tr>\n",
              "  </thead>\n",
              "  <tbody>\n",
              "    <tr>\n",
              "      <th>0</th>\n",
              "      <td>control</td>\n",
              "      <td>3026</td>\n",
              "      <td>0.017845</td>\n",
              "    </tr>\n",
              "    <tr>\n",
              "      <th>1</th>\n",
              "      <td>variant</td>\n",
              "      <td>3044</td>\n",
              "      <td>0.014126</td>\n",
              "    </tr>\n",
              "  </tbody>\n",
              "</table>\n",
              "</div>"
            ],
            "text/plain": [
              "  variant_name  count      mean\n",
              "0      control   3026  0.017845\n",
              "1      variant   3044  0.014126"
            ]
          },
          "metadata": {},
          "execution_count": 124
        }
      ]
    },
    {
      "cell_type": "code",
      "metadata": {
        "id": "5n_Soo7m37NE"
      },
      "source": [
        "sampleA = test.query('variant_name == \"control\"')\n",
        "sampleB = test.query('variant_name == \"variant\"')\n",
        "\n",
        "sampleA = sampleA['buyer']\n",
        "sampleB = sampleB['buyer']"
      ],
      "execution_count": 125,
      "outputs": []
    },
    {
      "cell_type": "code",
      "metadata": {
        "colab": {
          "base_uri": "https://localhost:8080/"
        },
        "id": "0NPWhqoM37NF",
        "outputId": "3bb358a3-328a-43a4-bde1-93f531033c5a"
      },
      "source": [
        "print(\"{0:.3f}\".format(stats.mannwhitneyu(sampleA, sampleB, alternative='two-sided')[1]))\n",
        "\n",
        "print(\"{0:.3f}\".format(sampleB.mean()/sampleA.mean()-1)) "
      ],
      "execution_count": 126,
      "outputs": [
        {
          "output_type": "stream",
          "name": "stdout",
          "text": [
            "0.248\n",
            "-0.208\n"
          ]
        }
      ]
    },
    {
      "cell_type": "markdown",
      "metadata": {
        "id": "2zen1KkzAYWr"
      },
      "source": [
        "Результат не изменился."
      ]
    },
    {
      "cell_type": "code",
      "metadata": {
        "id": "3tmXB_BxARqw"
      },
      "source": [
        "sampleA = test_clear.query('variant_name == \"control\"')\n",
        "sampleB = test_clear.query('variant_name == \"variant\"')\n",
        "\n",
        "sampleA = sampleA['buyer']\n",
        "sampleB = sampleB['buyer']"
      ],
      "execution_count": 127,
      "outputs": []
    },
    {
      "cell_type": "code",
      "metadata": {
        "colab": {
          "base_uri": "https://localhost:8080/"
        },
        "id": "mqJxGrMKARqw",
        "outputId": "57ef2779-38c6-48a4-b8d1-aa360b670fb6"
      },
      "source": [
        "print(\"{0:.3f}\".format(stats.mannwhitneyu(sampleA, sampleB, alternative='two-sided')[1]))\n",
        "\n",
        "print(\"{0:.3f}\".format(sampleB.mean()/sampleA.mean()-1)) "
      ],
      "execution_count": 128,
      "outputs": [
        {
          "output_type": "stream",
          "name": "stdout",
          "text": [
            "0.844\n",
            "-0.064\n"
          ]
        }
      ]
    },
    {
      "cell_type": "markdown",
      "metadata": {
        "id": "DLjjVFETAgiE"
      },
      "source": [
        "P-value тот же, что и в случае с revenue по очищенным данным."
      ]
    },
    {
      "cell_type": "markdown",
      "metadata": {
        "id": "yPqUBQLx6jge"
      },
      "source": [
        "#### TTest"
      ]
    },
    {
      "cell_type": "markdown",
      "metadata": {
        "id": "tMdAfeCuCpVt"
      },
      "source": [
        "Протестим наши группы и на параметрическом тесте, ради эксперимента :)"
      ]
    },
    {
      "cell_type": "code",
      "metadata": {
        "id": "3Ga2fFJ748bK"
      },
      "source": [
        "from scipy.stats import ttest_ind"
      ],
      "execution_count": 99,
      "outputs": []
    },
    {
      "cell_type": "markdown",
      "metadata": {
        "id": "TPfHQF19BzCX"
      },
      "source": [
        "Данные с выбросами по revenue:"
      ]
    },
    {
      "cell_type": "code",
      "metadata": {
        "id": "WYIooOa1BYZI"
      },
      "source": [
        "sampleA = test.query('variant_name == \"control\"')\n",
        "sampleB = test.query('variant_name == \"variant\"')\n",
        "\n",
        "sampleA = sampleA['revenue']\n",
        "sampleB = sampleB['revenue']"
      ],
      "execution_count": 130,
      "outputs": []
    },
    {
      "cell_type": "code",
      "metadata": {
        "colab": {
          "base_uri": "https://localhost:8080/"
        },
        "id": "bN1iHu3I4KUa",
        "outputId": "20b3b3cb-a11b-4def-e2a3-25d0b590f293"
      },
      "source": [
        "ttest_ind(sampleA, sampleB)[1]"
      ],
      "execution_count": 131,
      "outputs": [
        {
          "output_type": "execute_result",
          "data": {
            "text/plain": [
              "0.15930224976746452"
            ]
          },
          "metadata": {},
          "execution_count": 131
        }
      ]
    },
    {
      "cell_type": "markdown",
      "metadata": {
        "id": "-NKICtetB6HR"
      },
      "source": [
        "Данные с выбросами по факту покупки:"
      ]
    },
    {
      "cell_type": "code",
      "metadata": {
        "id": "QjpTUk0zBZvN"
      },
      "source": [
        "sampleA = test.query('variant_name == \"control\"')\n",
        "sampleB = test.query('variant_name == \"variant\"')\n",
        "\n",
        "sampleA = sampleA['buyer']\n",
        "sampleB = sampleB['buyer']"
      ],
      "execution_count": 132,
      "outputs": []
    },
    {
      "cell_type": "code",
      "metadata": {
        "colab": {
          "base_uri": "https://localhost:8080/"
        },
        "id": "d14by25xBZvO",
        "outputId": "07ca67c6-b68c-420c-8f41-5cfb5e2b167c"
      },
      "source": [
        "ttest_ind(sampleA, sampleB)[1]"
      ],
      "execution_count": 133,
      "outputs": [
        {
          "output_type": "execute_result",
          "data": {
            "text/plain": [
              "0.2480143210498805"
            ]
          },
          "metadata": {},
          "execution_count": 133
        }
      ]
    },
    {
      "cell_type": "markdown",
      "metadata": {
        "id": "pCbHFuynCRgW"
      },
      "source": [
        "В обоих случаях p-value выше порогового значения, поэтому нулевую гипотезу не отвергаем."
      ]
    },
    {
      "cell_type": "markdown",
      "metadata": {
        "id": "raUdB___CDVN"
      },
      "source": [
        "Чистые данные по revenue:"
      ]
    },
    {
      "cell_type": "code",
      "metadata": {
        "id": "iy4K7JfrBd7U"
      },
      "source": [
        "sampleA = test_clear.query('variant_name == \"control\"')\n",
        "sampleB = test_clear.query('variant_name == \"variant\"')\n",
        "\n",
        "sampleA = sampleA['revenue']\n",
        "sampleB = sampleB['revenue']"
      ],
      "execution_count": 134,
      "outputs": []
    },
    {
      "cell_type": "code",
      "metadata": {
        "colab": {
          "base_uri": "https://localhost:8080/"
        },
        "id": "iLG3G-qPBd7V",
        "outputId": "6b752dee-e5b4-4dfa-ff11-a1aae50cc4f7"
      },
      "source": [
        "ttest_ind(sampleA, sampleB)[1]"
      ],
      "execution_count": 135,
      "outputs": [
        {
          "output_type": "execute_result",
          "data": {
            "text/plain": [
              "0.8982144823940894"
            ]
          },
          "metadata": {},
          "execution_count": 135
        }
      ]
    },
    {
      "cell_type": "markdown",
      "metadata": {
        "id": "Tf8a9UMOCIRT"
      },
      "source": [
        "Чистые данные по факту покупки:"
      ]
    },
    {
      "cell_type": "code",
      "metadata": {
        "id": "71dksCMBBd7V"
      },
      "source": [
        "sampleA = test_clear.query('variant_name == \"control\"')\n",
        "sampleB = test_clear.query('variant_name == \"variant\"')\n",
        "\n",
        "sampleA = sampleA['buyer']\n",
        "sampleB = sampleB['buyer']"
      ],
      "execution_count": 136,
      "outputs": []
    },
    {
      "cell_type": "code",
      "metadata": {
        "colab": {
          "base_uri": "https://localhost:8080/"
        },
        "id": "dl9Vy3VBBd7V",
        "outputId": "6835652b-b62c-4850-c2ea-b77804c6210a"
      },
      "source": [
        "ttest_ind(sampleA, sampleB)[1]"
      ],
      "execution_count": 137,
      "outputs": [
        {
          "output_type": "execute_result",
          "data": {
            "text/plain": [
              "0.8437187117154676"
            ]
          },
          "metadata": {},
          "execution_count": 137
        }
      ]
    },
    {
      "cell_type": "markdown",
      "metadata": {
        "id": "MQRnRGhCCd3R"
      },
      "source": [
        "В очищенных данных p-value существенно выше, поэтому нулевая гипотеза не отвергается."
      ]
    },
    {
      "cell_type": "markdown",
      "metadata": {
        "id": "g8nLMCo-6nhH"
      },
      "source": [
        "#### БУТСТРЭПИНГ"
      ]
    },
    {
      "cell_type": "markdown",
      "metadata": {
        "id": "3CZIFrUYC0Ui"
      },
      "source": [
        "Данных немного, можно и побутстрэпить немножко."
      ]
    },
    {
      "cell_type": "code",
      "metadata": {
        "id": "DSKKsIpS45z9"
      },
      "source": [
        "from tqdm.notebook import tqdm\n",
        "import numpy as np"
      ],
      "execution_count": 112,
      "outputs": []
    },
    {
      "cell_type": "code",
      "metadata": {
        "id": "DXnO7Y366LFb"
      },
      "source": [
        "group_size = test['variant_name'].value_counts().values"
      ],
      "execution_count": 113,
      "outputs": []
    },
    {
      "cell_type": "code",
      "metadata": {
        "colab": {
          "base_uri": "https://localhost:8080/"
        },
        "id": "TI_NUIuQ6K8_",
        "outputId": "27afd20c-d531-4fbb-a7f8-08d4259fcdb7"
      },
      "source": [
        "group_size"
      ],
      "execution_count": 114,
      "outputs": [
        {
          "output_type": "execute_result",
          "data": {
            "text/plain": [
              "array([3044, 3026])"
            ]
          },
          "metadata": {},
          "execution_count": 114
        }
      ]
    },
    {
      "cell_type": "code",
      "metadata": {
        "colab": {
          "base_uri": "https://localhost:8080/",
          "height": 112
        },
        "id": "fA8WsrBSDRT0",
        "outputId": "0b623440-3e4d-466e-d91d-52df46ee2fb6"
      },
      "source": [
        "test.groupby('variant_name')['buyer'].agg(['count','mean']).reset_index()"
      ],
      "execution_count": 142,
      "outputs": [
        {
          "output_type": "execute_result",
          "data": {
            "text/html": [
              "<div>\n",
              "<style scoped>\n",
              "    .dataframe tbody tr th:only-of-type {\n",
              "        vertical-align: middle;\n",
              "    }\n",
              "\n",
              "    .dataframe tbody tr th {\n",
              "        vertical-align: top;\n",
              "    }\n",
              "\n",
              "    .dataframe thead th {\n",
              "        text-align: right;\n",
              "    }\n",
              "</style>\n",
              "<table border=\"1\" class=\"dataframe\">\n",
              "  <thead>\n",
              "    <tr style=\"text-align: right;\">\n",
              "      <th></th>\n",
              "      <th>variant_name</th>\n",
              "      <th>count</th>\n",
              "      <th>mean</th>\n",
              "    </tr>\n",
              "  </thead>\n",
              "  <tbody>\n",
              "    <tr>\n",
              "      <th>0</th>\n",
              "      <td>control</td>\n",
              "      <td>3026</td>\n",
              "      <td>0.017845</td>\n",
              "    </tr>\n",
              "    <tr>\n",
              "      <th>1</th>\n",
              "      <td>variant</td>\n",
              "      <td>3044</td>\n",
              "      <td>0.014126</td>\n",
              "    </tr>\n",
              "  </tbody>\n",
              "</table>\n",
              "</div>"
            ],
            "text/plain": [
              "  variant_name  count      mean\n",
              "0      control   3026  0.017845\n",
              "1      variant   3044  0.014126"
            ]
          },
          "metadata": {},
          "execution_count": 142
        }
      ]
    },
    {
      "cell_type": "code",
      "metadata": {
        "colab": {
          "base_uri": "https://localhost:8080/",
          "height": 49
        },
        "id": "lGyOKhma5IuM",
        "outputId": "b329af62-d6a0-465c-9167-5340b6231d8c"
      },
      "source": [
        "n = 1000\n",
        "result = []\n",
        "base_diff = 0.017845 - \t0.014126\n",
        "\n",
        "for _ in tqdm(range(n)):\n",
        "  a = test.sample(group_size[0],replace=True)['buyer'].mean()\n",
        "  b = test.sample(group_size[1],replace=True)['buyer'].mean()\n",
        "  result.append(np.abs(a-b) >= base_diff)"
      ],
      "execution_count": 115,
      "outputs": [
        {
          "output_type": "display_data",
          "data": {
            "application/vnd.jupyter.widget-view+json": {
              "model_id": "147f461c15ee4077a642c933c139a98b",
              "version_minor": 0,
              "version_major": 2
            },
            "text/plain": [
              "  0%|          | 0/1000 [00:00<?, ?it/s]"
            ]
          },
          "metadata": {}
        }
      ]
    },
    {
      "cell_type": "code",
      "metadata": {
        "colab": {
          "base_uri": "https://localhost:8080/"
        },
        "id": "zV0QI4RK5i3d",
        "outputId": "65063044-5a16-462e-9119-3be63c56560c"
      },
      "source": [
        "np.mean(result)"
      ],
      "execution_count": 116,
      "outputs": [
        {
          "output_type": "execute_result",
          "data": {
            "text/plain": [
              "0.256"
            ]
          },
          "metadata": {},
          "execution_count": 116
        }
      ]
    },
    {
      "cell_type": "code",
      "metadata": {
        "id": "e1VzMA5nC_le"
      },
      "source": [
        "group_size = test_clear['variant_name'].value_counts().values"
      ],
      "execution_count": 138,
      "outputs": []
    },
    {
      "cell_type": "code",
      "metadata": {
        "colab": {
          "base_uri": "https://localhost:8080/"
        },
        "id": "yJeYDu6hC_le",
        "outputId": "1dee366c-7395-4b6b-abaf-9aeab99d3954"
      },
      "source": [
        "group_size"
      ],
      "execution_count": 139,
      "outputs": [
        {
          "output_type": "execute_result",
          "data": {
            "text/plain": [
              "array([3018, 2990])"
            ]
          },
          "metadata": {},
          "execution_count": 139
        }
      ]
    },
    {
      "cell_type": "code",
      "metadata": {
        "colab": {
          "base_uri": "https://localhost:8080/",
          "height": 112
        },
        "id": "-HCH5xhCDTqG",
        "outputId": "dfa16706-ca83-4684-d694-45f291b3db93"
      },
      "source": [
        "test_clear.groupby('variant_name')['buyer'].agg(['count','mean']).reset_index()"
      ],
      "execution_count": 143,
      "outputs": [
        {
          "output_type": "execute_result",
          "data": {
            "text/html": [
              "<div>\n",
              "<style scoped>\n",
              "    .dataframe tbody tr th:only-of-type {\n",
              "        vertical-align: middle;\n",
              "    }\n",
              "\n",
              "    .dataframe tbody tr th {\n",
              "        vertical-align: top;\n",
              "    }\n",
              "\n",
              "    .dataframe thead th {\n",
              "        text-align: right;\n",
              "    }\n",
              "</style>\n",
              "<table border=\"1\" class=\"dataframe\">\n",
              "  <thead>\n",
              "    <tr style=\"text-align: right;\">\n",
              "      <th></th>\n",
              "      <th>variant_name</th>\n",
              "      <th>count</th>\n",
              "      <th>mean</th>\n",
              "    </tr>\n",
              "  </thead>\n",
              "  <tbody>\n",
              "    <tr>\n",
              "      <th>0</th>\n",
              "      <td>control</td>\n",
              "      <td>2990</td>\n",
              "      <td>0.006020</td>\n",
              "    </tr>\n",
              "    <tr>\n",
              "      <th>1</th>\n",
              "      <td>variant</td>\n",
              "      <td>3018</td>\n",
              "      <td>0.005633</td>\n",
              "    </tr>\n",
              "  </tbody>\n",
              "</table>\n",
              "</div>"
            ],
            "text/plain": [
              "  variant_name  count      mean\n",
              "0      control   2990  0.006020\n",
              "1      variant   3018  0.005633"
            ]
          },
          "metadata": {},
          "execution_count": 143
        }
      ]
    },
    {
      "cell_type": "code",
      "metadata": {
        "colab": {
          "base_uri": "https://localhost:8080/",
          "height": 49,
          "referenced_widgets": [
            "4ea4610e7dc94d18827b3ed976baed77",
            "a933ecf1b820495ca7123d08c0abe8b3",
            "5b66144451614c9199930750d1766bc0",
            "4a759747ed8c486f9ab3e4f446b3a967",
            "de8895d8452e4f0a9b13b0f393d22754",
            "dfc34ab837454b7d81dad6e75bfaa40b",
            "311af24221b6405ca60cc36eb1fad876",
            "8f51a864601c4277bacaf27d9cfe4b83",
            "8d90f6d8cbcd4fa59acc66b8a54140e4",
            "1d28ca4388e84f2291b7d4fcfdeeec8a",
            "1431cd58e41d405eb72f6cec9056ec9a"
          ]
        },
        "id": "rXDIudGJC_le",
        "outputId": "7625bc2e-8a6a-4d9b-eaac-2030c50b019f"
      },
      "source": [
        "n = 1000\n",
        "result = []\n",
        "base_diff = 0.006020 - 0.005633\n",
        "\n",
        "for _ in tqdm(range(n)):\n",
        "  a = test_clear.sample(group_size[0],replace=True)['buyer'].mean()\n",
        "  b = test_clear.sample(group_size[1],replace=True)['buyer'].mean()\n",
        "  result.append(np.abs(a-b) >= base_diff)"
      ],
      "execution_count": 145,
      "outputs": [
        {
          "output_type": "display_data",
          "data": {
            "application/vnd.jupyter.widget-view+json": {
              "model_id": "4ea4610e7dc94d18827b3ed976baed77",
              "version_minor": 0,
              "version_major": 2
            },
            "text/plain": [
              "  0%|          | 0/1000 [00:00<?, ?it/s]"
            ]
          },
          "metadata": {}
        }
      ]
    },
    {
      "cell_type": "code",
      "metadata": {
        "colab": {
          "base_uri": "https://localhost:8080/"
        },
        "id": "BVp-1CyIC_le",
        "outputId": "d89df526-1e99-48d2-ce75-a78138d7b5fd"
      },
      "source": [
        "np.mean(result)"
      ],
      "execution_count": 146,
      "outputs": [
        {
          "output_type": "execute_result",
          "data": {
            "text/plain": [
              "0.804"
            ]
          },
          "metadata": {},
          "execution_count": 146
        }
      ]
    },
    {
      "cell_type": "markdown",
      "metadata": {
        "id": "BAArNGJwDkEy"
      },
      "source": [
        "Видим, что значение p-value не сильно отличается от p-value в тесте Манна-Уитни и в TTest. Так что нулевая гипотеза продолжает жить."
      ]
    },
    {
      "cell_type": "markdown",
      "metadata": {
        "id": "lsJwZVbID0gI"
      },
      "source": [
        "### Вывод\n",
        "\n",
        "- Нашли пересечения групп, которых не должно было быть, и обнуружили существенные выбросы. \n",
        "- Скорее всего тест был проведен не правильно.\n",
        "- Статистических различий между группами не было обнурежено ни по revenue, но по конверсии в покупку ни одним из трех тестов (Манна-Уитни, TTest, Bootstrap)"
      ]
    }
  ]
}