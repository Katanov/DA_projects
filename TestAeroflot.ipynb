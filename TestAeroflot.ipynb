{
  "nbformat": 4,
  "nbformat_minor": 0,
  "metadata": {
    "colab": {
      "name": "ТестовоеАэрофлот.ipynb",
      "provenance": [],
      "authorship_tag": "ABX9TyOAqpDKiLIbXlDnmnX6/jhV",
      "include_colab_link": true
    },
    "kernelspec": {
      "name": "python3",
      "display_name": "Python 3"
    },
    "language_info": {
      "name": "python"
    }
  },
  "cells": [
    {
      "cell_type": "markdown",
      "metadata": {
        "id": "view-in-github",
        "colab_type": "text"
      },
      "source": [
        "<a href=\"https://colab.research.google.com/github/Katanov/DA_projects/blob/main/TestAeroflot.ipynb\" target=\"_parent\"><img src=\"https://colab.research.google.com/assets/colab-badge.svg\" alt=\"Open In Colab\"/></a>"
      ]
    },
    {
      "cell_type": "markdown",
      "metadata": {
        "id": "q2i7Ru9ukpdT"
      },
      "source": [
        "# Загрузка данных и предобработка"
      ]
    },
    {
      "cell_type": "code",
      "metadata": {
        "id": "3rNG6WquQUjm"
      },
      "source": [
        "import pandas as pd\n",
        "import numpy as np"
      ],
      "execution_count": 97,
      "outputs": []
    },
    {
      "cell_type": "code",
      "metadata": {
        "id": "SU40dD5MQWuu"
      },
      "source": [
        "import sqlite3"
      ],
      "execution_count": 98,
      "outputs": []
    },
    {
      "cell_type": "code",
      "metadata": {
        "colab": {
          "base_uri": "https://localhost:8080/",
          "height": 35
        },
        "id": "WdX9LsGzQ1F3",
        "outputId": "1a241c53-3bc6-41ec-c06c-6cf78b17903b"
      },
      "source": [
        "sqlite3.sqlite_version"
      ],
      "execution_count": 99,
      "outputs": [
        {
          "output_type": "execute_result",
          "data": {
            "application/vnd.google.colaboratory.intrinsic+json": {
              "type": "string"
            },
            "text/plain": [
              "'3.36.0'"
            ]
          },
          "metadata": {},
          "execution_count": 99
        }
      ]
    },
    {
      "cell_type": "code",
      "metadata": {
        "id": "2ej740rTcnHC"
      },
      "source": [
        "#!gdown --id 1BSHIKQ7rFw5BpTq5nw1UZfjPK_7Mpnbi\n",
        "#!mv _sqlite3.cpython-37m-x86_64-linux-gnu.so /usr/lib/python3.7/lib-dynload/\n",
        "#import os\n",
        "#os.kill(os.getpid(), 9)"
      ],
      "execution_count": 100,
      "outputs": []
    },
    {
      "cell_type": "code",
      "metadata": {
        "id": "jL7_mx3SRVt4"
      },
      "source": [
        "con = sqlite3.connect('db')"
      ],
      "execution_count": 101,
      "outputs": []
    },
    {
      "cell_type": "code",
      "metadata": {
        "id": "totYbKem9X0u"
      },
      "source": [
        "df = pd.read_csv('/content/Новая таблица - Лист1 (2).csv')\n",
        "df1 = pd.read_csv('/content/Новая таблица - Лист2 (8).csv')\n",
        "df2 = pd.read_csv('/content/Новая таблица - Лист3 (2).csv')"
      ],
      "execution_count": 102,
      "outputs": []
    },
    {
      "cell_type": "code",
      "metadata": {
        "id": "zCZqtXGredG2"
      },
      "source": [
        "df1['txn_date'] = pd.to_datetime(df1['txn_date'],format='%d.%m.%Y')"
      ],
      "execution_count": 103,
      "outputs": []
    },
    {
      "cell_type": "code",
      "metadata": {
        "colab": {
          "base_uri": "https://localhost:8080/",
          "height": 110
        },
        "id": "M4mQNv1Q9Yd9",
        "outputId": "d0e0fc24-72f8-47c1-91d0-3636f59c1e65"
      },
      "source": [
        "df.head(2)"
      ],
      "execution_count": 104,
      "outputs": [
        {
          "output_type": "execute_result",
          "data": {
            "text/html": [
              "<div>\n",
              "<style scoped>\n",
              "    .dataframe tbody tr th:only-of-type {\n",
              "        vertical-align: middle;\n",
              "    }\n",
              "\n",
              "    .dataframe tbody tr th {\n",
              "        vertical-align: top;\n",
              "    }\n",
              "\n",
              "    .dataframe thead th {\n",
              "        text-align: right;\n",
              "    }\n",
              "</style>\n",
              "<table border=\"1\" class=\"dataframe\">\n",
              "  <thead>\n",
              "    <tr style=\"text-align: right;\">\n",
              "      <th></th>\n",
              "      <th>client_id</th>\n",
              "      <th>client_number</th>\n",
              "    </tr>\n",
              "  </thead>\n",
              "  <tbody>\n",
              "    <tr>\n",
              "      <th>0</th>\n",
              "      <td>1</td>\n",
              "      <td>Client number 1</td>\n",
              "    </tr>\n",
              "    <tr>\n",
              "      <th>1</th>\n",
              "      <td>2</td>\n",
              "      <td>Client number 2</td>\n",
              "    </tr>\n",
              "  </tbody>\n",
              "</table>\n",
              "</div>"
            ],
            "text/plain": [
              "   client_id    client_number\n",
              "0          1  Client number 1\n",
              "1          2  Client number 2"
            ]
          },
          "metadata": {},
          "execution_count": 104
        }
      ]
    },
    {
      "cell_type": "code",
      "metadata": {
        "colab": {
          "base_uri": "https://localhost:8080/",
          "height": 203
        },
        "id": "9YtcAOiD9Y4e",
        "outputId": "3bebaedb-cdcb-429e-aabf-ea75297ae357"
      },
      "source": [
        "df1.tail(5)"
      ],
      "execution_count": 105,
      "outputs": [
        {
          "output_type": "execute_result",
          "data": {
            "text/html": [
              "<div>\n",
              "<style scoped>\n",
              "    .dataframe tbody tr th:only-of-type {\n",
              "        vertical-align: middle;\n",
              "    }\n",
              "\n",
              "    .dataframe tbody tr th {\n",
              "        vertical-align: top;\n",
              "    }\n",
              "\n",
              "    .dataframe thead th {\n",
              "        text-align: right;\n",
              "    }\n",
              "</style>\n",
              "<table border=\"1\" class=\"dataframe\">\n",
              "  <thead>\n",
              "    <tr style=\"text-align: right;\">\n",
              "      <th></th>\n",
              "      <th>client_id</th>\n",
              "      <th>txn_ID</th>\n",
              "      <th>txn_date</th>\n",
              "      <th>txn_type</th>\n",
              "      <th>txn_sts</th>\n",
              "      <th>product_id</th>\n",
              "      <th>miles_sum</th>\n",
              "      <th>Client_mile_balance_after_txn</th>\n",
              "    </tr>\n",
              "  </thead>\n",
              "  <tbody>\n",
              "    <tr>\n",
              "      <th>28</th>\n",
              "      <td>999</td>\n",
              "      <td>Txn ID 29</td>\n",
              "      <td>2019-08-26</td>\n",
              "      <td>Accrual</td>\n",
              "      <td>Processed</td>\n",
              "      <td>Product type id 2</td>\n",
              "      <td>120000</td>\n",
              "      <td>55555</td>\n",
              "    </tr>\n",
              "    <tr>\n",
              "      <th>29</th>\n",
              "      <td>999</td>\n",
              "      <td>Txn ID 30</td>\n",
              "      <td>2019-08-27</td>\n",
              "      <td>Redemption</td>\n",
              "      <td>Cancelled</td>\n",
              "      <td>Product type id 2</td>\n",
              "      <td>120000</td>\n",
              "      <td>55555</td>\n",
              "    </tr>\n",
              "    <tr>\n",
              "      <th>30</th>\n",
              "      <td>999</td>\n",
              "      <td>Txn ID 31</td>\n",
              "      <td>2020-05-25</td>\n",
              "      <td>Redemption</td>\n",
              "      <td>Cancelled</td>\n",
              "      <td>Product type id 1</td>\n",
              "      <td>120000</td>\n",
              "      <td>55555</td>\n",
              "    </tr>\n",
              "    <tr>\n",
              "      <th>31</th>\n",
              "      <td>999</td>\n",
              "      <td>Txn ID 32</td>\n",
              "      <td>2020-05-26</td>\n",
              "      <td>Redemption</td>\n",
              "      <td>Processed</td>\n",
              "      <td>Product type id 1</td>\n",
              "      <td>120000</td>\n",
              "      <td>55555</td>\n",
              "    </tr>\n",
              "    <tr>\n",
              "      <th>32</th>\n",
              "      <td>999</td>\n",
              "      <td>Txn ID 33</td>\n",
              "      <td>2020-05-27</td>\n",
              "      <td>Redemption</td>\n",
              "      <td>Processed</td>\n",
              "      <td>Product type id 1</td>\n",
              "      <td>120000</td>\n",
              "      <td>55555</td>\n",
              "    </tr>\n",
              "  </tbody>\n",
              "</table>\n",
              "</div>"
            ],
            "text/plain": [
              "    client_id     txn_ID  ... miles_sum Client_mile_balance_after_txn\n",
              "28        999  Txn ID 29  ...    120000                         55555\n",
              "29        999  Txn ID 30  ...    120000                         55555\n",
              "30        999  Txn ID 31  ...    120000                         55555\n",
              "31        999  Txn ID 32  ...    120000                         55555\n",
              "32        999  Txn ID 33  ...    120000                         55555\n",
              "\n",
              "[5 rows x 8 columns]"
            ]
          },
          "metadata": {},
          "execution_count": 105
        }
      ]
    },
    {
      "cell_type": "code",
      "metadata": {
        "colab": {
          "base_uri": "https://localhost:8080/",
          "height": 142
        },
        "id": "WAvWLgR79ZGS",
        "outputId": "e82e769f-bff2-4a90-e884-1416e43cf3ee"
      },
      "source": [
        "df2"
      ],
      "execution_count": 106,
      "outputs": [
        {
          "output_type": "execute_result",
          "data": {
            "text/html": [
              "<div>\n",
              "<style scoped>\n",
              "    .dataframe tbody tr th:only-of-type {\n",
              "        vertical-align: middle;\n",
              "    }\n",
              "\n",
              "    .dataframe tbody tr th {\n",
              "        vertical-align: top;\n",
              "    }\n",
              "\n",
              "    .dataframe thead th {\n",
              "        text-align: right;\n",
              "    }\n",
              "</style>\n",
              "<table border=\"1\" class=\"dataframe\">\n",
              "  <thead>\n",
              "    <tr style=\"text-align: right;\">\n",
              "      <th></th>\n",
              "      <th>product_id</th>\n",
              "      <th>product_nm</th>\n",
              "    </tr>\n",
              "  </thead>\n",
              "  <tbody>\n",
              "    <tr>\n",
              "      <th>0</th>\n",
              "      <td>Product type id 1</td>\n",
              "      <td>Ticket</td>\n",
              "    </tr>\n",
              "    <tr>\n",
              "      <th>1</th>\n",
              "      <td>Product type id 2</td>\n",
              "      <td>Bank card</td>\n",
              "    </tr>\n",
              "    <tr>\n",
              "      <th>2</th>\n",
              "      <td>Product type id 3</td>\n",
              "      <td>Hotel</td>\n",
              "    </tr>\n",
              "  </tbody>\n",
              "</table>\n",
              "</div>"
            ],
            "text/plain": [
              "          product_id product_nm\n",
              "0  Product type id 1     Ticket\n",
              "1  Product type id 2  Bank card\n",
              "2  Product type id 3      Hotel"
            ]
          },
          "metadata": {},
          "execution_count": 106
        }
      ]
    },
    {
      "cell_type": "code",
      "metadata": {
        "id": "Ta0zMaSo9ZRr"
      },
      "source": [
        "df.to_sql('clients',con,index=False,if_exists='replace')\n",
        "df1.to_sql('trans',con,index=False,if_exists='replace')\n",
        "df2.to_sql('product',con,index=False,if_exists='replace')"
      ],
      "execution_count": 107,
      "outputs": []
    },
    {
      "cell_type": "code",
      "metadata": {
        "id": "tHwSVebd9Zup"
      },
      "source": [
        "def select(sql):\n",
        "  return pd.read_sql(sql,con)"
      ],
      "execution_count": 108,
      "outputs": []
    },
    {
      "cell_type": "markdown",
      "metadata": {
        "id": "_5swkSM2kyjF"
      },
      "source": [
        "# Решение и комментарии"
      ]
    },
    {
      "cell_type": "markdown",
      "metadata": {
        "id": "-hBtUKqrq_XU"
      },
      "source": [
        "Создал небольшой датасет на основе структуры таблиц, ибо, к сожалению, не могу писать запросы без возможности потрогать данные и проследить логику запроса в действии.\n",
        "\n",
        "Касательно оформления:\n",
        "- не всегда использую псевдонимы, ибо в большинстве случаев это избыточно и почти не влияет на читаемость.\n",
        "- постоянно использую CTE, так как учился на пандасе и там всегда было проще работать пошагово через создание большого количества таблиц, а не пытаться уместить все действия сразу в один запрос.\n",
        "\n",
        "Касательно запроса:\n",
        "- скорее всего нужно было еще сделать group by по номерам транзакций и определить для каждой транзакции последнее событие, но опять же: так как не было самих данных, то здесь можно придумать разную логику, поэтому я опустил этот шаг. "
      ]
    },
    {
      "cell_type": "code",
      "metadata": {
        "id": "wkMiLenNl12U"
      },
      "source": [
        "sql = '''\n",
        "with \n",
        "\n",
        "trans_with_product as(\n",
        "select * \n",
        "from trans t\n",
        "left join product p on t.product_id = p.product_id\n",
        "), \n",
        "-- джойним основную таблицу с таблицей с продуктами\n",
        "\n",
        "rnk as(\n",
        "select t.*,\n",
        "row_number() over (partition by client_id order by txn_date) as rnk\n",
        "from trans_with_product t), \n",
        "-- нумеруем транзакции клиентов по дате\n",
        "\n",
        "min_rnk as(\n",
        "select client_id, min(rnk.rnk) as rnk\n",
        "from rnk\n",
        "where product_nm = 'Ticket'\n",
        "and txn_sts = 'Processed'\n",
        "and date(txn_date, 'start of year') = '2020-01-01'\n",
        "group by client_id), \n",
        "-- определяем rnk транзакции первого полета в 2020\n",
        "\n",
        "miles_before as(\n",
        "select client_id, rnk-1 as miles_before \n",
        "from min_rnk), \n",
        "-- определяем количество миль на счету перед первым полетом в 2020\n",
        "\n",
        "final_almost as(\n",
        "select rnk.* \n",
        "from rnk, miles_before\n",
        "where rnk.client_id = miles_before.client_id\n",
        "and rnk.rnk = miles_before.miles_before\n",
        "and Client_mile_balance_after_txn >= 40000), \n",
        "-- фильтруем клиентов по количеству миль перед первым полетом в 2020\n",
        "\n",
        "more50k as(\n",
        "select client_id, sum(miles_sum) as sum2020, count(*) as cnt, avg(miles_sum) as avg\n",
        "from rnk\n",
        "where txn_type = 'Redemption'\n",
        "and txn_sts = 'Processed'\n",
        "and date(txn_date, 'start of year') = '2020-01-01'\n",
        "group by client_id), \n",
        "-- определяем клиентов, потративших свыше 50к миль на полеты\n",
        "\n",
        "final as(\n",
        "select f.client_id, cnt as количество_транзакций, avg as среднее_количество_миль\n",
        "from more50k m, final_almost f\n",
        "where m.client_id = f.client_id)\n",
        "\n",
        "select c.client_number as номер_клиента, f.количество_транзакций, f.среднее_количество_миль \n",
        "from final f\n",
        "left join clients c on f.client_id = c.client_id\n",
        "group by f.client_id\n",
        "'''"
      ],
      "execution_count": 109,
      "outputs": []
    },
    {
      "cell_type": "code",
      "metadata": {
        "colab": {
          "base_uri": "https://localhost:8080/",
          "height": 80
        },
        "id": "I_8d2jmVncRf",
        "outputId": "9721137e-db4f-466e-be0a-5353c9f3e4cd"
      },
      "source": [
        "select(sql)"
      ],
      "execution_count": 110,
      "outputs": [
        {
          "output_type": "execute_result",
          "data": {
            "text/html": [
              "<div>\n",
              "<style scoped>\n",
              "    .dataframe tbody tr th:only-of-type {\n",
              "        vertical-align: middle;\n",
              "    }\n",
              "\n",
              "    .dataframe tbody tr th {\n",
              "        vertical-align: top;\n",
              "    }\n",
              "\n",
              "    .dataframe thead th {\n",
              "        text-align: right;\n",
              "    }\n",
              "</style>\n",
              "<table border=\"1\" class=\"dataframe\">\n",
              "  <thead>\n",
              "    <tr style=\"text-align: right;\">\n",
              "      <th></th>\n",
              "      <th>номер_клиента</th>\n",
              "      <th>количество_транзакций</th>\n",
              "      <th>среднее_количество_миль</th>\n",
              "    </tr>\n",
              "  </thead>\n",
              "  <tbody>\n",
              "    <tr>\n",
              "      <th>0</th>\n",
              "      <td>Client number 28</td>\n",
              "      <td>2</td>\n",
              "      <td>120000.0</td>\n",
              "    </tr>\n",
              "  </tbody>\n",
              "</table>\n",
              "</div>"
            ],
            "text/plain": [
              "      номер_клиента  количество_транзакций  среднее_количество_миль\n",
              "0  Client number 28                      2                 120000.0"
            ]
          },
          "metadata": {},
          "execution_count": 110
        }
      ]
    },
    {
      "cell_type": "code",
      "metadata": {
        "id": "HO1EzGu9nfjq"
      },
      "source": [
        ""
      ],
      "execution_count": null,
      "outputs": []
    }
  ]
}