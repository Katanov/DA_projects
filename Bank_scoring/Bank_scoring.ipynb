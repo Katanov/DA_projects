{
  "nbformat": 4,
  "nbformat_minor": 0,
  "metadata": {
    "kernelspec": {
      "display_name": "Python 3",
      "language": "python",
      "name": "python3"
    },
    "language_info": {
      "codemirror_mode": {
        "name": "ipython",
        "version": 3
      },
      "file_extension": ".py",
      "mimetype": "text/x-python",
      "name": "python",
      "nbconvert_exporter": "python",
      "pygments_lexer": "ipython3",
      "version": "3.7.8"
    },
    "toc": {
      "base_numbering": 1,
      "nav_menu": {},
      "number_sections": true,
      "sideBar": true,
      "skip_h1_title": true,
      "title_cell": "Table of Contents",
      "title_sidebar": "Contents",
      "toc_cell": false,
      "toc_position": {},
      "toc_section_display": true,
      "toc_window_display": false
    },
    "colab": {
      "name": "1b8d39be-3845-4530-98bc-5fbcede32611 (6).ipynb",
      "provenance": []
    }
  },
  "cells": [
    {
      "cell_type": "markdown",
      "metadata": {
        "id": "WBeJiFZ0ybFB"
      },
      "source": [
        "## Исследование надёжности заёмщиков\n",
        "\n",
        "Заказчик — кредитный отдел банка. Нужно разобраться, влияет ли семейное положение и количество детей клиента на факт погашения кредита в срок. Входные данные от банка — статистика о платёжеспособности клиентов.\n",
        "\n",
        "Результаты исследования будут учтены при построении модели **кредитного скоринга** — специальной системы, которая оценивает способность потенциального заёмщика вернуть кредит банку."
      ]
    },
    {
      "cell_type": "markdown",
      "metadata": {
        "id": "oTlC1qulybFD"
      },
      "source": [
        "### Шаг 1. Изучите общую информацию. "
      ]
    },
    {
      "cell_type": "code",
      "metadata": {
        "id": "_YPE637N0KKG"
      },
      "source": [
        "import pandas as pd\r\n",
        "from pymystem3 import Mystem\r\n",
        "from collections import Counter"
      ],
      "execution_count": null,
      "outputs": []
    },
    {
      "cell_type": "code",
      "metadata": {
        "scrolled": true,
        "colab": {
          "base_uri": "https://localhost:8080/",
          "height": 195
        },
        "id": "6_e6DmsbybFE",
        "outputId": "eaaacd38-f88a-42b0-ff5f-1303ffcca81a"
      },
      "source": [
        "df = pd.read_csv('/content/data (1).csv')\n",
        "df.head(5)"
      ],
      "execution_count": 2,
      "outputs": [
        {
          "output_type": "execute_result",
          "data": {
            "text/html": [
              "<div>\n",
              "<style scoped>\n",
              "    .dataframe tbody tr th:only-of-type {\n",
              "        vertical-align: middle;\n",
              "    }\n",
              "\n",
              "    .dataframe tbody tr th {\n",
              "        vertical-align: top;\n",
              "    }\n",
              "\n",
              "    .dataframe thead th {\n",
              "        text-align: right;\n",
              "    }\n",
              "</style>\n",
              "<table border=\"1\" class=\"dataframe\">\n",
              "  <thead>\n",
              "    <tr style=\"text-align: right;\">\n",
              "      <th></th>\n",
              "      <th>children</th>\n",
              "      <th>days_employed</th>\n",
              "      <th>dob_years</th>\n",
              "      <th>education</th>\n",
              "      <th>education_id</th>\n",
              "      <th>family_status</th>\n",
              "      <th>family_status_id</th>\n",
              "      <th>gender</th>\n",
              "      <th>income_type</th>\n",
              "      <th>debt</th>\n",
              "      <th>total_income</th>\n",
              "      <th>purpose</th>\n",
              "    </tr>\n",
              "  </thead>\n",
              "  <tbody>\n",
              "    <tr>\n",
              "      <th>0</th>\n",
              "      <td>1</td>\n",
              "      <td>-8437.673028</td>\n",
              "      <td>42</td>\n",
              "      <td>высшее</td>\n",
              "      <td>0</td>\n",
              "      <td>женат / замужем</td>\n",
              "      <td>0</td>\n",
              "      <td>F</td>\n",
              "      <td>сотрудник</td>\n",
              "      <td>0</td>\n",
              "      <td>253875.639453</td>\n",
              "      <td>покупка жилья</td>\n",
              "    </tr>\n",
              "    <tr>\n",
              "      <th>1</th>\n",
              "      <td>1</td>\n",
              "      <td>-4024.803754</td>\n",
              "      <td>36</td>\n",
              "      <td>среднее</td>\n",
              "      <td>1</td>\n",
              "      <td>женат / замужем</td>\n",
              "      <td>0</td>\n",
              "      <td>F</td>\n",
              "      <td>сотрудник</td>\n",
              "      <td>0</td>\n",
              "      <td>112080.014102</td>\n",
              "      <td>приобретение автомобиля</td>\n",
              "    </tr>\n",
              "    <tr>\n",
              "      <th>2</th>\n",
              "      <td>0</td>\n",
              "      <td>-5623.422610</td>\n",
              "      <td>33</td>\n",
              "      <td>Среднее</td>\n",
              "      <td>1</td>\n",
              "      <td>женат / замужем</td>\n",
              "      <td>0</td>\n",
              "      <td>M</td>\n",
              "      <td>сотрудник</td>\n",
              "      <td>0</td>\n",
              "      <td>145885.952297</td>\n",
              "      <td>покупка жилья</td>\n",
              "    </tr>\n",
              "    <tr>\n",
              "      <th>3</th>\n",
              "      <td>3</td>\n",
              "      <td>-4124.747207</td>\n",
              "      <td>32</td>\n",
              "      <td>среднее</td>\n",
              "      <td>1</td>\n",
              "      <td>женат / замужем</td>\n",
              "      <td>0</td>\n",
              "      <td>M</td>\n",
              "      <td>сотрудник</td>\n",
              "      <td>0</td>\n",
              "      <td>267628.550329</td>\n",
              "      <td>дополнительное образование</td>\n",
              "    </tr>\n",
              "    <tr>\n",
              "      <th>4</th>\n",
              "      <td>0</td>\n",
              "      <td>340266.072047</td>\n",
              "      <td>53</td>\n",
              "      <td>среднее</td>\n",
              "      <td>1</td>\n",
              "      <td>гражданский брак</td>\n",
              "      <td>1</td>\n",
              "      <td>F</td>\n",
              "      <td>пенсионер</td>\n",
              "      <td>0</td>\n",
              "      <td>158616.077870</td>\n",
              "      <td>сыграть свадьбу</td>\n",
              "    </tr>\n",
              "  </tbody>\n",
              "</table>\n",
              "</div>"
            ],
            "text/plain": [
              "   children  days_employed  ...   total_income                     purpose\n",
              "0         1   -8437.673028  ...  253875.639453               покупка жилья\n",
              "1         1   -4024.803754  ...  112080.014102     приобретение автомобиля\n",
              "2         0   -5623.422610  ...  145885.952297               покупка жилья\n",
              "3         3   -4124.747207  ...  267628.550329  дополнительное образование\n",
              "4         0  340266.072047  ...  158616.077870             сыграть свадьбу\n",
              "\n",
              "[5 rows x 12 columns]"
            ]
          },
          "metadata": {
            "tags": []
          },
          "execution_count": 2
        }
      ]
    },
    {
      "cell_type": "code",
      "metadata": {
        "id": "bLY8NatOybFF",
        "outputId": "e4da50f9-f7df-4d65-c6fb-2c9240cea38e"
      },
      "source": [
        "df.info()"
      ],
      "execution_count": null,
      "outputs": [
        {
          "output_type": "stream",
          "text": [
            "<class 'pandas.core.frame.DataFrame'>\n",
            "RangeIndex: 21525 entries, 0 to 21524\n",
            "Data columns (total 12 columns):\n",
            "children            21525 non-null int64\n",
            "days_employed       19351 non-null float64\n",
            "dob_years           21525 non-null int64\n",
            "education           21525 non-null object\n",
            "education_id        21525 non-null int64\n",
            "family_status       21525 non-null object\n",
            "family_status_id    21525 non-null int64\n",
            "gender              21525 non-null object\n",
            "income_type         21525 non-null object\n",
            "debt                21525 non-null int64\n",
            "total_income        19351 non-null float64\n",
            "purpose             21525 non-null object\n",
            "dtypes: float64(2), int64(5), object(5)\n",
            "memory usage: 2.0+ MB\n"
          ],
          "name": "stdout"
        }
      ]
    },
    {
      "cell_type": "code",
      "metadata": {
        "id": "Ugnt1xzqybFG",
        "outputId": "6527731a-0055-48e6-f6cd-4b298f666e8d"
      },
      "source": [
        "df.isna().sum()"
      ],
      "execution_count": null,
      "outputs": [
        {
          "output_type": "execute_result",
          "data": {
            "text/plain": [
              "children               0\n",
              "days_employed       2174\n",
              "dob_years              0\n",
              "education              0\n",
              "education_id           0\n",
              "family_status          0\n",
              "family_status_id       0\n",
              "gender                 0\n",
              "income_type            0\n",
              "debt                   0\n",
              "total_income        2174\n",
              "purpose                0\n",
              "dtype: int64"
            ]
          },
          "metadata": {
            "tags": []
          },
          "execution_count": 3
        }
      ]
    },
    {
      "cell_type": "code",
      "metadata": {
        "id": "xo5iydaqybFG",
        "outputId": "293483d5-182c-48a0-f1c3-462a6d1c2ed2"
      },
      "source": [
        "df.duplicated().sum()"
      ],
      "execution_count": null,
      "outputs": [
        {
          "output_type": "execute_result",
          "data": {
            "text/plain": [
              "54"
            ]
          },
          "metadata": {
            "tags": []
          },
          "execution_count": 4
        }
      ]
    },
    {
      "cell_type": "markdown",
      "metadata": {
        "id": "ZVBsfh4JybFH"
      },
      "source": [
        "### Вывод"
      ]
    },
    {
      "cell_type": "markdown",
      "metadata": {
        "id": "JbnhqfjmybFI"
      },
      "source": [
        "База изучена, проверена на пропуски, дубликаты и готова к дальнейшей предобработке. Также принято решение не вносить правки в столбцы, которые не понадобятся для ответа на основные вопросы: days_employed, education_id, family_status_id, gender, income_type."
      ]
    },
    {
      "cell_type": "markdown",
      "metadata": {
        "id": "rRfJO2nKybFJ"
      },
      "source": [
        "### Шаг 2. Предобработка данных"
      ]
    },
    {
      "cell_type": "markdown",
      "metadata": {
        "id": "lNjoWLm8ybFJ"
      },
      "source": [
        "### Замена регистра"
      ]
    },
    {
      "cell_type": "code",
      "metadata": {
        "id": "Oiru_GzEybFK"
      },
      "source": [
        "df['education'] = df['education'].str.lower()"
      ],
      "execution_count": null,
      "outputs": []
    },
    {
      "cell_type": "markdown",
      "metadata": {
        "id": "pA3FgjAwybFK"
      },
      "source": [
        "### Вывод"
      ]
    },
    {
      "cell_type": "markdown",
      "metadata": {
        "id": "J5iqBsG7ybFL"
      },
      "source": [
        "<font color='green'>Заменил регистр в столбце Education, что привело к росту количества дубликатов на 25%. </font>"
      ]
    },
    {
      "cell_type": "markdown",
      "metadata": {
        "id": "NCrS1nSKybFN"
      },
      "source": [
        "### Замена ошибок"
      ]
    },
    {
      "cell_type": "code",
      "metadata": {
        "id": "ksl_63dwybFN"
      },
      "source": [
        "def children (df):\n",
        "    if df['children'] == 20:\n",
        "        return 2\n",
        "    elif df['children'] == -1:\n",
        "        return 1\n",
        "    else:\n",
        "        return df['children']"
      ],
      "execution_count": null,
      "outputs": []
    },
    {
      "cell_type": "code",
      "metadata": {
        "id": "CPMOkkIqybFO"
      },
      "source": [
        "df['children'] = df.apply(children, axis=1)"
      ],
      "execution_count": null,
      "outputs": []
    },
    {
      "cell_type": "markdown",
      "metadata": {
        "id": "M4QZW_WmybFO"
      },
      "source": [
        "### Вывод"
      ]
    },
    {
      "cell_type": "markdown",
      "metadata": {
        "id": "LUIxdQi5ybFO"
      },
      "source": [
        "<font color='green'>Решил, что значения 20 и -1 - это ошибки при вводе данных в столбце children, поэтому принял решение заменить их на 2 и 1 соответственно. </font>"
      ]
    },
    {
      "cell_type": "markdown",
      "metadata": {
        "id": "qhp2RdoWybFQ"
      },
      "source": [
        "### Обработка пропусков"
      ]
    },
    {
      "cell_type": "code",
      "metadata": {
        "id": "Z-GqWKdPybFQ",
        "outputId": "f567bc28-2abd-4473-b3f5-7b29c60582a9"
      },
      "source": [
        "df['total_income'].min()"
      ],
      "execution_count": null,
      "outputs": [
        {
          "output_type": "execute_result",
          "data": {
            "text/plain": [
              "20667.26379327158"
            ]
          },
          "metadata": {
            "tags": []
          },
          "execution_count": 8
        }
      ]
    },
    {
      "cell_type": "code",
      "metadata": {
        "id": "Av8UIJHzybFR",
        "outputId": "12131710-d04e-4c7a-fcf9-80d34f22b90a"
      },
      "source": [
        "df['total_income'].max()"
      ],
      "execution_count": null,
      "outputs": [
        {
          "output_type": "execute_result",
          "data": {
            "text/plain": [
              "2265604.028722744"
            ]
          },
          "metadata": {
            "tags": []
          },
          "execution_count": 9
        }
      ]
    },
    {
      "cell_type": "code",
      "metadata": {
        "id": "GfXC6_6ZybFR",
        "outputId": "edbae0d8-c1e6-4ea0-b15c-bcb0d6dce623"
      },
      "source": [
        "df.groupby('education')['total_income'].agg(['mean','median'])"
      ],
      "execution_count": null,
      "outputs": [
        {
          "output_type": "execute_result",
          "data": {
            "text/html": [
              "<div>\n",
              "<style scoped>\n",
              "    .dataframe tbody tr th:only-of-type {\n",
              "        vertical-align: middle;\n",
              "    }\n",
              "\n",
              "    .dataframe tbody tr th {\n",
              "        vertical-align: top;\n",
              "    }\n",
              "\n",
              "    .dataframe thead th {\n",
              "        text-align: right;\n",
              "    }\n",
              "</style>\n",
              "<table border=\"1\" class=\"dataframe\">\n",
              "  <thead>\n",
              "    <tr style=\"text-align: right;\">\n",
              "      <th></th>\n",
              "      <th>mean</th>\n",
              "      <th>median</th>\n",
              "    </tr>\n",
              "    <tr>\n",
              "      <th>education</th>\n",
              "      <th></th>\n",
              "      <th></th>\n",
              "    </tr>\n",
              "  </thead>\n",
              "  <tbody>\n",
              "    <tr>\n",
              "      <td>высшее</td>\n",
              "      <td>207142.515219</td>\n",
              "      <td>175340.818855</td>\n",
              "    </tr>\n",
              "    <tr>\n",
              "      <td>начальное</td>\n",
              "      <td>132155.513626</td>\n",
              "      <td>117137.352825</td>\n",
              "    </tr>\n",
              "    <tr>\n",
              "      <td>неоконченное высшее</td>\n",
              "      <td>181534.022774</td>\n",
              "      <td>160115.398644</td>\n",
              "    </tr>\n",
              "    <tr>\n",
              "      <td>среднее</td>\n",
              "      <td>153715.643971</td>\n",
              "      <td>136478.643244</td>\n",
              "    </tr>\n",
              "    <tr>\n",
              "      <td>ученая степень</td>\n",
              "      <td>174750.155792</td>\n",
              "      <td>157259.898555</td>\n",
              "    </tr>\n",
              "  </tbody>\n",
              "</table>\n",
              "</div>"
            ],
            "text/plain": [
              "                              mean         median\n",
              "education                                        \n",
              "высшее               207142.515219  175340.818855\n",
              "начальное            132155.513626  117137.352825\n",
              "неоконченное высшее  181534.022774  160115.398644\n",
              "среднее              153715.643971  136478.643244\n",
              "ученая степень       174750.155792  157259.898555"
            ]
          },
          "metadata": {
            "tags": []
          },
          "execution_count": 10
        }
      ]
    },
    {
      "cell_type": "code",
      "metadata": {
        "id": "c8_0wu9HybFS",
        "outputId": "f80bba28-d5ea-4acb-c1b8-9ba6cbde45e5"
      },
      "source": [
        "df.groupby('income_type')['total_income'].agg(['mean','median'])"
      ],
      "execution_count": null,
      "outputs": [
        {
          "output_type": "execute_result",
          "data": {
            "text/html": [
              "<div>\n",
              "<style scoped>\n",
              "    .dataframe tbody tr th:only-of-type {\n",
              "        vertical-align: middle;\n",
              "    }\n",
              "\n",
              "    .dataframe tbody tr th {\n",
              "        vertical-align: top;\n",
              "    }\n",
              "\n",
              "    .dataframe thead th {\n",
              "        text-align: right;\n",
              "    }\n",
              "</style>\n",
              "<table border=\"1\" class=\"dataframe\">\n",
              "  <thead>\n",
              "    <tr style=\"text-align: right;\">\n",
              "      <th></th>\n",
              "      <th>mean</th>\n",
              "      <th>median</th>\n",
              "    </tr>\n",
              "    <tr>\n",
              "      <th>income_type</th>\n",
              "      <th></th>\n",
              "      <th></th>\n",
              "    </tr>\n",
              "  </thead>\n",
              "  <tbody>\n",
              "    <tr>\n",
              "      <td>безработный</td>\n",
              "      <td>131339.751676</td>\n",
              "      <td>131339.751676</td>\n",
              "    </tr>\n",
              "    <tr>\n",
              "      <td>в декрете</td>\n",
              "      <td>53829.130729</td>\n",
              "      <td>53829.130729</td>\n",
              "    </tr>\n",
              "    <tr>\n",
              "      <td>госслужащий</td>\n",
              "      <td>170898.309923</td>\n",
              "      <td>150447.935283</td>\n",
              "    </tr>\n",
              "    <tr>\n",
              "      <td>компаньон</td>\n",
              "      <td>202417.461462</td>\n",
              "      <td>172357.950966</td>\n",
              "    </tr>\n",
              "    <tr>\n",
              "      <td>пенсионер</td>\n",
              "      <td>137127.465690</td>\n",
              "      <td>118514.486412</td>\n",
              "    </tr>\n",
              "    <tr>\n",
              "      <td>предприниматель</td>\n",
              "      <td>499163.144947</td>\n",
              "      <td>499163.144947</td>\n",
              "    </tr>\n",
              "    <tr>\n",
              "      <td>сотрудник</td>\n",
              "      <td>161380.260488</td>\n",
              "      <td>142594.396847</td>\n",
              "    </tr>\n",
              "    <tr>\n",
              "      <td>студент</td>\n",
              "      <td>98201.625314</td>\n",
              "      <td>98201.625314</td>\n",
              "    </tr>\n",
              "  </tbody>\n",
              "</table>\n",
              "</div>"
            ],
            "text/plain": [
              "                          mean         median\n",
              "income_type                                  \n",
              "безработный      131339.751676  131339.751676\n",
              "в декрете         53829.130729   53829.130729\n",
              "госслужащий      170898.309923  150447.935283\n",
              "компаньон        202417.461462  172357.950966\n",
              "пенсионер        137127.465690  118514.486412\n",
              "предприниматель  499163.144947  499163.144947\n",
              "сотрудник        161380.260488  142594.396847\n",
              "студент           98201.625314   98201.625314"
            ]
          },
          "metadata": {
            "tags": []
          },
          "execution_count": 11
        }
      ]
    },
    {
      "cell_type": "code",
      "metadata": {
        "id": "R771QwKSybFT"
      },
      "source": [
        "df['total_income'] = df['total_income'].fillna(df.groupby('income_type')['total_income'].transform('mean'))"
      ],
      "execution_count": null,
      "outputs": []
    },
    {
      "cell_type": "markdown",
      "metadata": {
        "id": "31ENFuHuybFT"
      },
      "source": [
        "### Вывод\n"
      ]
    },
    {
      "cell_type": "markdown",
      "metadata": {
        "id": "oxwPN8EpybFT"
      },
      "source": [
        "<font color='green'>На данном этапе заменяем все NaN в столбце Total_Income на среднее значение в рамках категории income_type, так как там прослеживается наибольший разрыв в доходах.</font> Столбец Days_Employed - игнорируем, так как он не понадобится в дальнейшем.\n",
        "\n",
        "Так как все пропуски находятся в двух стобцах Total_Income и Days_Employed, и при этом если есть пропуск в Days_Employed, то он есть и в Total_Income (и наоборот), то можно предположить, что проблема крайне проста: когда клиент оставлял заявку на кредит, у него не было возможности предоставить трудовую книжку + справку о доходах с работы."
      ]
    },
    {
      "cell_type": "markdown",
      "metadata": {
        "id": "BV1mLcO4ybFV"
      },
      "source": [
        "### Замена типа данных"
      ]
    },
    {
      "cell_type": "code",
      "metadata": {
        "id": "IpEkUqeNybFV",
        "outputId": "b1b0b557-2af8-4c10-b758-c636597da620"
      },
      "source": [
        "df['total_income'] = df['total_income'].astype(int)\n",
        "\n",
        "\n",
        "df.info()"
      ],
      "execution_count": null,
      "outputs": [
        {
          "output_type": "stream",
          "text": [
            "<class 'pandas.core.frame.DataFrame'>\n",
            "RangeIndex: 21525 entries, 0 to 21524\n",
            "Data columns (total 12 columns):\n",
            "children            21525 non-null int64\n",
            "days_employed       19351 non-null float64\n",
            "dob_years           21525 non-null int64\n",
            "education           21525 non-null object\n",
            "education_id        21525 non-null int64\n",
            "family_status       21525 non-null object\n",
            "family_status_id    21525 non-null int64\n",
            "gender              21525 non-null object\n",
            "income_type         21525 non-null object\n",
            "debt                21525 non-null int64\n",
            "total_income        21525 non-null int64\n",
            "purpose             21525 non-null object\n",
            "dtypes: float64(1), int64(6), object(5)\n",
            "memory usage: 2.0+ MB\n"
          ],
          "name": "stdout"
        }
      ]
    },
    {
      "cell_type": "markdown",
      "metadata": {
        "id": "bieIXQAvybFW"
      },
      "source": [
        "### Вывод"
      ]
    },
    {
      "cell_type": "markdown",
      "metadata": {
        "id": "_7ihJVniybFW"
      },
      "source": [
        "Заменил float на int значения для более комфортной и корректной обработки значений на следующих этапах. Использовал .astype, так как он отлично подходит для перевода значений столбца в тип данных int."
      ]
    },
    {
      "cell_type": "markdown",
      "metadata": {
        "id": "G2KLmMUpybFW"
      },
      "source": [
        "### Обработка дубликатов"
      ]
    },
    {
      "cell_type": "code",
      "metadata": {
        "id": "89OWMXdcybFX",
        "outputId": "6a1af277-c4af-4423-c24f-d0251bce345d"
      },
      "source": [
        "df.drop_duplicates().reset_index(drop\n",
        "= True)"
      ],
      "execution_count": null,
      "outputs": [
        {
          "output_type": "execute_result",
          "data": {
            "text/html": [
              "<div>\n",
              "<style scoped>\n",
              "    .dataframe tbody tr th:only-of-type {\n",
              "        vertical-align: middle;\n",
              "    }\n",
              "\n",
              "    .dataframe tbody tr th {\n",
              "        vertical-align: top;\n",
              "    }\n",
              "\n",
              "    .dataframe thead th {\n",
              "        text-align: right;\n",
              "    }\n",
              "</style>\n",
              "<table border=\"1\" class=\"dataframe\">\n",
              "  <thead>\n",
              "    <tr style=\"text-align: right;\">\n",
              "      <th></th>\n",
              "      <th>children</th>\n",
              "      <th>days_employed</th>\n",
              "      <th>dob_years</th>\n",
              "      <th>education</th>\n",
              "      <th>education_id</th>\n",
              "      <th>family_status</th>\n",
              "      <th>family_status_id</th>\n",
              "      <th>gender</th>\n",
              "      <th>income_type</th>\n",
              "      <th>debt</th>\n",
              "      <th>total_income</th>\n",
              "      <th>purpose</th>\n",
              "    </tr>\n",
              "  </thead>\n",
              "  <tbody>\n",
              "    <tr>\n",
              "      <td>0</td>\n",
              "      <td>1</td>\n",
              "      <td>-8437.673028</td>\n",
              "      <td>42</td>\n",
              "      <td>высшее</td>\n",
              "      <td>0</td>\n",
              "      <td>женат / замужем</td>\n",
              "      <td>0</td>\n",
              "      <td>F</td>\n",
              "      <td>сотрудник</td>\n",
              "      <td>0</td>\n",
              "      <td>253875</td>\n",
              "      <td>покупка жилья</td>\n",
              "    </tr>\n",
              "    <tr>\n",
              "      <td>1</td>\n",
              "      <td>1</td>\n",
              "      <td>-4024.803754</td>\n",
              "      <td>36</td>\n",
              "      <td>среднее</td>\n",
              "      <td>1</td>\n",
              "      <td>женат / замужем</td>\n",
              "      <td>0</td>\n",
              "      <td>F</td>\n",
              "      <td>сотрудник</td>\n",
              "      <td>0</td>\n",
              "      <td>112080</td>\n",
              "      <td>приобретение автомобиля</td>\n",
              "    </tr>\n",
              "    <tr>\n",
              "      <td>2</td>\n",
              "      <td>0</td>\n",
              "      <td>-5623.422610</td>\n",
              "      <td>33</td>\n",
              "      <td>среднее</td>\n",
              "      <td>1</td>\n",
              "      <td>женат / замужем</td>\n",
              "      <td>0</td>\n",
              "      <td>M</td>\n",
              "      <td>сотрудник</td>\n",
              "      <td>0</td>\n",
              "      <td>145885</td>\n",
              "      <td>покупка жилья</td>\n",
              "    </tr>\n",
              "    <tr>\n",
              "      <td>3</td>\n",
              "      <td>3</td>\n",
              "      <td>-4124.747207</td>\n",
              "      <td>32</td>\n",
              "      <td>среднее</td>\n",
              "      <td>1</td>\n",
              "      <td>женат / замужем</td>\n",
              "      <td>0</td>\n",
              "      <td>M</td>\n",
              "      <td>сотрудник</td>\n",
              "      <td>0</td>\n",
              "      <td>267628</td>\n",
              "      <td>дополнительное образование</td>\n",
              "    </tr>\n",
              "    <tr>\n",
              "      <td>4</td>\n",
              "      <td>0</td>\n",
              "      <td>340266.072047</td>\n",
              "      <td>53</td>\n",
              "      <td>среднее</td>\n",
              "      <td>1</td>\n",
              "      <td>гражданский брак</td>\n",
              "      <td>1</td>\n",
              "      <td>F</td>\n",
              "      <td>пенсионер</td>\n",
              "      <td>0</td>\n",
              "      <td>158616</td>\n",
              "      <td>сыграть свадьбу</td>\n",
              "    </tr>\n",
              "    <tr>\n",
              "      <td>...</td>\n",
              "      <td>...</td>\n",
              "      <td>...</td>\n",
              "      <td>...</td>\n",
              "      <td>...</td>\n",
              "      <td>...</td>\n",
              "      <td>...</td>\n",
              "      <td>...</td>\n",
              "      <td>...</td>\n",
              "      <td>...</td>\n",
              "      <td>...</td>\n",
              "      <td>...</td>\n",
              "      <td>...</td>\n",
              "    </tr>\n",
              "    <tr>\n",
              "      <td>21449</td>\n",
              "      <td>1</td>\n",
              "      <td>-4529.316663</td>\n",
              "      <td>43</td>\n",
              "      <td>среднее</td>\n",
              "      <td>1</td>\n",
              "      <td>гражданский брак</td>\n",
              "      <td>1</td>\n",
              "      <td>F</td>\n",
              "      <td>компаньон</td>\n",
              "      <td>0</td>\n",
              "      <td>224791</td>\n",
              "      <td>операции с жильем</td>\n",
              "    </tr>\n",
              "    <tr>\n",
              "      <td>21450</td>\n",
              "      <td>0</td>\n",
              "      <td>343937.404131</td>\n",
              "      <td>67</td>\n",
              "      <td>среднее</td>\n",
              "      <td>1</td>\n",
              "      <td>женат / замужем</td>\n",
              "      <td>0</td>\n",
              "      <td>F</td>\n",
              "      <td>пенсионер</td>\n",
              "      <td>0</td>\n",
              "      <td>155999</td>\n",
              "      <td>сделка с автомобилем</td>\n",
              "    </tr>\n",
              "    <tr>\n",
              "      <td>21451</td>\n",
              "      <td>1</td>\n",
              "      <td>-2113.346888</td>\n",
              "      <td>38</td>\n",
              "      <td>среднее</td>\n",
              "      <td>1</td>\n",
              "      <td>гражданский брак</td>\n",
              "      <td>1</td>\n",
              "      <td>M</td>\n",
              "      <td>сотрудник</td>\n",
              "      <td>1</td>\n",
              "      <td>89672</td>\n",
              "      <td>недвижимость</td>\n",
              "    </tr>\n",
              "    <tr>\n",
              "      <td>21452</td>\n",
              "      <td>3</td>\n",
              "      <td>-3112.481705</td>\n",
              "      <td>38</td>\n",
              "      <td>среднее</td>\n",
              "      <td>1</td>\n",
              "      <td>женат / замужем</td>\n",
              "      <td>0</td>\n",
              "      <td>M</td>\n",
              "      <td>сотрудник</td>\n",
              "      <td>1</td>\n",
              "      <td>244093</td>\n",
              "      <td>на покупку своего автомобиля</td>\n",
              "    </tr>\n",
              "    <tr>\n",
              "      <td>21453</td>\n",
              "      <td>2</td>\n",
              "      <td>-1984.507589</td>\n",
              "      <td>40</td>\n",
              "      <td>среднее</td>\n",
              "      <td>1</td>\n",
              "      <td>женат / замужем</td>\n",
              "      <td>0</td>\n",
              "      <td>F</td>\n",
              "      <td>сотрудник</td>\n",
              "      <td>0</td>\n",
              "      <td>82047</td>\n",
              "      <td>на покупку автомобиля</td>\n",
              "    </tr>\n",
              "  </tbody>\n",
              "</table>\n",
              "<p>21454 rows × 12 columns</p>\n",
              "</div>"
            ],
            "text/plain": [
              "       children  days_employed  dob_years education  education_id  \\\n",
              "0             1   -8437.673028         42    высшее             0   \n",
              "1             1   -4024.803754         36   среднее             1   \n",
              "2             0   -5623.422610         33   среднее             1   \n",
              "3             3   -4124.747207         32   среднее             1   \n",
              "4             0  340266.072047         53   среднее             1   \n",
              "...         ...            ...        ...       ...           ...   \n",
              "21449         1   -4529.316663         43   среднее             1   \n",
              "21450         0  343937.404131         67   среднее             1   \n",
              "21451         1   -2113.346888         38   среднее             1   \n",
              "21452         3   -3112.481705         38   среднее             1   \n",
              "21453         2   -1984.507589         40   среднее             1   \n",
              "\n",
              "          family_status  family_status_id gender income_type  debt  \\\n",
              "0       женат / замужем                 0      F   сотрудник     0   \n",
              "1       женат / замужем                 0      F   сотрудник     0   \n",
              "2       женат / замужем                 0      M   сотрудник     0   \n",
              "3       женат / замужем                 0      M   сотрудник     0   \n",
              "4      гражданский брак                 1      F   пенсионер     0   \n",
              "...                 ...               ...    ...         ...   ...   \n",
              "21449  гражданский брак                 1      F   компаньон     0   \n",
              "21450   женат / замужем                 0      F   пенсионер     0   \n",
              "21451  гражданский брак                 1      M   сотрудник     1   \n",
              "21452   женат / замужем                 0      M   сотрудник     1   \n",
              "21453   женат / замужем                 0      F   сотрудник     0   \n",
              "\n",
              "       total_income                       purpose  \n",
              "0            253875                 покупка жилья  \n",
              "1            112080       приобретение автомобиля  \n",
              "2            145885                 покупка жилья  \n",
              "3            267628    дополнительное образование  \n",
              "4            158616               сыграть свадьбу  \n",
              "...             ...                           ...  \n",
              "21449        224791             операции с жильем  \n",
              "21450        155999          сделка с автомобилем  \n",
              "21451         89672                  недвижимость  \n",
              "21452        244093  на покупку своего автомобиля  \n",
              "21453         82047         на покупку автомобиля  \n",
              "\n",
              "[21454 rows x 12 columns]"
            ]
          },
          "metadata": {
            "tags": []
          },
          "execution_count": 14
        }
      ]
    },
    {
      "cell_type": "markdown",
      "metadata": {
        "id": "JWFPaoJyybFX"
      },
      "source": [
        "### Вывод"
      ]
    },
    {
      "cell_type": "markdown",
      "metadata": {
        "id": "5aBmW56FybFX"
      },
      "source": [
        "Так как дубликатов оказалось менее 1% от общего количества - то можно безболезненно от них избавиться. Обнаружить причину появления дубликатов - не удалось. Столь малый процент дубликатов можно смело списать на техническую ошибку."
      ]
    },
    {
      "cell_type": "markdown",
      "metadata": {
        "id": "2akW1afjybFY"
      },
      "source": [
        "### Лемматизация"
      ]
    },
    {
      "cell_type": "code",
      "metadata": {
        "id": "y6e-ZI_MybFY",
        "outputId": "e37f5f95-c563-4907-c575-a17b8a1344bd"
      },
      "source": [
        "from pymystem3 import Mystem\n",
        "m = Mystem() \n",
        "\n",
        "df['lemmas'] = df.purpose.apply(m.lemmatize)\n",
        "\n",
        "from collections import Counter\n",
        "Counter(m.lemmatize(' '.join(df['purpose'])))"
      ],
      "execution_count": null,
      "outputs": [
        {
          "output_type": "execute_result",
          "data": {
            "text/plain": [
              "Counter({'покупка': 5912,\n",
              "         ' ': 55201,\n",
              "         'жилье': 4473,\n",
              "         'приобретение': 462,\n",
              "         'автомобиль': 4315,\n",
              "         'дополнительный': 909,\n",
              "         'образование': 4022,\n",
              "         'сыграть': 774,\n",
              "         'свадьба': 2348,\n",
              "         'операция': 2610,\n",
              "         'с': 2924,\n",
              "         'на': 2233,\n",
              "         'проведение': 777,\n",
              "         'для': 1294,\n",
              "         'семья': 641,\n",
              "         'недвижимость': 6367,\n",
              "         'коммерческий': 1315,\n",
              "         'жилой': 1233,\n",
              "         'строительство': 1881,\n",
              "         'собственный': 635,\n",
              "         'подержать': 858,\n",
              "         'свой': 2235,\n",
              "         'со': 630,\n",
              "         'заниматься': 908,\n",
              "         'сделка': 944,\n",
              "         'получение': 1316,\n",
              "         'высокий': 1375,\n",
              "         'подержанный': 110,\n",
              "         'профильный': 436,\n",
              "         'сдача': 653,\n",
              "         'ремонт': 612,\n",
              "         '\\n': 1})"
            ]
          },
          "metadata": {
            "tags": []
          },
          "execution_count": 15
        }
      ]
    },
    {
      "cell_type": "code",
      "metadata": {
        "id": "6z3Yy76bybFY"
      },
      "source": [
        "def purpose_simplification(text):\n",
        "    if 'автомобиль' in text:\n",
        "        return 'авто'\n",
        "    if 'свадьба' in text:\n",
        "        return 'свадьба'\n",
        "    if 'образование' in text:\n",
        "        return 'образование'\n",
        "    if 'жилье' or 'недвижимость' in text:\n",
        "        return 'жилье и недвижимость'\n",
        "\n",
        "df['lemmas'] = df['lemmas'].apply(purpose_simplification)"
      ],
      "execution_count": null,
      "outputs": []
    },
    {
      "cell_type": "code",
      "metadata": {
        "id": "0nrv3QuVybFZ",
        "outputId": "95bb0c08-ec1a-4dd4-eca7-4c2182e46410"
      },
      "source": [
        "df['lemmas'].head(10)"
      ],
      "execution_count": null,
      "outputs": [
        {
          "output_type": "execute_result",
          "data": {
            "text/plain": [
              "0    жилье и недвижимость\n",
              "1                    авто\n",
              "2    жилье и недвижимость\n",
              "3             образование\n",
              "4                 свадьба\n",
              "5    жилье и недвижимость\n",
              "6    жилье и недвижимость\n",
              "7             образование\n",
              "8                 свадьба\n",
              "9    жилье и недвижимость\n",
              "Name: lemmas, dtype: object"
            ]
          },
          "metadata": {
            "tags": []
          },
          "execution_count": 17
        }
      ]
    },
    {
      "cell_type": "markdown",
      "metadata": {
        "id": "VA3L9tUuybFZ"
      },
      "source": [
        "### Вывод"
      ]
    },
    {
      "cell_type": "markdown",
      "metadata": {
        "id": "3PKf15f0ybFZ"
      },
      "source": [
        "После проведения лемматизации и анализа полученных ключевых слов - решил, что логично разбить все цели кредитов на 4 сегмента: Авто, Свадьба, Образование, Жилье и Недвижимость. Других категорий выделить не удалось, а дробить текущие - не шибко логично, ибо в Purpose содержится слишком мало дополнительной информации о целях."
      ]
    },
    {
      "cell_type": "markdown",
      "metadata": {
        "id": "OUKWgpecybFa"
      },
      "source": [
        "### Категоризация данных"
      ]
    },
    {
      "cell_type": "code",
      "metadata": {
        "id": "q6s4uvnkybFa"
      },
      "source": [
        "dd = df.groupby('children')['debt'].agg(['count','sum'])\n",
        "\n",
        "dd1 = df.groupby('family_status')['debt'].agg(['count','sum'])\n",
        "\n",
        "df['amount_group3'] = pd.cut(df['total_income'],\n",
        "                             [-1,50000,100000,150000,200000,df['total_income'].max()])\n",
        "\n",
        "dd2 = df.groupby('amount_group3')['debt'].agg(['count','sum'])\n",
        "\n",
        "dd3 = df.groupby(df['lemmas'])['debt'].agg(['count','sum'])\n",
        "\n"
      ],
      "execution_count": null,
      "outputs": []
    },
    {
      "cell_type": "code",
      "metadata": {
        "id": "wboNN_9qybFb",
        "outputId": "9d727f51-601c-44b9-adf0-c2142c0dfb7c"
      },
      "source": [
        "dd #влияет ли наличие детей на возврат кредита в срок\n"
      ],
      "execution_count": null,
      "outputs": [
        {
          "output_type": "execute_result",
          "data": {
            "text/html": [
              "<div>\n",
              "<style scoped>\n",
              "    .dataframe tbody tr th:only-of-type {\n",
              "        vertical-align: middle;\n",
              "    }\n",
              "\n",
              "    .dataframe tbody tr th {\n",
              "        vertical-align: top;\n",
              "    }\n",
              "\n",
              "    .dataframe thead th {\n",
              "        text-align: right;\n",
              "    }\n",
              "</style>\n",
              "<table border=\"1\" class=\"dataframe\">\n",
              "  <thead>\n",
              "    <tr style=\"text-align: right;\">\n",
              "      <th></th>\n",
              "      <th>count</th>\n",
              "      <th>sum</th>\n",
              "    </tr>\n",
              "    <tr>\n",
              "      <th>children</th>\n",
              "      <th></th>\n",
              "      <th></th>\n",
              "    </tr>\n",
              "  </thead>\n",
              "  <tbody>\n",
              "    <tr>\n",
              "      <td>0</td>\n",
              "      <td>14149</td>\n",
              "      <td>1063</td>\n",
              "    </tr>\n",
              "    <tr>\n",
              "      <td>1</td>\n",
              "      <td>4865</td>\n",
              "      <td>445</td>\n",
              "    </tr>\n",
              "    <tr>\n",
              "      <td>2</td>\n",
              "      <td>2131</td>\n",
              "      <td>202</td>\n",
              "    </tr>\n",
              "    <tr>\n",
              "      <td>3</td>\n",
              "      <td>330</td>\n",
              "      <td>27</td>\n",
              "    </tr>\n",
              "    <tr>\n",
              "      <td>4</td>\n",
              "      <td>41</td>\n",
              "      <td>4</td>\n",
              "    </tr>\n",
              "    <tr>\n",
              "      <td>5</td>\n",
              "      <td>9</td>\n",
              "      <td>0</td>\n",
              "    </tr>\n",
              "  </tbody>\n",
              "</table>\n",
              "</div>"
            ],
            "text/plain": [
              "          count   sum\n",
              "children             \n",
              "0         14149  1063\n",
              "1          4865   445\n",
              "2          2131   202\n",
              "3           330    27\n",
              "4            41     4\n",
              "5             9     0"
            ]
          },
          "metadata": {
            "tags": []
          },
          "execution_count": 19
        }
      ]
    },
    {
      "cell_type": "code",
      "metadata": {
        "id": "OQhOQ2YmybFb",
        "outputId": "a45955b5-4c14-4bad-9e21-c6729cdba279"
      },
      "source": [
        "dd1 #влияет ли семейное положение на возврат кредита в срок\n"
      ],
      "execution_count": null,
      "outputs": [
        {
          "output_type": "execute_result",
          "data": {
            "text/html": [
              "<div>\n",
              "<style scoped>\n",
              "    .dataframe tbody tr th:only-of-type {\n",
              "        vertical-align: middle;\n",
              "    }\n",
              "\n",
              "    .dataframe tbody tr th {\n",
              "        vertical-align: top;\n",
              "    }\n",
              "\n",
              "    .dataframe thead th {\n",
              "        text-align: right;\n",
              "    }\n",
              "</style>\n",
              "<table border=\"1\" class=\"dataframe\">\n",
              "  <thead>\n",
              "    <tr style=\"text-align: right;\">\n",
              "      <th></th>\n",
              "      <th>count</th>\n",
              "      <th>sum</th>\n",
              "    </tr>\n",
              "    <tr>\n",
              "      <th>family_status</th>\n",
              "      <th></th>\n",
              "      <th></th>\n",
              "    </tr>\n",
              "  </thead>\n",
              "  <tbody>\n",
              "    <tr>\n",
              "      <td>Не женат / не замужем</td>\n",
              "      <td>2813</td>\n",
              "      <td>274</td>\n",
              "    </tr>\n",
              "    <tr>\n",
              "      <td>в разводе</td>\n",
              "      <td>1195</td>\n",
              "      <td>85</td>\n",
              "    </tr>\n",
              "    <tr>\n",
              "      <td>вдовец / вдова</td>\n",
              "      <td>960</td>\n",
              "      <td>63</td>\n",
              "    </tr>\n",
              "    <tr>\n",
              "      <td>гражданский брак</td>\n",
              "      <td>4177</td>\n",
              "      <td>388</td>\n",
              "    </tr>\n",
              "    <tr>\n",
              "      <td>женат / замужем</td>\n",
              "      <td>12380</td>\n",
              "      <td>931</td>\n",
              "    </tr>\n",
              "  </tbody>\n",
              "</table>\n",
              "</div>"
            ],
            "text/plain": [
              "                       count  sum\n",
              "family_status                    \n",
              "Не женат / не замужем   2813  274\n",
              "в разводе               1195   85\n",
              "вдовец / вдова           960   63\n",
              "гражданский брак        4177  388\n",
              "женат / замужем        12380  931"
            ]
          },
          "metadata": {
            "tags": []
          },
          "execution_count": 20
        }
      ]
    },
    {
      "cell_type": "code",
      "metadata": {
        "scrolled": true,
        "id": "Par5ifD4ybFb",
        "outputId": "a739864f-2467-464f-c721-3a2a24c45180"
      },
      "source": [
        "dd2 #влияет ли доход на возврат кредита в срок\n"
      ],
      "execution_count": null,
      "outputs": [
        {
          "output_type": "execute_result",
          "data": {
            "text/html": [
              "<div>\n",
              "<style scoped>\n",
              "    .dataframe tbody tr th:only-of-type {\n",
              "        vertical-align: middle;\n",
              "    }\n",
              "\n",
              "    .dataframe tbody tr th {\n",
              "        vertical-align: top;\n",
              "    }\n",
              "\n",
              "    .dataframe thead th {\n",
              "        text-align: right;\n",
              "    }\n",
              "</style>\n",
              "<table border=\"1\" class=\"dataframe\">\n",
              "  <thead>\n",
              "    <tr style=\"text-align: right;\">\n",
              "      <th></th>\n",
              "      <th>count</th>\n",
              "      <th>sum</th>\n",
              "    </tr>\n",
              "    <tr>\n",
              "      <th>amount_group3</th>\n",
              "      <th></th>\n",
              "      <th></th>\n",
              "    </tr>\n",
              "  </thead>\n",
              "  <tbody>\n",
              "    <tr>\n",
              "      <td>(-1, 50000]</td>\n",
              "      <td>372</td>\n",
              "      <td>23</td>\n",
              "    </tr>\n",
              "    <tr>\n",
              "      <td>(50000, 100000]</td>\n",
              "      <td>4091</td>\n",
              "      <td>331</td>\n",
              "    </tr>\n",
              "    <tr>\n",
              "      <td>(100000, 150000]</td>\n",
              "      <td>6117</td>\n",
              "      <td>526</td>\n",
              "    </tr>\n",
              "    <tr>\n",
              "      <td>(150000, 200000]</td>\n",
              "      <td>5370</td>\n",
              "      <td>473</td>\n",
              "    </tr>\n",
              "    <tr>\n",
              "      <td>(200000, 2265604]</td>\n",
              "      <td>5575</td>\n",
              "      <td>388</td>\n",
              "    </tr>\n",
              "  </tbody>\n",
              "</table>\n",
              "</div>"
            ],
            "text/plain": [
              "                   count  sum\n",
              "amount_group3                \n",
              "(-1, 50000]          372   23\n",
              "(50000, 100000]     4091  331\n",
              "(100000, 150000]    6117  526\n",
              "(150000, 200000]    5370  473\n",
              "(200000, 2265604]   5575  388"
            ]
          },
          "metadata": {
            "tags": []
          },
          "execution_count": 21
        }
      ]
    },
    {
      "cell_type": "code",
      "metadata": {
        "id": "395IJP60ybFc",
        "outputId": "46457f0e-f21d-4fb3-cc4c-8c56d8fab16f"
      },
      "source": [
        "dd3 #влияет ли цель займа на возврат кредита в срок"
      ],
      "execution_count": null,
      "outputs": [
        {
          "output_type": "execute_result",
          "data": {
            "text/html": [
              "<div>\n",
              "<style scoped>\n",
              "    .dataframe tbody tr th:only-of-type {\n",
              "        vertical-align: middle;\n",
              "    }\n",
              "\n",
              "    .dataframe tbody tr th {\n",
              "        vertical-align: top;\n",
              "    }\n",
              "\n",
              "    .dataframe thead th {\n",
              "        text-align: right;\n",
              "    }\n",
              "</style>\n",
              "<table border=\"1\" class=\"dataframe\">\n",
              "  <thead>\n",
              "    <tr style=\"text-align: right;\">\n",
              "      <th></th>\n",
              "      <th>count</th>\n",
              "      <th>sum</th>\n",
              "    </tr>\n",
              "    <tr>\n",
              "      <th>lemmas</th>\n",
              "      <th></th>\n",
              "      <th></th>\n",
              "    </tr>\n",
              "  </thead>\n",
              "  <tbody>\n",
              "    <tr>\n",
              "      <td>авто</td>\n",
              "      <td>4315</td>\n",
              "      <td>403</td>\n",
              "    </tr>\n",
              "    <tr>\n",
              "      <td>жилье и недвижимость</td>\n",
              "      <td>10840</td>\n",
              "      <td>782</td>\n",
              "    </tr>\n",
              "    <tr>\n",
              "      <td>образование</td>\n",
              "      <td>4022</td>\n",
              "      <td>370</td>\n",
              "    </tr>\n",
              "    <tr>\n",
              "      <td>свадьба</td>\n",
              "      <td>2348</td>\n",
              "      <td>186</td>\n",
              "    </tr>\n",
              "  </tbody>\n",
              "</table>\n",
              "</div>"
            ],
            "text/plain": [
              "                      count  sum\n",
              "lemmas                          \n",
              "авто                   4315  403\n",
              "жилье и недвижимость  10840  782\n",
              "образование            4022  370\n",
              "свадьба                2348  186"
            ]
          },
          "metadata": {
            "tags": []
          },
          "execution_count": 22
        }
      ]
    },
    {
      "cell_type": "markdown",
      "metadata": {
        "id": "n65xeM0RybFc"
      },
      "source": [
        "### Вывод"
      ]
    },
    {
      "cell_type": "markdown",
      "metadata": {
        "id": "oHDebI5UybFd"
      },
      "source": [
        "Создал четыре новых датафрейма с необходимыми категориями под каждый вопрос. Для третьего датафрейма дополнительно создал новый столбик для пущей наглядности и удобства анализа."
      ]
    },
    {
      "cell_type": "markdown",
      "metadata": {
        "id": "hdPNGe28ybFd"
      },
      "source": [
        "### Шаг 3. Ответьте на вопросы"
      ]
    },
    {
      "cell_type": "markdown",
      "metadata": {
        "id": "e8bie5MuybFd"
      },
      "source": [
        "- Есть ли зависимость между наличием детей и возвратом кредита в срок?"
      ]
    },
    {
      "cell_type": "code",
      "metadata": {
        "scrolled": true,
        "id": "OIqMNNkLybFe",
        "outputId": "d2819814-3f6e-42a3-d943-74e19e2a73af"
      },
      "source": [
        "dd['процент невозвратов'] = ((dd['sum']/dd['count'])*100).round(1)\n",
        "\n",
        "dd"
      ],
      "execution_count": null,
      "outputs": [
        {
          "output_type": "execute_result",
          "data": {
            "text/html": [
              "<div>\n",
              "<style scoped>\n",
              "    .dataframe tbody tr th:only-of-type {\n",
              "        vertical-align: middle;\n",
              "    }\n",
              "\n",
              "    .dataframe tbody tr th {\n",
              "        vertical-align: top;\n",
              "    }\n",
              "\n",
              "    .dataframe thead th {\n",
              "        text-align: right;\n",
              "    }\n",
              "</style>\n",
              "<table border=\"1\" class=\"dataframe\">\n",
              "  <thead>\n",
              "    <tr style=\"text-align: right;\">\n",
              "      <th></th>\n",
              "      <th>count</th>\n",
              "      <th>sum</th>\n",
              "      <th>процент невозвратов</th>\n",
              "    </tr>\n",
              "    <tr>\n",
              "      <th>children</th>\n",
              "      <th></th>\n",
              "      <th></th>\n",
              "      <th></th>\n",
              "    </tr>\n",
              "  </thead>\n",
              "  <tbody>\n",
              "    <tr>\n",
              "      <td>0</td>\n",
              "      <td>14149</td>\n",
              "      <td>1063</td>\n",
              "      <td>7.5</td>\n",
              "    </tr>\n",
              "    <tr>\n",
              "      <td>1</td>\n",
              "      <td>4865</td>\n",
              "      <td>445</td>\n",
              "      <td>9.1</td>\n",
              "    </tr>\n",
              "    <tr>\n",
              "      <td>2</td>\n",
              "      <td>2131</td>\n",
              "      <td>202</td>\n",
              "      <td>9.5</td>\n",
              "    </tr>\n",
              "    <tr>\n",
              "      <td>3</td>\n",
              "      <td>330</td>\n",
              "      <td>27</td>\n",
              "      <td>8.2</td>\n",
              "    </tr>\n",
              "    <tr>\n",
              "      <td>4</td>\n",
              "      <td>41</td>\n",
              "      <td>4</td>\n",
              "      <td>9.8</td>\n",
              "    </tr>\n",
              "    <tr>\n",
              "      <td>5</td>\n",
              "      <td>9</td>\n",
              "      <td>0</td>\n",
              "      <td>0.0</td>\n",
              "    </tr>\n",
              "  </tbody>\n",
              "</table>\n",
              "</div>"
            ],
            "text/plain": [
              "          count   sum  процент невозвратов\n",
              "children                                  \n",
              "0         14149  1063                  7.5\n",
              "1          4865   445                  9.1\n",
              "2          2131   202                  9.5\n",
              "3           330    27                  8.2\n",
              "4            41     4                  9.8\n",
              "5             9     0                  0.0"
            ]
          },
          "metadata": {
            "tags": []
          },
          "execution_count": 23
        }
      ]
    },
    {
      "cell_type": "code",
      "metadata": {
        "id": "yNkaTdtpybFf",
        "outputId": "5e7b1fb7-64be-4dc0-d035-93982de211bc"
      },
      "source": [
        "dd['процент невозвратов'].plot(kind='bar')"
      ],
      "execution_count": null,
      "outputs": [
        {
          "output_type": "execute_result",
          "data": {
            "text/plain": [
              "<matplotlib.axes._subplots.AxesSubplot at 0x7f38e9dfd810>"
            ]
          },
          "metadata": {
            "tags": []
          },
          "execution_count": 24
        },
        {
          "output_type": "display_data",
          "data": {
            "image/png": "[encoded data removed]",
            "text/plain": [
              "<Figure size 432x288 with 1 Axes>"
            ]
          },
          "metadata": {
            "tags": [],
            "needs_background": "light"
          }
        }
      ]
    },
    {
      "cell_type": "markdown",
      "metadata": {
        "id": "JBjtmmL6ybFg"
      },
      "source": [
        "### Вывод"
      ]
    },
    {
      "cell_type": "markdown",
      "metadata": {
        "id": "wi99MQWVybFg"
      },
      "source": [
        "Явной зависимости не наблюдается. Видим, что лучший показатель у тех, кто не имеет детей, однако перевес не велик. Поэтому можно сделать вывод, что наличие детей незначительно увеличивает риск не возврата кредита в срок."
      ]
    },
    {
      "cell_type": "markdown",
      "metadata": {
        "id": "lbANOubQybFh"
      },
      "source": [
        "- Есть ли зависимость между семейным положением и возвратом кредита в срок?"
      ]
    },
    {
      "cell_type": "code",
      "metadata": {
        "id": "I0S6AK9BybFi",
        "outputId": "b8b8ea99-78af-4c25-fcd8-7919ca40652c"
      },
      "source": [
        "dd1['процент невозвратов'] = ((dd1['sum']/dd1['count'])*100).round(1)\n",
        "\n",
        "dd1"
      ],
      "execution_count": null,
      "outputs": [
        {
          "output_type": "execute_result",
          "data": {
            "text/html": [
              "<div>\n",
              "<style scoped>\n",
              "    .dataframe tbody tr th:only-of-type {\n",
              "        vertical-align: middle;\n",
              "    }\n",
              "\n",
              "    .dataframe tbody tr th {\n",
              "        vertical-align: top;\n",
              "    }\n",
              "\n",
              "    .dataframe thead th {\n",
              "        text-align: right;\n",
              "    }\n",
              "</style>\n",
              "<table border=\"1\" class=\"dataframe\">\n",
              "  <thead>\n",
              "    <tr style=\"text-align: right;\">\n",
              "      <th></th>\n",
              "      <th>count</th>\n",
              "      <th>sum</th>\n",
              "      <th>процент невозвратов</th>\n",
              "    </tr>\n",
              "    <tr>\n",
              "      <th>family_status</th>\n",
              "      <th></th>\n",
              "      <th></th>\n",
              "      <th></th>\n",
              "    </tr>\n",
              "  </thead>\n",
              "  <tbody>\n",
              "    <tr>\n",
              "      <td>Не женат / не замужем</td>\n",
              "      <td>2813</td>\n",
              "      <td>274</td>\n",
              "      <td>9.7</td>\n",
              "    </tr>\n",
              "    <tr>\n",
              "      <td>в разводе</td>\n",
              "      <td>1195</td>\n",
              "      <td>85</td>\n",
              "      <td>7.1</td>\n",
              "    </tr>\n",
              "    <tr>\n",
              "      <td>вдовец / вдова</td>\n",
              "      <td>960</td>\n",
              "      <td>63</td>\n",
              "      <td>6.6</td>\n",
              "    </tr>\n",
              "    <tr>\n",
              "      <td>гражданский брак</td>\n",
              "      <td>4177</td>\n",
              "      <td>388</td>\n",
              "      <td>9.3</td>\n",
              "    </tr>\n",
              "    <tr>\n",
              "      <td>женат / замужем</td>\n",
              "      <td>12380</td>\n",
              "      <td>931</td>\n",
              "      <td>7.5</td>\n",
              "    </tr>\n",
              "  </tbody>\n",
              "</table>\n",
              "</div>"
            ],
            "text/plain": [
              "                       count  sum  процент невозвратов\n",
              "family_status                                         \n",
              "Не женат / не замужем   2813  274                  9.7\n",
              "в разводе               1195   85                  7.1\n",
              "вдовец / вдова           960   63                  6.6\n",
              "гражданский брак        4177  388                  9.3\n",
              "женат / замужем        12380  931                  7.5"
            ]
          },
          "metadata": {
            "tags": []
          },
          "execution_count": 25
        }
      ]
    },
    {
      "cell_type": "code",
      "metadata": {
        "id": "Xtvdy1IMybFi",
        "outputId": "5c9cb140-96bb-43b6-8125-40daa8da68e1"
      },
      "source": [
        "dd1['процент невозвратов'].plot(kind='bar')"
      ],
      "execution_count": null,
      "outputs": [
        {
          "output_type": "execute_result",
          "data": {
            "text/plain": [
              "<matplotlib.axes._subplots.AxesSubplot at 0x7f38e9e39510>"
            ]
          },
          "metadata": {
            "tags": []
          },
          "execution_count": 26
        },
        {
          "output_type": "display_data",
          "data": {
            "image/png": "[encoded data removed]",
            "text/plain": [
              "<Figure size 432x288 with 1 Axes>"
            ]
          },
          "metadata": {
            "tags": [],
            "needs_background": "light"
          }
        }
      ]
    },
    {
      "cell_type": "code",
      "metadata": {
        "id": "WLVDJ9TUybFj",
        "outputId": "5c1003ee-8974-4b26-f08c-cd503f073dfe"
      },
      "source": [
        "ddwhat = df.groupby('family_status')['dob_years'].agg(['mean'])\n",
        "ddwhat.round(1)"
      ],
      "execution_count": null,
      "outputs": [
        {
          "output_type": "execute_result",
          "data": {
            "text/html": [
              "<div>\n",
              "<style scoped>\n",
              "    .dataframe tbody tr th:only-of-type {\n",
              "        vertical-align: middle;\n",
              "    }\n",
              "\n",
              "    .dataframe tbody tr th {\n",
              "        vertical-align: top;\n",
              "    }\n",
              "\n",
              "    .dataframe thead th {\n",
              "        text-align: right;\n",
              "    }\n",
              "</style>\n",
              "<table border=\"1\" class=\"dataframe\">\n",
              "  <thead>\n",
              "    <tr style=\"text-align: right;\">\n",
              "      <th></th>\n",
              "      <th>mean</th>\n",
              "    </tr>\n",
              "    <tr>\n",
              "      <th>family_status</th>\n",
              "      <th></th>\n",
              "    </tr>\n",
              "  </thead>\n",
              "  <tbody>\n",
              "    <tr>\n",
              "      <td>Не женат / не замужем</td>\n",
              "      <td>38.4</td>\n",
              "    </tr>\n",
              "    <tr>\n",
              "      <td>в разводе</td>\n",
              "      <td>45.5</td>\n",
              "    </tr>\n",
              "    <tr>\n",
              "      <td>вдовец / вдова</td>\n",
              "      <td>56.5</td>\n",
              "    </tr>\n",
              "    <tr>\n",
              "      <td>гражданский брак</td>\n",
              "      <td>42.1</td>\n",
              "    </tr>\n",
              "    <tr>\n",
              "      <td>женат / замужем</td>\n",
              "      <td>43.6</td>\n",
              "    </tr>\n",
              "  </tbody>\n",
              "</table>\n",
              "</div>"
            ],
            "text/plain": [
              "                       mean\n",
              "family_status              \n",
              "Не женат / не замужем  38.4\n",
              "в разводе              45.5\n",
              "вдовец / вдова         56.5\n",
              "гражданский брак       42.1\n",
              "женат / замужем        43.6"
            ]
          },
          "metadata": {
            "tags": []
          },
          "execution_count": 27
        }
      ]
    },
    {
      "cell_type": "markdown",
      "metadata": {
        "id": "F7s35JijybFj"
      },
      "source": [
        "### Вывод"
      ]
    },
    {
      "cell_type": "markdown",
      "metadata": {
        "id": "X7bWMDyhybFk"
      },
      "source": [
        "Зависимость есть. В явных лидерах находятся группы \"Вдовец/Вдова\" и \"В Разводе\". Эти категории реже всего не возвращают кредиты в срок. Худшие же показатели у групп \"Не женат / не замужем\" и \"Гражданский брак\", они почти на 3% устают лидирующим группам. Причиной этому во многом может служить тот факт, что первые две группы более возрастные."
      ]
    },
    {
      "cell_type": "markdown",
      "metadata": {
        "id": "dKzjuN1GybFk"
      },
      "source": [
        "- Есть ли зависимость между уровнем дохода и возвратом кредита в срок?"
      ]
    },
    {
      "cell_type": "code",
      "metadata": {
        "id": "4yCvu1q1ybFk",
        "outputId": "5b439d88-cc2a-43be-a0ed-a3113b1719d0"
      },
      "source": [
        "dd2.index=['до 50к', '50-100к', '100-150к', '150-200к', '200к+']\n",
        "\n",
        "dd2['процент невозвратов'] = ((dd2['sum']/dd2['count'])*100).round(1)\n",
        "\n",
        "dd2\n"
      ],
      "execution_count": null,
      "outputs": [
        {
          "output_type": "execute_result",
          "data": {
            "text/html": [
              "<div>\n",
              "<style scoped>\n",
              "    .dataframe tbody tr th:only-of-type {\n",
              "        vertical-align: middle;\n",
              "    }\n",
              "\n",
              "    .dataframe tbody tr th {\n",
              "        vertical-align: top;\n",
              "    }\n",
              "\n",
              "    .dataframe thead th {\n",
              "        text-align: right;\n",
              "    }\n",
              "</style>\n",
              "<table border=\"1\" class=\"dataframe\">\n",
              "  <thead>\n",
              "    <tr style=\"text-align: right;\">\n",
              "      <th></th>\n",
              "      <th>count</th>\n",
              "      <th>sum</th>\n",
              "      <th>процент невозвратов</th>\n",
              "    </tr>\n",
              "  </thead>\n",
              "  <tbody>\n",
              "    <tr>\n",
              "      <td>до 50к</td>\n",
              "      <td>372</td>\n",
              "      <td>23</td>\n",
              "      <td>6.2</td>\n",
              "    </tr>\n",
              "    <tr>\n",
              "      <td>50-100к</td>\n",
              "      <td>4091</td>\n",
              "      <td>331</td>\n",
              "      <td>8.1</td>\n",
              "    </tr>\n",
              "    <tr>\n",
              "      <td>100-150к</td>\n",
              "      <td>6117</td>\n",
              "      <td>526</td>\n",
              "      <td>8.6</td>\n",
              "    </tr>\n",
              "    <tr>\n",
              "      <td>150-200к</td>\n",
              "      <td>5370</td>\n",
              "      <td>473</td>\n",
              "      <td>8.8</td>\n",
              "    </tr>\n",
              "    <tr>\n",
              "      <td>200к+</td>\n",
              "      <td>5575</td>\n",
              "      <td>388</td>\n",
              "      <td>7.0</td>\n",
              "    </tr>\n",
              "  </tbody>\n",
              "</table>\n",
              "</div>"
            ],
            "text/plain": [
              "          count  sum  процент невозвратов\n",
              "до 50к      372   23                  6.2\n",
              "50-100к    4091  331                  8.1\n",
              "100-150к   6117  526                  8.6\n",
              "150-200к   5370  473                  8.8\n",
              "200к+      5575  388                  7.0"
            ]
          },
          "metadata": {
            "tags": []
          },
          "execution_count": 28
        }
      ]
    },
    {
      "cell_type": "code",
      "metadata": {
        "id": "ozb04zzXybFk",
        "outputId": "a32b75f3-d1fa-4abb-c075-0ae4870117a6"
      },
      "source": [
        "dd2['процент невозвратов'].plot(kind='bar')"
      ],
      "execution_count": null,
      "outputs": [
        {
          "output_type": "execute_result",
          "data": {
            "text/plain": [
              "<matplotlib.axes._subplots.AxesSubplot at 0x7f3909ccb090>"
            ]
          },
          "metadata": {
            "tags": []
          },
          "execution_count": 29
        },
        {
          "output_type": "display_data",
          "data": {
            "image/png": "[encoded data removed]",
            "text/plain": [
              "<Figure size 432x288 with 1 Axes>"
            ]
          },
          "metadata": {
            "tags": [],
            "needs_background": "light"
          }
        }
      ]
    },
    {
      "cell_type": "markdown",
      "metadata": {
        "id": "E3ZsUWpOybFl"
      },
      "source": [
        "### Вывод"
      ]
    },
    {
      "cell_type": "markdown",
      "metadata": {
        "id": "sRtaknxbybFl"
      },
      "source": [
        "Да, прослеживается зависимость. И, как ни странно, но самые надежные, в плане своевременных возвратов - это клиенты с заработком сверх 200к в месяц и с заработком до 50к в месяц. "
      ]
    },
    {
      "cell_type": "markdown",
      "metadata": {
        "id": "lI3_v6HxybFm"
      },
      "source": [
        "- Как разные цели кредита влияют на его возврат в срок?"
      ]
    },
    {
      "cell_type": "code",
      "metadata": {
        "id": "dt8n-gRQybFm",
        "outputId": "cc2cfa9a-9deb-4d4b-bc64-cb5c21eaa0c3"
      },
      "source": [
        "dd3['процент невозвратов'] = ((dd3['sum']/dd3['count'])*100).round(1)\n",
        "\n",
        "dd3\n"
      ],
      "execution_count": null,
      "outputs": [
        {
          "output_type": "execute_result",
          "data": {
            "text/html": [
              "<div>\n",
              "<style scoped>\n",
              "    .dataframe tbody tr th:only-of-type {\n",
              "        vertical-align: middle;\n",
              "    }\n",
              "\n",
              "    .dataframe tbody tr th {\n",
              "        vertical-align: top;\n",
              "    }\n",
              "\n",
              "    .dataframe thead th {\n",
              "        text-align: right;\n",
              "    }\n",
              "</style>\n",
              "<table border=\"1\" class=\"dataframe\">\n",
              "  <thead>\n",
              "    <tr style=\"text-align: right;\">\n",
              "      <th></th>\n",
              "      <th>count</th>\n",
              "      <th>sum</th>\n",
              "      <th>процент невозвратов</th>\n",
              "    </tr>\n",
              "    <tr>\n",
              "      <th>lemmas</th>\n",
              "      <th></th>\n",
              "      <th></th>\n",
              "      <th></th>\n",
              "    </tr>\n",
              "  </thead>\n",
              "  <tbody>\n",
              "    <tr>\n",
              "      <td>авто</td>\n",
              "      <td>4315</td>\n",
              "      <td>403</td>\n",
              "      <td>9.3</td>\n",
              "    </tr>\n",
              "    <tr>\n",
              "      <td>жилье и недвижимость</td>\n",
              "      <td>10840</td>\n",
              "      <td>782</td>\n",
              "      <td>7.2</td>\n",
              "    </tr>\n",
              "    <tr>\n",
              "      <td>образование</td>\n",
              "      <td>4022</td>\n",
              "      <td>370</td>\n",
              "      <td>9.2</td>\n",
              "    </tr>\n",
              "    <tr>\n",
              "      <td>свадьба</td>\n",
              "      <td>2348</td>\n",
              "      <td>186</td>\n",
              "      <td>7.9</td>\n",
              "    </tr>\n",
              "  </tbody>\n",
              "</table>\n",
              "</div>"
            ],
            "text/plain": [
              "                      count  sum  процент невозвратов\n",
              "lemmas                                               \n",
              "авто                   4315  403                  9.3\n",
              "жилье и недвижимость  10840  782                  7.2\n",
              "образование            4022  370                  9.2\n",
              "свадьба                2348  186                  7.9"
            ]
          },
          "metadata": {
            "tags": []
          },
          "execution_count": 30
        }
      ]
    },
    {
      "cell_type": "markdown",
      "metadata": {
        "id": "i3_W4gS-ybFn"
      },
      "source": [
        "### Вывод"
      ]
    },
    {
      "cell_type": "markdown",
      "metadata": {
        "id": "6k4Oz7s5ybFo"
      },
      "source": [
        "Самые надежные заемщики в категории \"Жилье и Недвижимость\". Самые не надежные: \"Авто\" и \"Образование\". Вероятно, это можно объяснить тем, что \"Авто\" и \"Образование\" это более спонтанные траты, нежели \"Жилье и Недвижимость\"."
      ]
    },
    {
      "cell_type": "markdown",
      "metadata": {
        "id": "O-zZo_GpybFp"
      },
      "source": [
        "### PIVOT TABLE для формирования сводных таблиц"
      ]
    },
    {
      "cell_type": "code",
      "metadata": {
        "id": "e0imvsapybFp"
      },
      "source": [
        "pivotwhynot = df.pivot_table(index = [\"lemmas\"], columns = 'family_status', values = 'debt', aggfunc='mean')"
      ],
      "execution_count": null,
      "outputs": []
    },
    {
      "cell_type": "code",
      "metadata": {
        "id": "Vtn0i619ybFp"
      },
      "source": [
        "pivotwhynot[pivotwhynot.select_dtypes(include=['number']).columns] *= 100"
      ],
      "execution_count": null,
      "outputs": []
    },
    {
      "cell_type": "code",
      "metadata": {
        "id": "GyQl1I2CybFp",
        "outputId": "7fd545dc-5f5d-4ad2-b2dc-051bb4e2a8da"
      },
      "source": [
        "pivotwhynot.round(1)"
      ],
      "execution_count": null,
      "outputs": [
        {
          "output_type": "execute_result",
          "data": {
            "text/html": [
              "<div>\n",
              "<style scoped>\n",
              "    .dataframe tbody tr th:only-of-type {\n",
              "        vertical-align: middle;\n",
              "    }\n",
              "\n",
              "    .dataframe tbody tr th {\n",
              "        vertical-align: top;\n",
              "    }\n",
              "\n",
              "    .dataframe thead th {\n",
              "        text-align: right;\n",
              "    }\n",
              "</style>\n",
              "<table border=\"1\" class=\"dataframe\">\n",
              "  <thead>\n",
              "    <tr style=\"text-align: right;\">\n",
              "      <th>family_status</th>\n",
              "      <th>Не женат / не замужем</th>\n",
              "      <th>в разводе</th>\n",
              "      <th>вдовец / вдова</th>\n",
              "      <th>гражданский брак</th>\n",
              "      <th>женат / замужем</th>\n",
              "    </tr>\n",
              "    <tr>\n",
              "      <th>lemmas</th>\n",
              "      <th></th>\n",
              "      <th></th>\n",
              "      <th></th>\n",
              "      <th></th>\n",
              "      <th></th>\n",
              "    </tr>\n",
              "  </thead>\n",
              "  <tbody>\n",
              "    <tr>\n",
              "      <td>авто</td>\n",
              "      <td>12.9</td>\n",
              "      <td>7.5</td>\n",
              "      <td>9.2</td>\n",
              "      <td>11.8</td>\n",
              "      <td>8.3</td>\n",
              "    </tr>\n",
              "    <tr>\n",
              "      <td>жилье и недвижимость</td>\n",
              "      <td>8.1</td>\n",
              "      <td>7.0</td>\n",
              "      <td>5.2</td>\n",
              "      <td>9.2</td>\n",
              "      <td>6.9</td>\n",
              "    </tr>\n",
              "    <tr>\n",
              "      <td>образование</td>\n",
              "      <td>10.7</td>\n",
              "      <td>7.1</td>\n",
              "      <td>7.5</td>\n",
              "      <td>14.9</td>\n",
              "      <td>8.3</td>\n",
              "    </tr>\n",
              "    <tr>\n",
              "      <td>свадьба</td>\n",
              "      <td>NaN</td>\n",
              "      <td>NaN</td>\n",
              "      <td>NaN</td>\n",
              "      <td>7.9</td>\n",
              "      <td>NaN</td>\n",
              "    </tr>\n",
              "  </tbody>\n",
              "</table>\n",
              "</div>"
            ],
            "text/plain": [
              "family_status         Не женат / не замужем  в разводе  вдовец / вдова  \\\n",
              "lemmas                                                                   \n",
              "авто                                   12.9        7.5             9.2   \n",
              "жилье и недвижимость                    8.1        7.0             5.2   \n",
              "образование                            10.7        7.1             7.5   \n",
              "свадьба                                 NaN        NaN             NaN   \n",
              "\n",
              "family_status         гражданский брак  женат / замужем  \n",
              "lemmas                                                   \n",
              "авто                              11.8              8.3  \n",
              "жилье и недвижимость               9.2              6.9  \n",
              "образование                       14.9              8.3  \n",
              "свадьба                            7.9              NaN  "
            ]
          },
          "metadata": {
            "tags": []
          },
          "execution_count": 33
        }
      ]
    },
    {
      "cell_type": "code",
      "metadata": {
        "id": "D_SL8eT3ybFq",
        "outputId": "48e99354-f798-4dcb-a61b-2b4e2fca45eb"
      },
      "source": [
        "df.pivot_table(index = 'children', values = 'debt', aggfunc=['count', 'sum', 'mean'])"
      ],
      "execution_count": null,
      "outputs": [
        {
          "output_type": "execute_result",
          "data": {
            "text/html": [
              "<div>\n",
              "<style scoped>\n",
              "    .dataframe tbody tr th:only-of-type {\n",
              "        vertical-align: middle;\n",
              "    }\n",
              "\n",
              "    .dataframe tbody tr th {\n",
              "        vertical-align: top;\n",
              "    }\n",
              "\n",
              "    .dataframe thead tr th {\n",
              "        text-align: left;\n",
              "    }\n",
              "\n",
              "    .dataframe thead tr:last-of-type th {\n",
              "        text-align: right;\n",
              "    }\n",
              "</style>\n",
              "<table border=\"1\" class=\"dataframe\">\n",
              "  <thead>\n",
              "    <tr>\n",
              "      <th></th>\n",
              "      <th>count</th>\n",
              "      <th>sum</th>\n",
              "      <th>mean</th>\n",
              "    </tr>\n",
              "    <tr>\n",
              "      <th></th>\n",
              "      <th>debt</th>\n",
              "      <th>debt</th>\n",
              "      <th>debt</th>\n",
              "    </tr>\n",
              "    <tr>\n",
              "      <th>children</th>\n",
              "      <th></th>\n",
              "      <th></th>\n",
              "      <th></th>\n",
              "    </tr>\n",
              "  </thead>\n",
              "  <tbody>\n",
              "    <tr>\n",
              "      <td>0</td>\n",
              "      <td>14149</td>\n",
              "      <td>1063</td>\n",
              "      <td>0.075129</td>\n",
              "    </tr>\n",
              "    <tr>\n",
              "      <td>1</td>\n",
              "      <td>4865</td>\n",
              "      <td>445</td>\n",
              "      <td>0.091470</td>\n",
              "    </tr>\n",
              "    <tr>\n",
              "      <td>2</td>\n",
              "      <td>2131</td>\n",
              "      <td>202</td>\n",
              "      <td>0.094791</td>\n",
              "    </tr>\n",
              "    <tr>\n",
              "      <td>3</td>\n",
              "      <td>330</td>\n",
              "      <td>27</td>\n",
              "      <td>0.081818</td>\n",
              "    </tr>\n",
              "    <tr>\n",
              "      <td>4</td>\n",
              "      <td>41</td>\n",
              "      <td>4</td>\n",
              "      <td>0.097561</td>\n",
              "    </tr>\n",
              "    <tr>\n",
              "      <td>5</td>\n",
              "      <td>9</td>\n",
              "      <td>0</td>\n",
              "      <td>0.000000</td>\n",
              "    </tr>\n",
              "  </tbody>\n",
              "</table>\n",
              "</div>"
            ],
            "text/plain": [
              "          count   sum      mean\n",
              "           debt  debt      debt\n",
              "children                       \n",
              "0         14149  1063  0.075129\n",
              "1          4865   445  0.091470\n",
              "2          2131   202  0.094791\n",
              "3           330    27  0.081818\n",
              "4            41     4  0.097561\n",
              "5             9     0  0.000000"
            ]
          },
          "metadata": {
            "tags": []
          },
          "execution_count": 34
        }
      ]
    },
    {
      "cell_type": "markdown",
      "metadata": {
        "id": "m-TEIp5EybFq"
      },
      "source": [
        "### Вывод"
      ]
    },
    {
      "cell_type": "markdown",
      "metadata": {
        "id": "pB2D_3AUybFr"
      },
      "source": [
        "<font color='green'>Посредством метода Pivot_table мы увидели еще несколько интересных закономерностей в разрезе \"Семейное положение\" к \"Цель кредита\":\n",
        "\n",
        "- Чаще всего должниками по кредиту являются люди в гражданском браке, взявшие кредит на образование.\n",
        "- Чуть менее часто, но все равно часто, должниками являются не женатые/не замужние люди, взявшие кредит на покупку автомобиля.\n",
        "\n",
        "Самыми надежными же заемщиками являются:\n",
        "\n",
        "- Вдовцы/вдовы, взяшие кредит на покупку жилья или недвижимости. Лишь в 5% случаях они попадают в разряд должников.\n",
        "- Вторыми же по надежности являются женатые/замужние люди, так же взяшие кредит на покупку жилья или недвижимости. \n",
        "\n",
        "И важно сделать ремарку, что данные показатели могут быть не совсем точны, так как категория \"Вдовы/Вдовцы\" является самой малочисленной в рамках нашей таблицы, а в следствии разделения на подкатегории в соответствии с \"Цель кредита\" - их количество может стать совсем не репрезентативным. Но от этих данных вполне можно отталкиваться при построении гипотез, которые можно будет проверить уже на более объемных базах. </font>"
      ]
    },
    {
      "cell_type": "markdown",
      "metadata": {
        "id": "SzVlzAIvybFr"
      },
      "source": [
        "### Итоговый вывод"
      ]
    },
    {
      "cell_type": "markdown",
      "metadata": {
        "id": "L_fcz_GCybFr"
      },
      "source": [
        "Был проведен анализ базы данных, в рамках которого мы пришли к следующим выводам:\n",
        "\n",
        "- Наличие детей незначительно влияет на возврат кредита в срок. Отсутствие детей - не значительно, но повышает вероятность возврата кредита в срок. Поэтому если вы - Банк, то лучше выдавать кредиты сторонникам чайлд-фри :)\n",
        "- Семейное положение же оказывает более явное влияние на возврат кредитов в срок. Прошедшие через тяжкий опыт брака (\"Вдовец/Вдова\" и \"В Разводе\") - более надежные ребята и чаще возвращают кредиты в срок. \n",
        "- Заработок также влияет на возврат кредита в срок. И, как ни странно, но самые надежные, в плане своевременных возвратов - это клиенты с заработком сверх 200к в месяц и с заработком до 50к в месяц. \n",
        "- Цель кредита также оказывает существенное влияние на возвращаемость займа в срок. Самые надежные заемщики в категории \"Жилье и Недвижимость\". Самые не надежные: \"Авто\" и \"Образование\".\n",
        "\n",
        "В итоге, если вы - Банк, и вам позарез нужно выдать кредит и вы не хотите рисковать, то выбирайте бездетных вдов/вдовцов с заработком от 200к в месяц, которые желают приобрести недвижимость. Не прогадаете."
      ]
    }
  ]
}