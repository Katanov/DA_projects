{
  "nbformat": 4,
  "nbformat_minor": 0,
  "metadata": {
    "colab": {
      "name": "TestovoeSQL_OK.ipynb",
      "provenance": [],
      "authorship_tag": "ABX9TyNZ1b8IvLhHG/dF6IwFJvy5",
      "include_colab_link": true
    },
    "kernelspec": {
      "display_name": "Python 3",
      "name": "python3"
    },
    "language_info": {
      "name": "python"
    }
  },
  "cells": [
    {
      "cell_type": "markdown",
      "metadata": {
        "id": "view-in-github",
        "colab_type": "text"
      },
      "source": [
        "<a href=\"https://colab.research.google.com/github/Katanov/DA_projects/blob/main/TestovoeSQL_OK.ipynb\" target=\"_parent\"><img src=\"https://colab.research.google.com/assets/colab-badge.svg\" alt=\"Open In Colab\"/></a>"
      ]
    },
    {
      "cell_type": "code",
      "metadata": {
        "id": "2ej740rTcnHC"
      },
      "source": [
        "#!gdown --id 1BSHIKQ7rFw5BpTq5nw1UZfjPK_7Mpnbi\n",
        "#!mv _sqlite3.cpython-37m-x86_64-linux-gnu.so /usr/lib/python3.7/lib-dynload/\n",
        "#import os\n",
        "#os.kill(os.getpid(), 9)"
      ],
      "execution_count": 34,
      "outputs": []
    },
    {
      "cell_type": "code",
      "metadata": {
        "id": "3rNG6WquQUjm"
      },
      "source": [
        "import pandas as pd\n",
        "import numpy as np"
      ],
      "execution_count": 35,
      "outputs": []
    },
    {
      "cell_type": "code",
      "metadata": {
        "id": "SU40dD5MQWuu"
      },
      "source": [
        "import sqlite3"
      ],
      "execution_count": 36,
      "outputs": []
    },
    {
      "cell_type": "code",
      "metadata": {
        "colab": {
          "base_uri": "https://localhost:8080/",
          "height": 35
        },
        "id": "WdX9LsGzQ1F3",
        "outputId": "35efc3bc-f0d2-490d-8bcc-753cfa706454"
      },
      "source": [
        "sqlite3.sqlite_version"
      ],
      "execution_count": 37,
      "outputs": [
        {
          "output_type": "execute_result",
          "data": {
            "application/vnd.google.colaboratory.intrinsic+json": {
              "type": "string"
            },
            "text/plain": [
              "'3.36.0'"
            ]
          },
          "metadata": {},
          "execution_count": 37
        }
      ]
    },
    {
      "cell_type": "code",
      "metadata": {
        "id": "jL7_mx3SRVt4"
      },
      "source": [
        "con = sqlite3.connect('db')"
      ],
      "execution_count": 38,
      "outputs": []
    },
    {
      "cell_type": "markdown",
      "metadata": {
        "id": "BL1sOBjdHqpH"
      },
      "source": [
        "#### Обычная SQL задача 1"
      ]
    },
    {
      "cell_type": "code",
      "metadata": {
        "id": "totYbKem9X0u"
      },
      "source": [
        "df = pd.read_csv('/content/Новая таблица - Departments.csv')\n",
        "df1 = pd.read_csv('/content/Новая таблица - Employees.csv')"
      ],
      "execution_count": 39,
      "outputs": []
    },
    {
      "cell_type": "code",
      "metadata": {
        "id": "Ta0zMaSo9ZRr"
      },
      "source": [
        "df.to_sql('Dep',con,index=False,if_exists='replace')\n",
        "df1.to_sql('Emp',con,index=False,if_exists='replace')"
      ],
      "execution_count": 40,
      "outputs": []
    },
    {
      "cell_type": "code",
      "metadata": {
        "id": "tHwSVebd9Zup"
      },
      "source": [
        "def select(sql):\n",
        "  return pd.read_sql(sql,con)"
      ],
      "execution_count": 41,
      "outputs": []
    },
    {
      "cell_type": "markdown",
      "metadata": {
        "id": "kIrDNVBvJGII"
      },
      "source": [
        "- a) Для каждого сотрудника найти его департамент, включая тех, у кого\n",
        "департамента нет"
      ]
    },
    {
      "cell_type": "code",
      "metadata": {
        "id": "DqtlmROaDXkX"
      },
      "source": [
        "sql = '''\n",
        "select emp.name, dep.name as dep_name from emp\n",
        "left join dep on emp.dep_id = dep.id\n",
        "'''"
      ],
      "execution_count": 62,
      "outputs": []
    },
    {
      "cell_type": "code",
      "metadata": {
        "colab": {
          "base_uri": "https://localhost:8080/",
          "height": 206
        },
        "id": "dRWcJT1-D_Kw",
        "outputId": "4e36958e-73b1-4f39-efbe-76a394d8eb8b"
      },
      "source": [
        "select(sql)"
      ],
      "execution_count": 63,
      "outputs": [
        {
          "output_type": "execute_result",
          "data": {
            "text/html": [
              "<div>\n",
              "<style scoped>\n",
              "    .dataframe tbody tr th:only-of-type {\n",
              "        vertical-align: middle;\n",
              "    }\n",
              "\n",
              "    .dataframe tbody tr th {\n",
              "        vertical-align: top;\n",
              "    }\n",
              "\n",
              "    .dataframe thead th {\n",
              "        text-align: right;\n",
              "    }\n",
              "</style>\n",
              "<table border=\"1\" class=\"dataframe\">\n",
              "  <thead>\n",
              "    <tr style=\"text-align: right;\">\n",
              "      <th></th>\n",
              "      <th>name</th>\n",
              "      <th>dep_name</th>\n",
              "    </tr>\n",
              "  </thead>\n",
              "  <tbody>\n",
              "    <tr>\n",
              "      <th>0</th>\n",
              "      <td>John Smith</td>\n",
              "      <td>Finance</td>\n",
              "    </tr>\n",
              "    <tr>\n",
              "      <th>1</th>\n",
              "      <td>Jack Smith</td>\n",
              "      <td>None</td>\n",
              "    </tr>\n",
              "    <tr>\n",
              "      <th>2</th>\n",
              "      <td>Becky Smith</td>\n",
              "      <td>Finance</td>\n",
              "    </tr>\n",
              "    <tr>\n",
              "      <th>3</th>\n",
              "      <td>Rebecca Smith</td>\n",
              "      <td>Operations</td>\n",
              "    </tr>\n",
              "    <tr>\n",
              "      <th>4</th>\n",
              "      <td>Sonny Smith</td>\n",
              "      <td>Deployment</td>\n",
              "    </tr>\n",
              "  </tbody>\n",
              "</table>\n",
              "</div>"
            ],
            "text/plain": [
              "            name    dep_name\n",
              "0     John Smith     Finance\n",
              "1     Jack Smith        None\n",
              "2    Becky Smith     Finance\n",
              "3  Rebecca Smith  Operations\n",
              "4    Sonny Smith  Deployment"
            ]
          },
          "metadata": {},
          "execution_count": 63
        }
      ]
    },
    {
      "cell_type": "markdown",
      "metadata": {
        "id": "NgKBnyMSINSq"
      },
      "source": [
        "Данных мало, но можно предположить, что определить отдел можно по manager_id. У первого и второго отдела - всегда второй менеджер. А у третьего отдела - первый. В таком случае решение будет выглядть чуть-чуть иначе:"
      ]
    },
    {
      "cell_type": "code",
      "metadata": {
        "id": "TOAKOwtQFzsM"
      },
      "source": [
        "sql = '''\n",
        "with real_deal as\n",
        "(select distinct dep_id, Manager_id from emp\n",
        "where dep_id not null and Manager_id not null ),\n",
        "\n",
        "fin as \n",
        "(select *,\n",
        "COALESCE (Dep_id, (select dep_id from real_deal\n",
        "where real_deal.manager_id = emp.manager_id\n",
        ")) as department\n",
        "from emp)\n",
        "\n",
        "select fin.name, dep.name from fin\n",
        "left join dep on fin.department = dep.id\n",
        "'''"
      ],
      "execution_count": 44,
      "outputs": []
    },
    {
      "cell_type": "code",
      "metadata": {
        "colab": {
          "base_uri": "https://localhost:8080/",
          "height": 206
        },
        "id": "RaK2-3jPFzsN",
        "outputId": "ada7bc26-5baa-4f8f-c04d-7def2b35017c"
      },
      "source": [
        "select(sql)"
      ],
      "execution_count": 45,
      "outputs": [
        {
          "output_type": "execute_result",
          "data": {
            "text/html": [
              "<div>\n",
              "<style scoped>\n",
              "    .dataframe tbody tr th:only-of-type {\n",
              "        vertical-align: middle;\n",
              "    }\n",
              "\n",
              "    .dataframe tbody tr th {\n",
              "        vertical-align: top;\n",
              "    }\n",
              "\n",
              "    .dataframe thead th {\n",
              "        text-align: right;\n",
              "    }\n",
              "</style>\n",
              "<table border=\"1\" class=\"dataframe\">\n",
              "  <thead>\n",
              "    <tr style=\"text-align: right;\">\n",
              "      <th></th>\n",
              "      <th>name</th>\n",
              "      <th>name</th>\n",
              "    </tr>\n",
              "  </thead>\n",
              "  <tbody>\n",
              "    <tr>\n",
              "      <th>0</th>\n",
              "      <td>John Smith</td>\n",
              "      <td>Finance</td>\n",
              "    </tr>\n",
              "    <tr>\n",
              "      <th>1</th>\n",
              "      <td>Jack Smith</td>\n",
              "      <td>Deployment</td>\n",
              "    </tr>\n",
              "    <tr>\n",
              "      <th>2</th>\n",
              "      <td>Becky Smith</td>\n",
              "      <td>Finance</td>\n",
              "    </tr>\n",
              "    <tr>\n",
              "      <th>3</th>\n",
              "      <td>Rebecca Smith</td>\n",
              "      <td>Operations</td>\n",
              "    </tr>\n",
              "    <tr>\n",
              "      <th>4</th>\n",
              "      <td>Sonny Smith</td>\n",
              "      <td>Deployment</td>\n",
              "    </tr>\n",
              "  </tbody>\n",
              "</table>\n",
              "</div>"
            ],
            "text/plain": [
              "            name        name\n",
              "0     John Smith     Finance\n",
              "1     Jack Smith  Deployment\n",
              "2    Becky Smith     Finance\n",
              "3  Rebecca Smith  Operations\n",
              "4    Sonny Smith  Deployment"
            ]
          },
          "metadata": {},
          "execution_count": 45
        }
      ]
    },
    {
      "cell_type": "markdown",
      "metadata": {
        "id": "zPcGhRQJImYo"
      },
      "source": [
        "- b) Найти наибольшую зарплату по департаментам и отсортировать\n",
        "департаменты по убыванию максимальной зарплаты"
      ]
    },
    {
      "cell_type": "code",
      "metadata": {
        "id": "DH0cA3I8EA2E"
      },
      "source": [
        "sql = '''\n",
        "select dep.name, max(salary) as max_sal from emp\n",
        "left join dep on emp.dep_id = dep.id\n",
        "group by dep.name\n",
        "order by max_sal desc\n",
        "'''"
      ],
      "execution_count": 46,
      "outputs": []
    },
    {
      "cell_type": "code",
      "metadata": {
        "colab": {
          "base_uri": "https://localhost:8080/",
          "height": 174
        },
        "id": "3CrDVvTnFH7h",
        "outputId": "3c1d16d5-8c82-447a-f103-a9becc756433"
      },
      "source": [
        "select(sql)"
      ],
      "execution_count": 47,
      "outputs": [
        {
          "output_type": "execute_result",
          "data": {
            "text/html": [
              "<div>\n",
              "<style scoped>\n",
              "    .dataframe tbody tr th:only-of-type {\n",
              "        vertical-align: middle;\n",
              "    }\n",
              "\n",
              "    .dataframe tbody tr th {\n",
              "        vertical-align: top;\n",
              "    }\n",
              "\n",
              "    .dataframe thead th {\n",
              "        text-align: right;\n",
              "    }\n",
              "</style>\n",
              "<table border=\"1\" class=\"dataframe\">\n",
              "  <thead>\n",
              "    <tr style=\"text-align: right;\">\n",
              "      <th></th>\n",
              "      <th>name</th>\n",
              "      <th>max_sal</th>\n",
              "    </tr>\n",
              "  </thead>\n",
              "  <tbody>\n",
              "    <tr>\n",
              "      <th>0</th>\n",
              "      <td>Deployment</td>\n",
              "      <td>3000</td>\n",
              "    </tr>\n",
              "    <tr>\n",
              "      <th>1</th>\n",
              "      <td>Finance</td>\n",
              "      <td>2000</td>\n",
              "    </tr>\n",
              "    <tr>\n",
              "      <th>2</th>\n",
              "      <td>None</td>\n",
              "      <td>1500</td>\n",
              "    </tr>\n",
              "    <tr>\n",
              "      <th>3</th>\n",
              "      <td>Operations</td>\n",
              "      <td>700</td>\n",
              "    </tr>\n",
              "  </tbody>\n",
              "</table>\n",
              "</div>"
            ],
            "text/plain": [
              "         name  max_sal\n",
              "0  Deployment     3000\n",
              "1     Finance     2000\n",
              "2        None     1500\n",
              "3  Operations      700"
            ]
          },
          "metadata": {},
          "execution_count": 47
        }
      ]
    },
    {
      "cell_type": "markdown",
      "metadata": {
        "id": "cggpd8mxJCbJ"
      },
      "source": [
        "#### Обычная SQL задача 2"
      ]
    },
    {
      "cell_type": "code",
      "metadata": {
        "id": "wi_BJ-EyNSSJ"
      },
      "source": [
        "df2 = pd.read_csv('/content/Новая таблица - Purchases.csv')"
      ],
      "execution_count": 48,
      "outputs": []
    },
    {
      "cell_type": "code",
      "metadata": {
        "id": "85nkUCP0NSSK"
      },
      "source": [
        "df2.to_sql('pur',con,index=False,if_exists='replace')"
      ],
      "execution_count": 49,
      "outputs": []
    },
    {
      "cell_type": "markdown",
      "metadata": {
        "id": "pv-Wr4ieJLEJ"
      },
      "source": [
        "- a) Посчитай доход с женской аудитории (доход= сумма price*items)"
      ]
    },
    {
      "cell_type": "code",
      "metadata": {
        "id": "SOvWGMGCOFII"
      },
      "source": [
        "sql = '''\n",
        "select sum(items * price) as rev from pur\n",
        "where user_gender like 'f%'\n",
        "'''"
      ],
      "execution_count": 50,
      "outputs": []
    },
    {
      "cell_type": "code",
      "metadata": {
        "colab": {
          "base_uri": "https://localhost:8080/",
          "height": 81
        },
        "id": "EE--lsaqOLRD",
        "outputId": "5ae9b664-48a4-4959-bd99-4414b2eff67e"
      },
      "source": [
        "select (sql)"
      ],
      "execution_count": 51,
      "outputs": [
        {
          "output_type": "execute_result",
          "data": {
            "text/html": [
              "<div>\n",
              "<style scoped>\n",
              "    .dataframe tbody tr th:only-of-type {\n",
              "        vertical-align: middle;\n",
              "    }\n",
              "\n",
              "    .dataframe tbody tr th {\n",
              "        vertical-align: top;\n",
              "    }\n",
              "\n",
              "    .dataframe thead th {\n",
              "        text-align: right;\n",
              "    }\n",
              "</style>\n",
              "<table border=\"1\" class=\"dataframe\">\n",
              "  <thead>\n",
              "    <tr style=\"text-align: right;\">\n",
              "      <th></th>\n",
              "      <th>rev</th>\n",
              "    </tr>\n",
              "  </thead>\n",
              "  <tbody>\n",
              "    <tr>\n",
              "      <th>0</th>\n",
              "      <td>500</td>\n",
              "    </tr>\n",
              "  </tbody>\n",
              "</table>\n",
              "</div>"
            ],
            "text/plain": [
              "   rev\n",
              "0  500"
            ]
          },
          "metadata": {},
          "execution_count": 51
        }
      ]
    },
    {
      "cell_type": "markdown",
      "metadata": {
        "id": "GeKxS8_TJeVp"
      },
      "source": [
        "- b) Сравни доход по группе мужчин и женщин"
      ]
    },
    {
      "cell_type": "code",
      "metadata": {
        "id": "ObaELQEAPI-2"
      },
      "source": [
        "sql = '''\n",
        "select case when user_gender like 'f%' then \"female\" else \"male\" end as real_gender,\n",
        "sum(items * price) as rev from pur\n",
        "group by real_gender\n",
        "'''"
      ],
      "execution_count": 52,
      "outputs": []
    },
    {
      "cell_type": "code",
      "metadata": {
        "colab": {
          "base_uri": "https://localhost:8080/",
          "height": 112
        },
        "id": "X02gOaFTPI-2",
        "outputId": "b092f0f6-25f4-4ce6-b781-ca8bb1f1a9a9"
      },
      "source": [
        "select (sql)"
      ],
      "execution_count": 53,
      "outputs": [
        {
          "output_type": "execute_result",
          "data": {
            "text/html": [
              "<div>\n",
              "<style scoped>\n",
              "    .dataframe tbody tr th:only-of-type {\n",
              "        vertical-align: middle;\n",
              "    }\n",
              "\n",
              "    .dataframe tbody tr th {\n",
              "        vertical-align: top;\n",
              "    }\n",
              "\n",
              "    .dataframe thead th {\n",
              "        text-align: right;\n",
              "    }\n",
              "</style>\n",
              "<table border=\"1\" class=\"dataframe\">\n",
              "  <thead>\n",
              "    <tr style=\"text-align: right;\">\n",
              "      <th></th>\n",
              "      <th>real_gender</th>\n",
              "      <th>rev</th>\n",
              "    </tr>\n",
              "  </thead>\n",
              "  <tbody>\n",
              "    <tr>\n",
              "      <th>0</th>\n",
              "      <td>female</td>\n",
              "      <td>500</td>\n",
              "    </tr>\n",
              "    <tr>\n",
              "      <th>1</th>\n",
              "      <td>male</td>\n",
              "      <td>200</td>\n",
              "    </tr>\n",
              "  </tbody>\n",
              "</table>\n",
              "</div>"
            ],
            "text/plain": [
              "  real_gender  rev\n",
              "0      female  500\n",
              "1        male  200"
            ]
          },
          "metadata": {},
          "execution_count": 53
        }
      ]
    },
    {
      "cell_type": "markdown",
      "metadata": {
        "id": "TJFw-xZAJnAN"
      },
      "source": [
        "- c) Посчитай кол-во уникальных пользователей-мужчин, заказавших более чем три айтема (суммарно за все заказы)."
      ]
    },
    {
      "cell_type": "code",
      "metadata": {
        "id": "Bp0LtzENPHG2"
      },
      "source": [
        "sql = '''\n",
        "select count (distinct user_id) as cnt,\n",
        "case when user_gender like 'f%' then \"female\" else \"male\" end as real_gender\n",
        "-- sum(items) as sum_items\n",
        "from pur\n",
        "where real_gender == \"male\"\n",
        "group by real_gender\n",
        "having sum(items) >= 2\n",
        "'''"
      ],
      "execution_count": 54,
      "outputs": []
    },
    {
      "cell_type": "code",
      "metadata": {
        "colab": {
          "base_uri": "https://localhost:8080/",
          "height": 81
        },
        "id": "5C7qWewzPHh7",
        "outputId": "5a52d388-b7de-4799-c099-f62d2742d059"
      },
      "source": [
        "select (sql)"
      ],
      "execution_count": 55,
      "outputs": [
        {
          "output_type": "execute_result",
          "data": {
            "text/html": [
              "<div>\n",
              "<style scoped>\n",
              "    .dataframe tbody tr th:only-of-type {\n",
              "        vertical-align: middle;\n",
              "    }\n",
              "\n",
              "    .dataframe tbody tr th {\n",
              "        vertical-align: top;\n",
              "    }\n",
              "\n",
              "    .dataframe thead th {\n",
              "        text-align: right;\n",
              "    }\n",
              "</style>\n",
              "<table border=\"1\" class=\"dataframe\">\n",
              "  <thead>\n",
              "    <tr style=\"text-align: right;\">\n",
              "      <th></th>\n",
              "      <th>cnt</th>\n",
              "      <th>real_gender</th>\n",
              "    </tr>\n",
              "  </thead>\n",
              "  <tbody>\n",
              "    <tr>\n",
              "      <th>0</th>\n",
              "      <td>2</td>\n",
              "      <td>male</td>\n",
              "    </tr>\n",
              "  </tbody>\n",
              "</table>\n",
              "</div>"
            ],
            "text/plain": [
              "   cnt real_gender\n",
              "0    2        male"
            ]
          },
          "metadata": {},
          "execution_count": 55
        }
      ]
    },
    {
      "cell_type": "markdown",
      "metadata": {
        "id": "V9C7SbUXKa7N"
      },
      "source": [
        "В запросе указал больше или равно двух айтемов (вместо трех по условию), чтобы запрос выдал хоть какой-то результат :)"
      ]
    },
    {
      "cell_type": "markdown",
      "metadata": {
        "id": "hO-zg6uPKohv"
      },
      "source": [
        "#### Не самая обычная SQL задача 3\n",
        "\n",
        "Каждый пользователь имеет набор транзакций с определенным\n",
        "временем. \n",
        "- Используя таблицы выше, напиши НАИБОЛЕЕ ОПТИМАЛЬНЫЕ\n",
        "SQL запросы:"
      ]
    },
    {
      "cell_type": "code",
      "metadata": {
        "id": "qLbYi6aUXTrR"
      },
      "source": [
        "df3 = pd.read_csv('/content/Новая таблица - Transactions.csv')"
      ],
      "execution_count": 56,
      "outputs": []
    },
    {
      "cell_type": "code",
      "metadata": {
        "id": "8qpx1800XTrT"
      },
      "source": [
        "df3.to_sql('tran',con,index=False,if_exists='replace')"
      ],
      "execution_count": 57,
      "outputs": []
    },
    {
      "cell_type": "markdown",
      "metadata": {
        "id": "5DNOvGXuKw0I"
      },
      "source": [
        "- a) Выведи для каждого пользователя первое наименование, которое он\n",
        "заказал (первое по времени транзакции)"
      ]
    },
    {
      "cell_type": "code",
      "metadata": {
        "id": "nyD9ECpvXqBC"
      },
      "source": [
        "sql = '''\n",
        "select user_id, item from tran\n",
        "group by user_id\n",
        "order by min(transaction_ts)\n",
        "'''"
      ],
      "execution_count": 58,
      "outputs": []
    },
    {
      "cell_type": "code",
      "metadata": {
        "colab": {
          "base_uri": "https://localhost:8080/",
          "height": 112
        },
        "id": "xqwxWNNKXqBD",
        "outputId": "836f13db-1b1d-4758-9e78-e768fa513020"
      },
      "source": [
        "select(sql)"
      ],
      "execution_count": 59,
      "outputs": [
        {
          "output_type": "execute_result",
          "data": {
            "text/html": [
              "<div>\n",
              "<style scoped>\n",
              "    .dataframe tbody tr th:only-of-type {\n",
              "        vertical-align: middle;\n",
              "    }\n",
              "\n",
              "    .dataframe tbody tr th {\n",
              "        vertical-align: top;\n",
              "    }\n",
              "\n",
              "    .dataframe thead th {\n",
              "        text-align: right;\n",
              "    }\n",
              "</style>\n",
              "<table border=\"1\" class=\"dataframe\">\n",
              "  <thead>\n",
              "    <tr style=\"text-align: right;\">\n",
              "      <th></th>\n",
              "      <th>user_id</th>\n",
              "      <th>item</th>\n",
              "    </tr>\n",
              "  </thead>\n",
              "  <tbody>\n",
              "    <tr>\n",
              "      <th>0</th>\n",
              "      <td>3378024101</td>\n",
              "      <td>dress</td>\n",
              "    </tr>\n",
              "    <tr>\n",
              "      <th>1</th>\n",
              "      <td>13811335</td>\n",
              "      <td>glove</td>\n",
              "    </tr>\n",
              "  </tbody>\n",
              "</table>\n",
              "</div>"
            ],
            "text/plain": [
              "      user_id   item\n",
              "0  3378024101  dress\n",
              "1    13811335  glove"
            ]
          },
          "metadata": {},
          "execution_count": 59
        }
      ]
    },
    {
      "cell_type": "markdown",
      "metadata": {
        "id": "ix6Cs8IlK5ZI"
      },
      "source": [
        "- b) Посчитай сколько транзакций в среднем делает каждый пользователь\n",
        "в течении 72х часов с момента первой транзакции"
      ]
    },
    {
      "cell_type": "code",
      "metadata": {
        "id": "UqyYe0T7eCie"
      },
      "source": [
        "sql = '''\n",
        "select avg(cnt) from\n",
        "(select count(*) as cnt, t.user_id\n",
        "from tran t\n",
        "where t.transaction_ts > (select min(transaction_ts) from tran where t.user_id = user_id)\n",
        "and t.transaction_ts < (select datetime(min(transaction_ts), '+72 hours') from tran where t.user_id = user_id)\n",
        "group by t.user_id)\n",
        "'''"
      ],
      "execution_count": 60,
      "outputs": []
    },
    {
      "cell_type": "code",
      "metadata": {
        "colab": {
          "base_uri": "https://localhost:8080/",
          "height": 81
        },
        "id": "MG4Y_UB4axHr",
        "outputId": "9e1bffdc-61b1-43dc-f8de-ea7ef62a05c3"
      },
      "source": [
        "select(sql)"
      ],
      "execution_count": 61,
      "outputs": [
        {
          "output_type": "execute_result",
          "data": {
            "text/html": [
              "<div>\n",
              "<style scoped>\n",
              "    .dataframe tbody tr th:only-of-type {\n",
              "        vertical-align: middle;\n",
              "    }\n",
              "\n",
              "    .dataframe tbody tr th {\n",
              "        vertical-align: top;\n",
              "    }\n",
              "\n",
              "    .dataframe thead th {\n",
              "        text-align: right;\n",
              "    }\n",
              "</style>\n",
              "<table border=\"1\" class=\"dataframe\">\n",
              "  <thead>\n",
              "    <tr style=\"text-align: right;\">\n",
              "      <th></th>\n",
              "      <th>avg(cnt)</th>\n",
              "    </tr>\n",
              "  </thead>\n",
              "  <tbody>\n",
              "    <tr>\n",
              "      <th>0</th>\n",
              "      <td>3.5</td>\n",
              "    </tr>\n",
              "  </tbody>\n",
              "</table>\n",
              "</div>"
            ],
            "text/plain": [
              "   avg(cnt)\n",
              "0       3.5"
            ]
          },
          "metadata": {},
          "execution_count": 61
        }
      ]
    }
  ]
}